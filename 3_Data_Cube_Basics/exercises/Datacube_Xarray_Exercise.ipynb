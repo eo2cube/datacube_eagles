{
 "cells": [
  {
   "cell_type": "markdown",
   "id": "4aa999df-3d73-46e1-b0d0-afbe02111f45",
   "metadata": {},
   "source": [
    "<img align=\"right\" src=\"../../additional_data/banner_siegel.png\" style=\"width:1100px;\">"
   ]
  },
  {
   "cell_type": "markdown",
   "id": "79a7d8d0-ff22-4d22-b7b2-9ccdff3aed79",
   "metadata": {},
   "source": [
    "# Exercise on xarray\n",
    "\n",
    "* [**Sign up to the JupyterHub**](https://www.phenocube.org/) to run this notebook interactively from your browser\n",
    "* **Compatibility:** Notebook currently compatible with the Open Data Cube environments of the University of Wuerzburg\n",
    "\n",
    "This is the exercise for using xarray library in the open data cube environment. In this exercise, you will practice how to collect Sentinel-2 data and perform basic ananlysis in Python. Our test area is in Munich."
   ]
  },
  {
   "cell_type": "markdown",
   "id": "fcdf1b79-6671-47f7-b50d-038a1ab803cd",
   "metadata": {},
   "source": [
    "## Set Up Environment\n",
    "\n",
    "Let's first set up the environment on your own. You need to import all libraries that is need for running a data cube, as well as other libraries such as Pandas, Geopandas and Numpy. Connect the environment to data cube."
   ]
  },
  {
   "cell_type": "code",
   "execution_count": null,
   "id": "b2595b6e-039e-43c9-bb7c-614068b89221",
   "metadata": {},
   "outputs": [],
   "source": []
  },
  {
   "cell_type": "markdown",
   "id": "3b941320-dffa-401a-b848-964b9eb920f3",
   "metadata": {},
   "source": [
    "Read the shapfile calles sample_area.shp into geopandas and extract the bounding box ccordinates. Additionally you can use the pandas explore() to have a first look at the study region"
   ]
  },
  {
   "cell_type": "code",
   "execution_count": null,
   "id": "f49bf934-0661-439d-bfd4-729d80061d8a",
   "metadata": {},
   "outputs": [],
   "source": []
  },
  {
   "cell_type": "markdown",
   "id": "861dc46b-a239-4712-bfe3-3b9433cb44ec",
   "metadata": {},
   "source": [
    "## Load Data\n",
    "\n",
    "Now, let's load our data. Please load data product \"s2_l2a\" with bands \"blue\", \"green\", \"red\", and \"nir\". "
   ]
  },
  {
   "cell_type": "code",
   "execution_count": null,
   "id": "494ab9ad-6f12-4e53-8446-536de858a742",
   "metadata": {
    "tags": []
   },
   "outputs": [],
   "source": []
  },
  {
   "cell_type": "markdown",
   "id": "34def889-cc26-4323-b5b5-4de9d9250aa0",
   "metadata": {},
   "source": [
    "## Try to check if the CRS is right"
   ]
  },
  {
   "cell_type": "code",
   "execution_count": null,
   "id": "6fbe1261-e1b1-4347-ac5d-eaf5998d98f8",
   "metadata": {},
   "outputs": [],
   "source": []
  },
  {
   "cell_type": "markdown",
   "id": "4f6081c3-7197-4887-bcd1-6b545c102593",
   "metadata": {},
   "source": [
    "## First Visualization"
   ]
  },
  {
   "cell_type": "markdown",
   "id": "ccd1f8ef-4734-4665-af9c-e8f09be84948",
   "metadata": {},
   "source": [
    "Please try to plot a histogram of the blue band across all time steps."
   ]
  },
  {
   "cell_type": "code",
   "execution_count": null,
   "id": "861ae1f6-5190-4b66-aed4-e1cba395a21d",
   "metadata": {},
   "outputs": [],
   "source": []
  },
  {
   "cell_type": "markdown",
   "id": "5fc8f405-3216-47f7-af9a-dc0523194abe",
   "metadata": {},
   "source": [
    "Create a facetplot showing the greyscale values of the red band between 2020-07-03 - 2020-07-20"
   ]
  },
  {
   "cell_type": "code",
   "execution_count": null,
   "id": "58393dc8-7ccd-4229-8c7e-73deed109d30",
   "metadata": {},
   "outputs": [],
   "source": []
  },
  {
   "cell_type": "markdown",
   "id": "b6a35ba8-42ae-4299-b750-55d97bffc074",
   "metadata": {},
   "source": [
    "Create the same facetplot but in RGB. Have a look at the rgb() function and try to change a few settings"
   ]
  },
  {
   "cell_type": "code",
   "execution_count": null,
   "id": "e364edb5-510d-4acf-8bcb-88a27b0a25fc",
   "metadata": {},
   "outputs": [],
   "source": []
  },
  {
   "cell_type": "markdown",
   "id": "c2f009f5-c311-4864-a4be-cfacb8b7ab72",
   "metadata": {},
   "source": [
    "## Statistics\n",
    "\n",
    "Please try to compute monthly median of the blue band for the whole scene. To do so, reduce the whole scene of a single time step to a single value."
   ]
  },
  {
   "cell_type": "code",
   "execution_count": null,
   "id": "534c07a3-c910-479f-8960-6e8b3754ce96",
   "metadata": {},
   "outputs": [],
   "source": []
  },
  {
   "cell_type": "markdown",
   "id": "8783d5dc-eede-45db-9b3c-6da4ca11092f",
   "metadata": {},
   "source": [
    "Please find out in what months are the data collected."
   ]
  },
  {
   "cell_type": "code",
   "execution_count": null,
   "id": "be3d8be1-b188-4b78-9648-c574ae800eb0",
   "metadata": {},
   "outputs": [],
   "source": []
  },
  {
   "cell_type": "markdown",
   "id": "6e568193-89aa-4af1-9507-850da62b372c",
   "metadata": {},
   "source": [
    "And what days are they collected?"
   ]
  },
  {
   "cell_type": "code",
   "execution_count": null,
   "id": "2eeb525b-11e0-4684-ba39-e9f5f791d120",
   "metadata": {},
   "outputs": [],
   "source": []
  },
  {
   "cell_type": "markdown",
   "id": "163bae74-74f2-4f59-bdee-05085d0c008c",
   "metadata": {},
   "source": [
    "## NDVI time series\n",
    "Plese try to add a NDVI band into the dataset using the formula **NDVI = (NIR - RED)/(NIR + RED)**."
   ]
  },
  {
   "cell_type": "code",
   "execution_count": 24,
   "id": "f52aff40-cdaa-4c28-85bd-fd391120d104",
   "metadata": {},
   "outputs": [],
   "source": []
  },
  {
   "cell_type": "markdown",
   "id": "632e843d-f9b2-4350-bd1d-2716e5097950",
   "metadata": {},
   "source": [
    "Try to plot a time series of NDVI median for the whole scene."
   ]
  },
  {
   "cell_type": "code",
   "execution_count": null,
   "id": "acde7e8f-d9d6-4819-be26-c023f35a5eea",
   "metadata": {},
   "outputs": [],
   "source": []
  },
  {
   "cell_type": "markdown",
   "id": "22ad22a0-de18-491c-a791-d35a358ca964",
   "metadata": {},
   "source": [
    "Please plot the NDVI using imagery from **2020-06-03** as a 2D plot."
   ]
  },
  {
   "cell_type": "code",
   "execution_count": null,
   "id": "1d230ea8-edd6-40ce-b41b-e2b658edf5c0",
   "metadata": {},
   "outputs": [],
   "source": []
  },
  {
   "cell_type": "markdown",
   "id": "d1034601-b533-43e5-bfb2-4a179ac26b27",
   "metadata": {},
   "source": [
    "Now, mask the pixels with NDVI higher than 0.7 only."
   ]
  },
  {
   "cell_type": "code",
   "execution_count": null,
   "id": "f215fc09-6c35-4ad0-8679-6684ed9a9dda",
   "metadata": {},
   "outputs": [],
   "source": []
  },
  {
   "cell_type": "markdown",
   "id": "a14168dc-e725-4049-9da0-d3fc9bafb7fb",
   "metadata": {},
   "source": [
    "Try to get the coordinates with NDVI higher than 0.7, and put x and y into two columns of a Pandas data frame."
   ]
  },
  {
   "cell_type": "code",
   "execution_count": null,
   "id": "8902d04f-1caa-4f77-aff7-40ef5f5a787c",
   "metadata": {},
   "outputs": [],
   "source": []
  },
  {
   "cell_type": "markdown",
   "id": "17ed0314-6e2b-41c9-91fb-7a2ff5c7b65b",
   "metadata": {},
   "source": [
    "Try to remap NDVI into four class:\n",
    "\n",
    "**0: NDVI < 0.3 - Non-vegetation**\n",
    "\n",
    "**1: 0.3 < NDVI < 0.5 - Very sparse vegetation**\n",
    "\n",
    "**2: 0.5 < NDVI < 0.7 - Sparse vegetation**\n",
    "\n",
    "**3: NDVI > 0.7 - Dense vegetation**\n",
    "\n",
    "Add the class into a new variable **ndvi_class** in the xarray data frame."
   ]
  },
  {
   "cell_type": "code",
   "execution_count": null,
   "id": "d429c485-aca7-4990-922d-811132d209e1",
   "metadata": {
    "tags": []
   },
   "outputs": [],
   "source": []
  },
  {
   "cell_type": "markdown",
   "id": "cdbed48e-4b60-4201-bad5-4788e7fb9ad8",
   "metadata": {},
   "source": [
    "Visualize this newly created NDVI class using the first time step."
   ]
  },
  {
   "cell_type": "code",
   "execution_count": null,
   "id": "eeb0cde4-42fb-45c7-93f9-2c1dbc1df3e2",
   "metadata": {},
   "outputs": [],
   "source": []
  },
  {
   "cell_type": "markdown",
   "id": "5b3adbda-a2bc-4253-be2a-3d261b8e660a",
   "metadata": {},
   "source": [
    "## Unsupervised Classification\n",
    " \n",
    "Now use the single scene from **2020-06-03**. Please try to use the RGB bands of the scene to cluster the pixels into 5 different groups. Plot the result afterwards.\n",
    "\n",
    "The required libraries are imported for you."
   ]
  },
  {
   "cell_type": "code",
   "execution_count": 58,
   "id": "7b4a8fed-5022-4ecc-8502-bfe1a21e6174",
   "metadata": {},
   "outputs": [],
   "source": [
    "from sklearn.cluster import KMeans\n",
    "import numpy as np\n",
    "import matplotlib.pyplot as plt\n",
    "import numpy as np"
   ]
  }
 ],
 "metadata": {
  "kernelspec": {
   "display_name": "Python 3 (ipykernel)",
   "language": "python",
   "name": "python3"
  },
  "language_info": {
   "codemirror_mode": {
    "name": "ipython",
    "version": 3
   },
   "file_extension": ".py",
   "mimetype": "text/x-python",
   "name": "python",
   "nbconvert_exporter": "python",
   "pygments_lexer": "ipython3",
   "version": "3.9.7"
  },
  "toc": {
   "base_numbering": 1,
   "nav_menu": {},
   "number_sections": true,
   "sideBar": true,
   "skip_h1_title": false,
   "title_cell": "Table of Contents",
   "title_sidebar": "Contents",
   "toc_cell": false,
   "toc_position": {},
   "toc_section_display": true,
   "toc_window_display": false
  }
 },
 "nbformat": 4,
 "nbformat_minor": 5
}

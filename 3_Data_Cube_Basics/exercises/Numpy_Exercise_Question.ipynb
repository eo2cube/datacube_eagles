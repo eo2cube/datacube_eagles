{
 "cells": [
  {
   "cell_type": "markdown",
   "id": "baeab745",
   "metadata": {},
   "source": [
    "# Exercise on xarray\n",
    "\n",
    "* [**Sign up to the JupyterHub**](https://www.phenocube.org/) to run this notebook interactively from your browser\n",
    "* **Compatibility:** Notebook currently compatible with the Open Data Cube environments of the University of Wuerzburg\n",
    "\n",
    "This is the exercise for using xarray library in the open data cube environment. In this exercise, you will practice how to collect Sentinel-2 data and perform basic ananlysis in Python. Our test area is in Munich."
   ]
  },
  {
   "cell_type": "markdown",
   "id": "ff28c9c7",
   "metadata": {},
   "source": [
    "## Set Up Environment\n",
    "\n",
    "Let's first set up the environment on your own. You need to import libraries Numpy and matplotlib. Connect the environment to data cube."
   ]
  },
  {
   "cell_type": "code",
   "execution_count": null,
   "id": "a598a8f4",
   "metadata": {},
   "outputs": [],
   "source": []
  },
  {
   "cell_type": "markdown",
   "id": "a583abd0",
   "metadata": {},
   "source": [
    "The following numpy arrays are provided for you."
   ]
  },
  {
   "cell_type": "code",
   "execution_count": null,
   "id": "9b9a695a",
   "metadata": {},
   "outputs": [],
   "source": []
  },
  {
   "cell_type": "markdown",
   "id": "d9f5c00d",
   "metadata": {},
   "source": [
    "Please plot the third layer (ly3) as a 2D plot."
   ]
  },
  {
   "cell_type": "code",
   "execution_count": null,
   "id": "e4481491",
   "metadata": {},
   "outputs": [],
   "source": []
  },
  {
   "cell_type": "markdown",
   "id": "0f728a01",
   "metadata": {},
   "source": [
    "Please check the shape of the first layer (ly1)."
   ]
  },
  {
   "cell_type": "code",
   "execution_count": null,
   "id": "028e1efd",
   "metadata": {},
   "outputs": [],
   "source": []
  },
  {
   "cell_type": "markdown",
   "id": "74ad4ac7",
   "metadata": {},
   "source": [
    "Please put all payers into a stack. Check the shape of the stack when you are finished."
   ]
  },
  {
   "cell_type": "code",
   "execution_count": null,
   "id": "16a29feb",
   "metadata": {},
   "outputs": [],
   "source": []
  },
  {
   "cell_type": "markdown",
   "id": "71414d32",
   "metadata": {},
   "source": [
    "Let create a new numpy array. The values of this array are the sum of all layers. Plot this layer in a 2D plot."
   ]
  },
  {
   "cell_type": "code",
   "execution_count": null,
   "id": "da5802b5",
   "metadata": {},
   "outputs": [],
   "source": []
  },
  {
   "cell_type": "code",
   "execution_count": null,
   "id": "01694040",
   "metadata": {},
   "outputs": [],
   "source": []
  },
  {
   "cell_type": "markdown",
   "id": "9526c63c",
   "metadata": {},
   "source": [
    "Calculate the mean, minimum, and maximum of the all the pixels in the sum layer."
   ]
  },
  {
   "cell_type": "code",
   "execution_count": null,
   "id": "d944ecbc",
   "metadata": {},
   "outputs": [],
   "source": []
  },
  {
   "cell_type": "markdown",
   "id": "1db032d5",
   "metadata": {},
   "source": [
    "Create a new binary array. The value of this array is defined by if the sum layer is larger than 2. For the pixels where sum layer is larger than 2, the pixels will be indicated by 1, otherwise it is indicated by 0. Plot the result."
   ]
  },
  {
   "cell_type": "code",
   "execution_count": null,
   "id": "b38ae0f4",
   "metadata": {},
   "outputs": [],
   "source": []
  },
  {
   "cell_type": "markdown",
   "id": "71163a62",
   "metadata": {},
   "source": [
    "Create a new array just like the binary array. Then change the first 150 rows and columns to 2. Plot the result."
   ]
  },
  {
   "cell_type": "code",
   "execution_count": null,
   "id": "24119cdf",
   "metadata": {},
   "outputs": [],
   "source": []
  },
  {
   "cell_type": "markdown",
   "id": "f0406f5d",
   "metadata": {},
   "source": [
    "Use gaussian_filter() to filter the array above with sigma set to 1."
   ]
  },
  {
   "cell_type": "code",
   "execution_count": 39,
   "id": "5ac042e9",
   "metadata": {},
   "outputs": [],
   "source": [
    "from scipy.ndimage import gaussian_filter"
   ]
  },
  {
   "cell_type": "code",
   "execution_count": null,
   "id": "78fc76ec",
   "metadata": {},
   "outputs": [],
   "source": []
  },
  {
   "cell_type": "markdown",
   "id": "ebcb62c7",
   "metadata": {},
   "source": [
    "Get the index (x and y) where the filtered array has values larger than 1."
   ]
  },
  {
   "cell_type": "code",
   "execution_count": null,
   "id": "2caf25fe",
   "metadata": {},
   "outputs": [],
   "source": []
  },
  {
   "cell_type": "code",
   "execution_count": null,
   "id": "77126f08",
   "metadata": {},
   "outputs": [],
   "source": []
  }
 ],
 "metadata": {
  "kernelspec": {
   "display_name": "Python 3",
   "language": "python",
   "name": "python3"
  },
  "language_info": {
   "codemirror_mode": {
    "name": "ipython",
    "version": 3
   },
   "file_extension": ".py",
   "mimetype": "text/x-python",
   "name": "python",
   "nbconvert_exporter": "python",
   "pygments_lexer": "ipython3",
   "version": "3.7.11"
  },
  "toc": {
   "base_numbering": 1,
   "nav_menu": {},
   "number_sections": true,
   "sideBar": true,
   "skip_h1_title": false,
   "title_cell": "Table of Contents",
   "title_sidebar": "Contents",
   "toc_cell": false,
   "toc_position": {},
   "toc_section_display": true,
   "toc_window_display": false
  }
 },
 "nbformat": 4,
 "nbformat_minor": 5
}

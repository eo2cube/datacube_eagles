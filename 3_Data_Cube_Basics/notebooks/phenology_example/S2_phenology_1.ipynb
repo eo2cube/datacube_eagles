{
 "cells": [
  {
   "cell_type": "markdown",
   "metadata": {},
   "source": [
    "<img src=\"https://datacube.remote-sensing.org/wp-content/uploads/2021/02/ci_logo_navbar.png\" align=\"right\" width='180' alt=\"eo_logo\">"
   ]
  },
  {
   "cell_type": "markdown",
   "metadata": {},
   "source": [
    "# Phenology Sentinel 2"
   ]
  },
  {
   "cell_type": "markdown",
   "metadata": {},
   "source": [
    "### Import Python Packages"
   ]
  },
  {
   "cell_type": "code",
   "execution_count": null,
   "metadata": {},
   "outputs": [],
   "source": [
    "import datacube\n",
    "import geopandas as gpd\n",
    "from odc.ui import with_ui_cbk\n",
    "import xarray as xr\n",
    "import seaborn as sns\n",
    "import hdstats\n",
    "from deafrica_tools.bandindices import calculate_indices, dualpol_indices\n",
    "from deafrica_tools.spatial import xr_rasterize\n",
    "import pandas as pd"
   ]
  },
  {
   "cell_type": "markdown",
   "metadata": {},
   "source": [
    "### Import the Datacube Configuration"
   ]
  },
  {
   "cell_type": "code",
   "execution_count": null,
   "metadata": {},
   "outputs": [],
   "source": [
    "dc = datacube.Datacube()"
   ]
  },
  {
   "cell_type": "markdown",
   "metadata": {},
   "source": [
    "### AoI shapefile"
   ]
  },
  {
   "cell_type": "code",
   "execution_count": null,
   "metadata": {},
   "outputs": [],
   "source": [
    "gdf = gpd.read_file('data/sample_fields.shp')\n",
    "gdf.plot()"
   ]
  },
  {
   "cell_type": "code",
   "execution_count": null,
   "metadata": {
    "tags": []
   },
   "outputs": [],
   "source": [
    "gdf.explore()"
   ]
  },
  {
   "cell_type": "code",
   "execution_count": null,
   "metadata": {},
   "outputs": [],
   "source": [
    "x = (gdf.total_bounds[0] , gdf.total_bounds[2] )\n",
    "y  = (gdf.total_bounds[1] , gdf.total_bounds[3] )"
   ]
  },
  {
   "cell_type": "code",
   "execution_count": null,
   "metadata": {
    "tags": []
   },
   "outputs": [],
   "source": [
    "ds = load_ard(dc=dc,\n",
    "            products=['s2_l2a'],\n",
    "            x= x,\n",
    "            y= y,\n",
    "            time = (\"2021-01-01\", \"2021-12-31\"), # specifiy time_extent\n",
    "            output_crs = \"EPSG:32632\",\n",
    "            measurements = [\"blue\",\"green\",\"red\", \"nir_1\"],\n",
    "            resolution = (-10,10),\n",
    "            group_by = \"solar_day\",\n",
    "            mask_pixel_quality=True,\n",
    "            data_coverage = 100,\n",
    "            min_gooddata=0.90,    \n",
    "             )"
   ]
  },
  {
   "cell_type": "markdown",
   "metadata": {},
   "source": [
    "## Calculate NDVI"
   ]
  },
  {
   "cell_type": "code",
   "execution_count": null,
   "metadata": {},
   "outputs": [],
   "source": [
    "ds = calculate_indices(ds, index=['NDVI'], collection='s2')"
   ]
  },
  {
   "cell_type": "markdown",
   "metadata": {},
   "source": [
    "## Rasterize Fields"
   ]
  },
  {
   "cell_type": "code",
   "execution_count": null,
   "metadata": {},
   "outputs": [],
   "source": [
    "field_raster = xr_rasterize(gdf, ds, attribute_col=\"field_id\")"
   ]
  },
  {
   "cell_type": "code",
   "execution_count": null,
   "metadata": {},
   "outputs": [],
   "source": [
    "field_raster.plot()"
   ]
  },
  {
   "cell_type": "code",
   "execution_count": null,
   "metadata": {},
   "outputs": [],
   "source": [
    "field_1"
   ]
  },
  {
   "cell_type": "markdown",
   "metadata": {},
   "source": [
    "## Extract NDVI for one field"
   ]
  },
  {
   "cell_type": "code",
   "execution_count": null,
   "metadata": {},
   "outputs": [],
   "source": [
    "field_1 = ds.NDVI.where(field_raster == 1)\n",
    "field_1.plot(col=\"time\",col_wrap=5,cmap='RdYlGn')"
   ]
  },
  {
   "cell_type": "code",
   "execution_count": null,
   "metadata": {},
   "outputs": [],
   "source": [
    "field_1.mean(['x', 'y']).plot.line('b-^', figsize=(11,4))"
   ]
  },
  {
   "cell_type": "markdown",
   "metadata": {},
   "source": [
    "## Extract NDVI for all fields"
   ]
  },
  {
   "cell_type": "code",
   "execution_count": null,
   "metadata": {},
   "outputs": [],
   "source": [
    "data_frame = pd.DataFrame({\"time\": ds.time.values})\n",
    "data_frame = data_frame.set_index('time')\n",
    "\n",
    "for i in range(1,8):\n",
    "    data_frame['field_' + str(i)] = ds.NDVI.where(field_raster == i).mean(['x', 'y']).values\n",
    "\n",
    "data_frame"
   ]
  },
  {
   "cell_type": "code",
   "execution_count": null,
   "metadata": {},
   "outputs": [],
   "source": [
    "sns.set_style('darkgrid')\n",
    "sns.set_context(\"poster\", font_scale = .7)\n",
    "\n",
    "ax = data_frame.plot(figsize=[15,7], linewidth=1)"
   ]
  },
  {
   "cell_type": "markdown",
   "metadata": {},
   "source": [
    "### Calculate phenology statistics using xr_phenology"
   ]
  },
  {
   "cell_type": "markdown",
   "metadata": {},
   "source": [
    "The DE Africa function xr_phenology can calculate a number of land-surface phenology statistics that together describe the characteristics of a plant’s lifecycle. The function can calculate the following statistics on either a zonal timeseries (like the one above), or on a per-pixel basis:\n",
    "\n",
    "SOS = DOY of start of season\n",
    "\n",
    "POS = DOY of peak of season\n",
    "\n",
    "EOS = DOY of end of season\n",
    "\n",
    "vSOS = Value at start of season\n",
    "\n",
    "vPOS = Value at peak of season\n",
    "\n",
    "vEOS = Value at end of season\n",
    "\n",
    "Trough = Minimum value of season\n",
    "\n",
    "LOS = Length of season (DOY)\n",
    "\n",
    "AOS = Amplitude of season (in value units)\n",
    "\n",
    "ROG = Rate of greening\n",
    "\n",
    "ROS = Rate of senescence"
   ]
  },
  {
   "cell_type": "code",
   "execution_count": null,
   "metadata": {},
   "outputs": [],
   "source": [
    "from deafrica_tools.temporal import xr_phenology\n",
    "\n",
    "basic_pheno_stats = ['SOS','vSOS','POS','vPOS','EOS','vEOS','Trough','LOS','AOS','ROG','ROS']\n",
    "method_sos = 'first'\n",
    "method_eos = 'last'\n",
    "\n",
    "stats=xr_phenology(\n",
    "    ds.NDVI,\n",
    "    method_sos=method_sos,\n",
    "    method_eos=method_eos,\n",
    "    stats=basic_pheno_stats,\n",
    "    verbose=False\n",
    ")\n",
    "pheno_results = stats"
   ]
  },
  {
   "cell_type": "code",
   "execution_count": null,
   "metadata": {
    "tags": []
   },
   "outputs": [],
   "source": [
    "import matplotlib.pyplot as plt\n",
    "#select the year to plot\n",
    "\n",
    "cbar_size = 0.5\n",
    "phen = pheno_results\n",
    "\n",
    "#mask again with crop-mask\n",
    "phen = phen.where(field_raster != 0)\n",
    "\n",
    "# set up figure\n",
    "fig, ax = plt.subplots(nrows=5,\n",
    "                       ncols=2,\n",
    "                       figsize=(18, 25),\n",
    "                       sharex=True,\n",
    "                       sharey=True)\n",
    "\n",
    "# set colorbar size\n",
    "cbar_size = 0.7\n",
    "\n",
    "# set aspect ratios\n",
    "for a in fig.axes:\n",
    "    a.set_aspect('equal')\n",
    "\n",
    "# start of season\n",
    "phen.SOS.plot(ax=ax[0, 0],\n",
    "              cmap='magma_r',\n",
    "              vmax=300,\n",
    "              vmin=0,\n",
    "              cbar_kwargs=dict(shrink=cbar_size, label=None))\n",
    "ax[0, 0].set_title('Start of Season (DOY)')\n",
    "\n",
    "phen.vSOS.plot(ax=ax[0, 1],\n",
    "               cmap='YlGn',\n",
    "               vmax=0.8,\n",
    "               cbar_kwargs=dict(shrink=cbar_size, label=None))\n",
    "ax[0, 1].set_title('NDVI at SOS')\n",
    "\n",
    "# peak of season\n",
    "phen.POS.plot(ax=ax[1, 0],\n",
    "              cmap='magma_r',\n",
    "              vmax=300,\n",
    "              vmin=0,\n",
    "              cbar_kwargs=dict(shrink=cbar_size, label=None))\n",
    "ax[1, 0].set_title('Peak of Season (DOY)')\n",
    "\n",
    "phen.vPOS.plot(ax=ax[1, 1],\n",
    "               cmap='YlGn',\n",
    "               vmax=0.8,\n",
    "               cbar_kwargs=dict(shrink=cbar_size, label=None))\n",
    "ax[1, 1].set_title('NDVI at POS')\n",
    "\n",
    "# end of season\n",
    "phen.EOS.plot(ax=ax[2, 0],\n",
    "              cmap='magma_r',\n",
    "              vmax=300,\n",
    "              vmin=0,\n",
    "              cbar_kwargs=dict(shrink=cbar_size, label=None))\n",
    "ax[2, 0].set_title('End of Season (DOY)')\n",
    "\n",
    "phen.vEOS.plot(ax=ax[2, 1],\n",
    "               cmap='YlGn',\n",
    "               vmax=0.8,\n",
    "               cbar_kwargs=dict(shrink=cbar_size, label=None))\n",
    "ax[2, 1].set_title('NDVI at EOS')\n",
    "\n",
    "# Length of Season\n",
    "phen.LOS.plot(ax=ax[3, 0],\n",
    "              cmap='magma_r',\n",
    "              vmax=300,\n",
    "              vmin=0,\n",
    "              cbar_kwargs=dict(shrink=cbar_size, label=None))\n",
    "ax[3, 0].set_title('Length of Season (DOY)')\n",
    "\n",
    "# Amplitude\n",
    "phen.AOS.plot(ax=ax[3, 1],\n",
    "              cmap='YlGn',\n",
    "              vmax=0.8,\n",
    "              cbar_kwargs=dict(shrink=cbar_size, label=None))\n",
    "ax[3, 1].set_title('Amplitude of Season')\n",
    "\n",
    "# rate of growth\n",
    "phen.ROG.plot(ax=ax[4, 0],\n",
    "              cmap='coolwarm_r',\n",
    "              vmin=-0.02,\n",
    "              vmax=0.02,\n",
    "              cbar_kwargs=dict(shrink=cbar_size, label=None))\n",
    "ax[4, 0].set_title('Rate of Growth')\n",
    "\n",
    "# rate of Sensescence\n",
    "phen.ROS.plot(ax=ax[4, 1],\n",
    "              cmap='coolwarm_r',\n",
    "              vmin=-0.02,\n",
    "              vmax=0.02,\n",
    "              cbar_kwargs=dict(shrink=cbar_size, label=None))\n",
    "ax[4, 1].set_title('Rate of Senescence')\n",
    "plt.suptitle('Phenology')\n",
    "plt.tight_layout();"
   ]
  }
 ],
 "metadata": {
  "kernelspec": {
   "display_name": "Python 3 (ipykernel)",
   "language": "python",
   "name": "python3"
  },
  "language_info": {
   "codemirror_mode": {
    "name": "ipython",
    "version": 3
   },
   "file_extension": ".py",
   "mimetype": "text/x-python",
   "name": "python",
   "nbconvert_exporter": "python",
   "pygments_lexer": "ipython3",
   "version": "3.9.7"
  }
 },
 "nbformat": 4,
 "nbformat_minor": 4
}

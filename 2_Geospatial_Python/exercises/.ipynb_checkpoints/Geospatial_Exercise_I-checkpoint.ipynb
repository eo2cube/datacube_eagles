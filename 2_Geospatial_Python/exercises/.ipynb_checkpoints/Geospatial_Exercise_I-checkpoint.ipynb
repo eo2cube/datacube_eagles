{
 "cells": [
  {
   "cell_type": "markdown",
   "metadata": {
    "id": "jl3bCVCGU4Ju"
   },
   "source": [
    "# Geospatial Exercise\n",
    "\n",
    "#### Exercise 1\n",
    "Use the below information to construct a xarray data array with coordinates and dimensions."
   ]
  },
  {
   "cell_type": "code",
   "execution_count": 3,
   "metadata": {
    "id": "SbffAIJhSJsX"
   },
   "outputs": [],
   "source": [
    "import numpy as np"
   ]
  },
  {
   "cell_type": "code",
   "execution_count": 4,
   "metadata": {
    "id": "ZJ1dk68QSyRx"
   },
   "outputs": [],
   "source": [
    "data = 283 + 5 * np.random.randn(5, 3, 4)\n",
    "times = pd.date_range('2018-01-01', periods=5)\n",
    "lons = np.linspace(-120, -60, 4)\n",
    "lats = np.linspace(25, 55, 3)"
   ]
  },
  {
   "cell_type": "markdown",
   "metadata": {},
   "source": [
    "***"
   ]
  },
  {
   "cell_type": "code",
   "execution_count": null,
   "metadata": {
    "colab": {
     "base_uri": "https://localhost:8080/",
     "height": 502
    },
    "id": "j5MbUe4eS4ga",
    "outputId": "2d8ce995-e0b5-42bb-9d85-5c2490e5a0a8"
   },
   "outputs": [
    {
     "data": {
      "text/html": [
       "<div><svg style=\"position: absolute; width: 0; height: 0; overflow: hidden\">\n",
       "<defs>\n",
       "<symbol id=\"icon-database\" viewBox=\"0 0 32 32\">\n",
       "<path d=\"M16 0c-8.837 0-16 2.239-16 5v4c0 2.761 7.163 5 16 5s16-2.239 16-5v-4c0-2.761-7.163-5-16-5z\"></path>\n",
       "<path d=\"M16 17c-8.837 0-16-2.239-16-5v6c0 2.761 7.163 5 16 5s16-2.239 16-5v-6c0 2.761-7.163 5-16 5z\"></path>\n",
       "<path d=\"M16 26c-8.837 0-16-2.239-16-5v6c0 2.761 7.163 5 16 5s16-2.239 16-5v-6c0 2.761-7.163 5-16 5z\"></path>\n",
       "</symbol>\n",
       "<symbol id=\"icon-file-text2\" viewBox=\"0 0 32 32\">\n",
       "<path d=\"M28.681 7.159c-0.694-0.947-1.662-2.053-2.724-3.116s-2.169-2.030-3.116-2.724c-1.612-1.182-2.393-1.319-2.841-1.319h-15.5c-1.378 0-2.5 1.121-2.5 2.5v27c0 1.378 1.122 2.5 2.5 2.5h23c1.378 0 2.5-1.122 2.5-2.5v-19.5c0-0.448-0.137-1.23-1.319-2.841zM24.543 5.457c0.959 0.959 1.712 1.825 2.268 2.543h-4.811v-4.811c0.718 0.556 1.584 1.309 2.543 2.268zM28 29.5c0 0.271-0.229 0.5-0.5 0.5h-23c-0.271 0-0.5-0.229-0.5-0.5v-27c0-0.271 0.229-0.5 0.5-0.5 0 0 15.499-0 15.5 0v7c0 0.552 0.448 1 1 1h7v19.5z\"></path>\n",
       "<path d=\"M23 26h-14c-0.552 0-1-0.448-1-1s0.448-1 1-1h14c0.552 0 1 0.448 1 1s-0.448 1-1 1z\"></path>\n",
       "<path d=\"M23 22h-14c-0.552 0-1-0.448-1-1s0.448-1 1-1h14c0.552 0 1 0.448 1 1s-0.448 1-1 1z\"></path>\n",
       "<path d=\"M23 18h-14c-0.552 0-1-0.448-1-1s0.448-1 1-1h14c0.552 0 1 0.448 1 1s-0.448 1-1 1z\"></path>\n",
       "</symbol>\n",
       "</defs>\n",
       "</svg>\n",
       "<style>/* CSS stylesheet for displaying xarray objects in jupyterlab.\n",
       " *\n",
       " */\n",
       "\n",
       ":root {\n",
       "  --xr-font-color0: var(--jp-content-font-color0, rgba(0, 0, 0, 1));\n",
       "  --xr-font-color2: var(--jp-content-font-color2, rgba(0, 0, 0, 0.54));\n",
       "  --xr-font-color3: var(--jp-content-font-color3, rgba(0, 0, 0, 0.38));\n",
       "  --xr-border-color: var(--jp-border-color2, #e0e0e0);\n",
       "  --xr-disabled-color: var(--jp-layout-color3, #bdbdbd);\n",
       "  --xr-background-color: var(--jp-layout-color0, white);\n",
       "  --xr-background-color-row-even: var(--jp-layout-color1, white);\n",
       "  --xr-background-color-row-odd: var(--jp-layout-color2, #eeeeee);\n",
       "}\n",
       "\n",
       "html[theme=dark],\n",
       "body.vscode-dark {\n",
       "  --xr-font-color0: rgba(255, 255, 255, 1);\n",
       "  --xr-font-color2: rgba(255, 255, 255, 0.54);\n",
       "  --xr-font-color3: rgba(255, 255, 255, 0.38);\n",
       "  --xr-border-color: #1F1F1F;\n",
       "  --xr-disabled-color: #515151;\n",
       "  --xr-background-color: #111111;\n",
       "  --xr-background-color-row-even: #111111;\n",
       "  --xr-background-color-row-odd: #313131;\n",
       "}\n",
       "\n",
       ".xr-wrap {\n",
       "  display: block;\n",
       "  min-width: 300px;\n",
       "  max-width: 700px;\n",
       "}\n",
       "\n",
       ".xr-text-repr-fallback {\n",
       "  /* fallback to plain text repr when CSS is not injected (untrusted notebook) */\n",
       "  display: none;\n",
       "}\n",
       "\n",
       ".xr-header {\n",
       "  padding-top: 6px;\n",
       "  padding-bottom: 6px;\n",
       "  margin-bottom: 4px;\n",
       "  border-bottom: solid 1px var(--xr-border-color);\n",
       "}\n",
       "\n",
       ".xr-header > div,\n",
       ".xr-header > ul {\n",
       "  display: inline;\n",
       "  margin-top: 0;\n",
       "  margin-bottom: 0;\n",
       "}\n",
       "\n",
       ".xr-obj-type,\n",
       ".xr-array-name {\n",
       "  margin-left: 2px;\n",
       "  margin-right: 10px;\n",
       "}\n",
       "\n",
       ".xr-obj-type {\n",
       "  color: var(--xr-font-color2);\n",
       "}\n",
       "\n",
       ".xr-sections {\n",
       "  padding-left: 0 !important;\n",
       "  display: grid;\n",
       "  grid-template-columns: 150px auto auto 1fr 20px 20px;\n",
       "}\n",
       "\n",
       ".xr-section-item {\n",
       "  display: contents;\n",
       "}\n",
       "\n",
       ".xr-section-item input {\n",
       "  display: none;\n",
       "}\n",
       "\n",
       ".xr-section-item input + label {\n",
       "  color: var(--xr-disabled-color);\n",
       "}\n",
       "\n",
       ".xr-section-item input:enabled + label {\n",
       "  cursor: pointer;\n",
       "  color: var(--xr-font-color2);\n",
       "}\n",
       "\n",
       ".xr-section-item input:enabled + label:hover {\n",
       "  color: var(--xr-font-color0);\n",
       "}\n",
       "\n",
       ".xr-section-summary {\n",
       "  grid-column: 1;\n",
       "  color: var(--xr-font-color2);\n",
       "  font-weight: 500;\n",
       "}\n",
       "\n",
       ".xr-section-summary > span {\n",
       "  display: inline-block;\n",
       "  padding-left: 0.5em;\n",
       "}\n",
       "\n",
       ".xr-section-summary-in:disabled + label {\n",
       "  color: var(--xr-font-color2);\n",
       "}\n",
       "\n",
       ".xr-section-summary-in + label:before {\n",
       "  display: inline-block;\n",
       "  content: '►';\n",
       "  font-size: 11px;\n",
       "  width: 15px;\n",
       "  text-align: center;\n",
       "}\n",
       "\n",
       ".xr-section-summary-in:disabled + label:before {\n",
       "  color: var(--xr-disabled-color);\n",
       "}\n",
       "\n",
       ".xr-section-summary-in:checked + label:before {\n",
       "  content: '▼';\n",
       "}\n",
       "\n",
       ".xr-section-summary-in:checked + label > span {\n",
       "  display: none;\n",
       "}\n",
       "\n",
       ".xr-section-summary,\n",
       ".xr-section-inline-details {\n",
       "  padding-top: 4px;\n",
       "  padding-bottom: 4px;\n",
       "}\n",
       "\n",
       ".xr-section-inline-details {\n",
       "  grid-column: 2 / -1;\n",
       "}\n",
       "\n",
       ".xr-section-details {\n",
       "  display: none;\n",
       "  grid-column: 1 / -1;\n",
       "  margin-bottom: 5px;\n",
       "}\n",
       "\n",
       ".xr-section-summary-in:checked ~ .xr-section-details {\n",
       "  display: contents;\n",
       "}\n",
       "\n",
       ".xr-array-wrap {\n",
       "  grid-column: 1 / -1;\n",
       "  display: grid;\n",
       "  grid-template-columns: 20px auto;\n",
       "}\n",
       "\n",
       ".xr-array-wrap > label {\n",
       "  grid-column: 1;\n",
       "  vertical-align: top;\n",
       "}\n",
       "\n",
       ".xr-preview {\n",
       "  color: var(--xr-font-color3);\n",
       "}\n",
       "\n",
       ".xr-array-preview,\n",
       ".xr-array-data {\n",
       "  padding: 0 5px !important;\n",
       "  grid-column: 2;\n",
       "}\n",
       "\n",
       ".xr-array-data,\n",
       ".xr-array-in:checked ~ .xr-array-preview {\n",
       "  display: none;\n",
       "}\n",
       "\n",
       ".xr-array-in:checked ~ .xr-array-data,\n",
       ".xr-array-preview {\n",
       "  display: inline-block;\n",
       "}\n",
       "\n",
       ".xr-dim-list {\n",
       "  display: inline-block !important;\n",
       "  list-style: none;\n",
       "  padding: 0 !important;\n",
       "  margin: 0;\n",
       "}\n",
       "\n",
       ".xr-dim-list li {\n",
       "  display: inline-block;\n",
       "  padding: 0;\n",
       "  margin: 0;\n",
       "}\n",
       "\n",
       ".xr-dim-list:before {\n",
       "  content: '(';\n",
       "}\n",
       "\n",
       ".xr-dim-list:after {\n",
       "  content: ')';\n",
       "}\n",
       "\n",
       ".xr-dim-list li:not(:last-child):after {\n",
       "  content: ',';\n",
       "  padding-right: 5px;\n",
       "}\n",
       "\n",
       ".xr-has-index {\n",
       "  font-weight: bold;\n",
       "}\n",
       "\n",
       ".xr-var-list,\n",
       ".xr-var-item {\n",
       "  display: contents;\n",
       "}\n",
       "\n",
       ".xr-var-item > div,\n",
       ".xr-var-item label,\n",
       ".xr-var-item > .xr-var-name span {\n",
       "  background-color: var(--xr-background-color-row-even);\n",
       "  margin-bottom: 0;\n",
       "}\n",
       "\n",
       ".xr-var-item > .xr-var-name:hover span {\n",
       "  padding-right: 5px;\n",
       "}\n",
       "\n",
       ".xr-var-list > li:nth-child(odd) > div,\n",
       ".xr-var-list > li:nth-child(odd) > label,\n",
       ".xr-var-list > li:nth-child(odd) > .xr-var-name span {\n",
       "  background-color: var(--xr-background-color-row-odd);\n",
       "}\n",
       "\n",
       ".xr-var-name {\n",
       "  grid-column: 1;\n",
       "}\n",
       "\n",
       ".xr-var-dims {\n",
       "  grid-column: 2;\n",
       "}\n",
       "\n",
       ".xr-var-dtype {\n",
       "  grid-column: 3;\n",
       "  text-align: right;\n",
       "  color: var(--xr-font-color2);\n",
       "}\n",
       "\n",
       ".xr-var-preview {\n",
       "  grid-column: 4;\n",
       "}\n",
       "\n",
       ".xr-var-name,\n",
       ".xr-var-dims,\n",
       ".xr-var-dtype,\n",
       ".xr-preview,\n",
       ".xr-attrs dt {\n",
       "  white-space: nowrap;\n",
       "  overflow: hidden;\n",
       "  text-overflow: ellipsis;\n",
       "  padding-right: 10px;\n",
       "}\n",
       "\n",
       ".xr-var-name:hover,\n",
       ".xr-var-dims:hover,\n",
       ".xr-var-dtype:hover,\n",
       ".xr-attrs dt:hover {\n",
       "  overflow: visible;\n",
       "  width: auto;\n",
       "  z-index: 1;\n",
       "}\n",
       "\n",
       ".xr-var-attrs,\n",
       ".xr-var-data {\n",
       "  display: none;\n",
       "  background-color: var(--xr-background-color) !important;\n",
       "  padding-bottom: 5px !important;\n",
       "}\n",
       "\n",
       ".xr-var-attrs-in:checked ~ .xr-var-attrs,\n",
       ".xr-var-data-in:checked ~ .xr-var-data {\n",
       "  display: block;\n",
       "}\n",
       "\n",
       ".xr-var-data > table {\n",
       "  float: right;\n",
       "}\n",
       "\n",
       ".xr-var-name span,\n",
       ".xr-var-data,\n",
       ".xr-attrs {\n",
       "  padding-left: 25px !important;\n",
       "}\n",
       "\n",
       ".xr-attrs,\n",
       ".xr-var-attrs,\n",
       ".xr-var-data {\n",
       "  grid-column: 1 / -1;\n",
       "}\n",
       "\n",
       "dl.xr-attrs {\n",
       "  padding: 0;\n",
       "  margin: 0;\n",
       "  display: grid;\n",
       "  grid-template-columns: 125px auto;\n",
       "}\n",
       "\n",
       ".xr-attrs dt,\n",
       ".xr-attrs dd {\n",
       "  padding: 0;\n",
       "  margin: 0;\n",
       "  float: left;\n",
       "  padding-right: 10px;\n",
       "  width: auto;\n",
       "}\n",
       "\n",
       ".xr-attrs dt {\n",
       "  font-weight: normal;\n",
       "  grid-column: 1;\n",
       "}\n",
       "\n",
       ".xr-attrs dt:hover span {\n",
       "  display: inline-block;\n",
       "  background: var(--xr-background-color);\n",
       "  padding-right: 10px;\n",
       "}\n",
       "\n",
       ".xr-attrs dd {\n",
       "  grid-column: 2;\n",
       "  white-space: pre-wrap;\n",
       "  word-break: break-all;\n",
       "}\n",
       "\n",
       ".xr-icon-database,\n",
       ".xr-icon-file-text2 {\n",
       "  display: inline-block;\n",
       "  vertical-align: middle;\n",
       "  width: 1em;\n",
       "  height: 1.5em !important;\n",
       "  stroke-width: 0;\n",
       "  stroke: currentColor;\n",
       "  fill: currentColor;\n",
       "}\n",
       "</style><pre class='xr-text-repr-fallback'>&lt;xarray.DataArray (time: 5, lat: 3, lon: 4)&gt;\n",
       "array([[[279.5544236 , 284.73987876, 283.65111132, 284.97719827],\n",
       "        [294.08013334, 287.53814586, 288.3362163 , 276.22063939],\n",
       "        [284.64974959, 284.47362609, 288.58887965, 286.35506347]],\n",
       "\n",
       "       [[277.61790784, 279.11832608, 271.19072234, 290.0087761 ],\n",
       "        [292.62790171, 268.78798138, 282.05891006, 290.48594657],\n",
       "        [288.4267721 , 294.68538566, 274.95460975, 285.8563967 ]],\n",
       "\n",
       "       [[285.11616037, 276.85649744, 284.37358441, 279.70949428],\n",
       "        [282.470253  , 279.61077973, 285.7458436 , 289.73133118],\n",
       "        [290.4743411 , 287.30117642, 286.38034704, 274.61292472]],\n",
       "\n",
       "       [[282.69523213, 279.38201287, 278.116628  , 289.14217398],\n",
       "        [279.5054866 , 289.75657578, 285.04602478, 274.2033208 ],\n",
       "        [282.99391847, 278.72996738, 282.58026154, 286.41012313]],\n",
       "\n",
       "       [[278.70448511, 290.34000821, 287.33793048, 285.56062719],\n",
       "        [280.58835552, 278.53326032, 277.46160631, 282.89630754],\n",
       "        [278.24515926, 282.46216586, 281.78079046, 282.83661263]]])\n",
       "Coordinates:\n",
       "  * time     (time) datetime64[ns] 2018-01-01 2018-01-02 ... 2018-01-05\n",
       "  * lat      (lat) float64 25.0 40.0 55.0\n",
       "  * lon      (lon) float64 -120.0 -100.0 -80.0 -60.0</pre><div class='xr-wrap' hidden><div class='xr-header'><div class='xr-obj-type'>xarray.DataArray</div><div class='xr-array-name'></div><ul class='xr-dim-list'><li><span class='xr-has-index'>time</span>: 5</li><li><span class='xr-has-index'>lat</span>: 3</li><li><span class='xr-has-index'>lon</span>: 4</li></ul></div><ul class='xr-sections'><li class='xr-section-item'><div class='xr-array-wrap'><input id='section-ca79886c-8494-43fe-b44e-d740950a0fe0' class='xr-array-in' type='checkbox' checked><label for='section-ca79886c-8494-43fe-b44e-d740950a0fe0' title='Show/hide data repr'><svg class='icon xr-icon-database'><use xlink:href='#icon-database'></use></svg></label><div class='xr-array-preview xr-preview'><span>279.6 284.7 283.7 285.0 294.1 287.5 ... 282.9 278.2 282.5 281.8 282.8</span></div><div class='xr-array-data'><pre>array([[[279.5544236 , 284.73987876, 283.65111132, 284.97719827],\n",
       "        [294.08013334, 287.53814586, 288.3362163 , 276.22063939],\n",
       "        [284.64974959, 284.47362609, 288.58887965, 286.35506347]],\n",
       "\n",
       "       [[277.61790784, 279.11832608, 271.19072234, 290.0087761 ],\n",
       "        [292.62790171, 268.78798138, 282.05891006, 290.48594657],\n",
       "        [288.4267721 , 294.68538566, 274.95460975, 285.8563967 ]],\n",
       "\n",
       "       [[285.11616037, 276.85649744, 284.37358441, 279.70949428],\n",
       "        [282.470253  , 279.61077973, 285.7458436 , 289.73133118],\n",
       "        [290.4743411 , 287.30117642, 286.38034704, 274.61292472]],\n",
       "\n",
       "       [[282.69523213, 279.38201287, 278.116628  , 289.14217398],\n",
       "        [279.5054866 , 289.75657578, 285.04602478, 274.2033208 ],\n",
       "        [282.99391847, 278.72996738, 282.58026154, 286.41012313]],\n",
       "\n",
       "       [[278.70448511, 290.34000821, 287.33793048, 285.56062719],\n",
       "        [280.58835552, 278.53326032, 277.46160631, 282.89630754],\n",
       "        [278.24515926, 282.46216586, 281.78079046, 282.83661263]]])</pre></div></div></li><li class='xr-section-item'><input id='section-b7d15ff1-818a-4079-b582-252f24cf8474' class='xr-section-summary-in' type='checkbox'  checked><label for='section-b7d15ff1-818a-4079-b582-252f24cf8474' class='xr-section-summary' >Coordinates: <span>(3)</span></label><div class='xr-section-inline-details'></div><div class='xr-section-details'><ul class='xr-var-list'><li class='xr-var-item'><div class='xr-var-name'><span class='xr-has-index'>time</span></div><div class='xr-var-dims'>(time)</div><div class='xr-var-dtype'>datetime64[ns]</div><div class='xr-var-preview xr-preview'>2018-01-01 ... 2018-01-05</div><input id='attrs-316e6e86-79e6-45fe-9a99-2803b6cb01cc' class='xr-var-attrs-in' type='checkbox' disabled><label for='attrs-316e6e86-79e6-45fe-9a99-2803b6cb01cc' title='Show/Hide attributes'><svg class='icon xr-icon-file-text2'><use xlink:href='#icon-file-text2'></use></svg></label><input id='data-e52e975b-9a18-415b-b02e-7409d053d49f' class='xr-var-data-in' type='checkbox'><label for='data-e52e975b-9a18-415b-b02e-7409d053d49f' title='Show/Hide data repr'><svg class='icon xr-icon-database'><use xlink:href='#icon-database'></use></svg></label><div class='xr-var-attrs'><dl class='xr-attrs'></dl></div><div class='xr-var-data'><pre>array([&#x27;2018-01-01T00:00:00.000000000&#x27;, &#x27;2018-01-02T00:00:00.000000000&#x27;,\n",
       "       &#x27;2018-01-03T00:00:00.000000000&#x27;, &#x27;2018-01-04T00:00:00.000000000&#x27;,\n",
       "       &#x27;2018-01-05T00:00:00.000000000&#x27;], dtype=&#x27;datetime64[ns]&#x27;)</pre></div></li><li class='xr-var-item'><div class='xr-var-name'><span class='xr-has-index'>lat</span></div><div class='xr-var-dims'>(lat)</div><div class='xr-var-dtype'>float64</div><div class='xr-var-preview xr-preview'>25.0 40.0 55.0</div><input id='attrs-1615dccd-a1ad-4fd7-b300-2974770d2149' class='xr-var-attrs-in' type='checkbox' disabled><label for='attrs-1615dccd-a1ad-4fd7-b300-2974770d2149' title='Show/Hide attributes'><svg class='icon xr-icon-file-text2'><use xlink:href='#icon-file-text2'></use></svg></label><input id='data-2e40838b-d3e9-4d43-9753-dfb114efb695' class='xr-var-data-in' type='checkbox'><label for='data-2e40838b-d3e9-4d43-9753-dfb114efb695' title='Show/Hide data repr'><svg class='icon xr-icon-database'><use xlink:href='#icon-database'></use></svg></label><div class='xr-var-attrs'><dl class='xr-attrs'></dl></div><div class='xr-var-data'><pre>array([25., 40., 55.])</pre></div></li><li class='xr-var-item'><div class='xr-var-name'><span class='xr-has-index'>lon</span></div><div class='xr-var-dims'>(lon)</div><div class='xr-var-dtype'>float64</div><div class='xr-var-preview xr-preview'>-120.0 -100.0 -80.0 -60.0</div><input id='attrs-7d4e4ec4-5d65-4f07-9333-e0dbb6cd6bfd' class='xr-var-attrs-in' type='checkbox' disabled><label for='attrs-7d4e4ec4-5d65-4f07-9333-e0dbb6cd6bfd' title='Show/Hide attributes'><svg class='icon xr-icon-file-text2'><use xlink:href='#icon-file-text2'></use></svg></label><input id='data-90009f09-40a5-4ede-9d1e-ccbf9397aa8e' class='xr-var-data-in' type='checkbox'><label for='data-90009f09-40a5-4ede-9d1e-ccbf9397aa8e' title='Show/Hide data repr'><svg class='icon xr-icon-database'><use xlink:href='#icon-database'></use></svg></label><div class='xr-var-attrs'><dl class='xr-attrs'></dl></div><div class='xr-var-data'><pre>array([-120., -100.,  -80.,  -60.])</pre></div></li></ul></div></li><li class='xr-section-item'><input id='section-8aebf35a-9a9a-403d-9c11-b7c96f1af74b' class='xr-section-summary-in' type='checkbox' disabled ><label for='section-8aebf35a-9a9a-403d-9c11-b7c96f1af74b' class='xr-section-summary'  title='Expand/collapse section'>Attributes: <span>(0)</span></label><div class='xr-section-inline-details'></div><div class='xr-section-details'><dl class='xr-attrs'></dl></div></li></ul></div></div>"
      ],
      "text/plain": [
       "<xarray.DataArray (time: 5, lat: 3, lon: 4)>\n",
       "array([[[279.5544236 , 284.73987876, 283.65111132, 284.97719827],\n",
       "        [294.08013334, 287.53814586, 288.3362163 , 276.22063939],\n",
       "        [284.64974959, 284.47362609, 288.58887965, 286.35506347]],\n",
       "\n",
       "       [[277.61790784, 279.11832608, 271.19072234, 290.0087761 ],\n",
       "        [292.62790171, 268.78798138, 282.05891006, 290.48594657],\n",
       "        [288.4267721 , 294.68538566, 274.95460975, 285.8563967 ]],\n",
       "\n",
       "       [[285.11616037, 276.85649744, 284.37358441, 279.70949428],\n",
       "        [282.470253  , 279.61077973, 285.7458436 , 289.73133118],\n",
       "        [290.4743411 , 287.30117642, 286.38034704, 274.61292472]],\n",
       "\n",
       "       [[282.69523213, 279.38201287, 278.116628  , 289.14217398],\n",
       "        [279.5054866 , 289.75657578, 285.04602478, 274.2033208 ],\n",
       "        [282.99391847, 278.72996738, 282.58026154, 286.41012313]],\n",
       "\n",
       "       [[278.70448511, 290.34000821, 287.33793048, 285.56062719],\n",
       "        [280.58835552, 278.53326032, 277.46160631, 282.89630754],\n",
       "        [278.24515926, 282.46216586, 281.78079046, 282.83661263]]])\n",
       "Coordinates:\n",
       "  * time     (time) datetime64[ns] 2018-01-01 2018-01-02 ... 2018-01-05\n",
       "  * lat      (lat) float64 25.0 40.0 55.0\n",
       "  * lon      (lon) float64 -120.0 -100.0 -80.0 -60.0"
      ]
     },
     "execution_count": 4,
     "metadata": {},
     "output_type": "execute_result"
    }
   ],
   "source": [
    "import xarray as xr\n",
    "import pandas as pd\n",
    "\n",
    "da = xr.DataArray(data, coords=[times, lats, lons], dims=['time', 'lat', 'lon'])\n",
    "da"
   ]
  },
  {
   "cell_type": "markdown",
   "metadata": {
    "id": "x8rS6OcFVSYe"
   },
   "source": [
    "#### Exercise 2\n",
    "Compute the area of the polygon defined by the below coordinates (CRS = 4326)."
   ]
  },
  {
   "cell_type": "code",
   "execution_count": 5,
   "metadata": {
    "id": "rqlBylZbf2uQ"
   },
   "outputs": [],
   "source": [
    "lat_point_list = [50.854457, 52.518172, 50.072651, 48.853033, 50.854457]\n",
    "lon_point_list = [4.377184, 13.407759, 14.435935, 2.349553, 4.377184]"
   ]
  },
  {
   "cell_type": "markdown",
   "metadata": {},
   "source": [
    "***"
   ]
  },
  {
   "cell_type": "code",
   "execution_count": null,
   "metadata": {
    "id": "-C3Nm0qVTi8e"
   },
   "outputs": [],
   "source": [
    "! pip install geopandas"
   ]
  },
  {
   "cell_type": "code",
   "execution_count": 7,
   "metadata": {
    "id": "g0iwnxF9Tgbg"
   },
   "outputs": [],
   "source": [
    "import geopandas as gpd\n",
    "from shapely.geometry import Polygon\n",
    "\n",
    "polygon_geom = Polygon(zip(lon_point_list, lat_point_list))\n",
    "crs = {'init': 'epsg:4326'}"
   ]
  },
  {
   "cell_type": "code",
   "execution_count": 8,
   "metadata": {
    "colab": {
     "base_uri": "https://localhost:8080/"
    },
    "collapsed": true,
    "id": "SKI0Xmh4TkwE",
    "outputId": "390cbb84-ca08-46ed-b424-cb767ceaaccb"
   },
   "outputs": [
    {
     "name": "stderr",
     "output_type": "stream",
     "text": [
      "/usr/local/lib/python3.7/dist-packages/pyproj/crs/crs.py:131: FutureWarning: '+init=<authority>:<code>' syntax is deprecated. '<authority>:<code>' is the preferred initialization method. When making the change, be mindful of axis order changes: https://pyproj4.github.io/pyproj/stable/gotchas.html#axis-order-changes-in-proj-6\n",
      "  in_crs_string = _prepare_from_proj_string(in_crs_string)\n"
     ]
    }
   ],
   "source": [
    "polygon = gpd.GeoDataFrame(index=[0], crs=crs, geometry=[polygon_geom])       "
   ]
  },
  {
   "cell_type": "code",
   "execution_count": 9,
   "metadata": {
    "colab": {
     "base_uri": "https://localhost:8080/"
    },
    "id": "JAbTYj9OTsBF",
    "outputId": "72ff7a9c-4f5e-46e0-dee3-ae04807cf8d2"
   },
   "outputs": [
    {
     "name": "stderr",
     "output_type": "stream",
     "text": [
      "/usr/local/lib/python3.7/dist-packages/ipykernel_launcher.py:1: UserWarning: Geometry is in a geographic CRS. Results from 'area' are likely incorrect. Use 'GeoSeries.to_crs()' to re-project geometries to a projected CRS before this operation.\n",
      "\n",
      "  \"\"\"Entry point for launching an IPython kernel.\n"
     ]
    },
    {
     "data": {
      "text/plain": [
       "0    22.756046\n",
       "dtype: float64"
      ]
     },
     "execution_count": 9,
     "metadata": {},
     "output_type": "execute_result"
    }
   ],
   "source": [
    "polygon.geometry.area"
   ]
  },
  {
   "cell_type": "markdown",
   "metadata": {
    "id": "uzKEcAopjN8X"
   },
   "source": [
    "#### Exercise 3\n",
    "Create a bounding box from the Polygon defined by the above coordinates."
   ]
  },
  {
   "cell_type": "code",
   "execution_count": null,
   "metadata": {
    "id": "ws90K-45kqvV"
   },
   "outputs": [],
   "source": [
    "polygon_geom = Polygon(zip(lon_point_list, lat_point_list))\n",
    "crs = {'init': 'epsg:4326'}\n",
    "polygon = gpd.GeoDataFrame(index=[0], crs=crs, geometry=[polygon_geom])"
   ]
  },
  {
   "cell_type": "code",
   "execution_count": 10,
   "metadata": {
    "id": "KW81FDa0jNSd"
   },
   "outputs": [],
   "source": [
    "def bbox(polygon):\n",
    "  minx = polygon.bounds.values[0][0]\n",
    "  miny = polygon.bounds.values[0][1]\n",
    "  maxx = polygon.bounds.values[0][2]\n",
    "  maxy = polygon.bounds.values[0][3]\n",
    "  return [minx,miny,maxx,maxy]"
   ]
  },
  {
   "cell_type": "code",
   "execution_count": 11,
   "metadata": {
    "colab": {
     "base_uri": "https://localhost:8080/"
    },
    "id": "_MRG9qE8j4HQ",
    "outputId": "77b4ea32-d8aa-4027-8ab6-82c337082078"
   },
   "outputs": [
    {
     "data": {
      "text/plain": [
       "[2.349553, 48.853033, 14.435935, 52.518172]"
      ]
     },
     "execution_count": 11,
     "metadata": {},
     "output_type": "execute_result"
    }
   ],
   "source": [
    "bbox(polygon)"
   ]
  },
  {
   "cell_type": "markdown",
   "metadata": {
    "id": "cUsmSVTIWBrQ"
   },
   "source": [
    "#### Exercise 4\n",
    "Generate 100 random sample points in the Polygon defined by the above coordinates."
   ]
  },
  {
   "cell_type": "code",
   "execution_count": 18,
   "metadata": {
    "id": "FOUDtfcjgH8M"
   },
   "outputs": [],
   "source": [
    "import random\n",
    "from shapely.geometry import Point\n",
    "\n",
    "def generate_random(number, polygon):\n",
    "    points = []\n",
    "    minx = polygon.bounds.values[0][0]\n",
    "    miny = polygon.bounds.values[0][1]\n",
    "    maxx = polygon.bounds.values[0][2]\n",
    "    maxy = polygon.bounds.values[0][3]\n",
    "    while len(points) < number:\n",
    "      pnt = Point(random.uniform(minx, maxx), random.uniform(miny, maxy))\n",
    "      if polygon.contains(pnt):\n",
    "        points.append(pnt)\n",
    "    flatten = [val for val in points]\n",
    "    return flatten"
   ]
  },
  {
   "cell_type": "code",
   "execution_count": 20,
   "metadata": {
    "id": "4ox_pzh-gW7X"
   },
   "outputs": [],
   "source": [
    "point = generate_random(100, polygon)"
   ]
  },
  {
   "cell_type": "code",
   "execution_count": 22,
   "metadata": {
    "colab": {
     "base_uri": "https://localhost:8080/"
    },
    "id": "1xNGqRjFkTIV",
    "outputId": "669a4a0f-642d-42de-f6bf-7cce4188cafa"
   },
   "outputs": [
    {
     "data": {
      "text/plain": [
       "[(3.510764500946957, 51.94936734467136),\n",
       " (11.136016441570323, 51.426048036755475),\n",
       " (13.480767219597835, 50.41724013298081),\n",
       " (12.93470363521124, 51.91368531456179),\n",
       " (12.08869319413064, 49.380152538019786),\n",
       " (5.319538299320497, 48.880415374943816),\n",
       " (2.6477733173147646, 51.331364980299796),\n",
       " (11.921841480229908, 51.38490025124419),\n",
       " (3.341518911273934, 50.56639963932254),\n",
       " (7.130182462999059, 50.836683588247865),\n",
       " (8.48836460600962, 51.213027292367954),\n",
       " (3.391683945955134, 52.310887666397996),\n",
       " (8.014501433620232, 51.79717329252159),\n",
       " (14.362356547270675, 51.2261483082867),\n",
       " (4.147003460634248, 49.69007389227686),\n",
       " (5.759986469528482, 51.85651008208208),\n",
       " (2.992143535174807, 49.45985282187456),\n",
       " (12.990676705269939, 50.17818962019651),\n",
       " (12.958371684122616, 50.13413382926606),\n",
       " (5.8192223960677065, 51.03691480320464),\n",
       " (11.319355897172253, 49.82880333818828),\n",
       " (11.694093061352342, 52.2537584053355),\n",
       " (13.645319892176879, 49.10340536583276),\n",
       " (2.8164954707332623, 50.811631269555036),\n",
       " (9.94166498134505, 50.14150366581351),\n",
       " (5.8590577141133675, 50.26658776761235),\n",
       " (2.909629574735071, 50.09816057593289),\n",
       " (6.964288351483617, 52.47788847161712),\n",
       " (9.835318981187031, 52.377154322156954),\n",
       " (8.410466731252093, 49.20560748111982),\n",
       " (5.972794361770546, 49.531255693459),\n",
       " (14.368658510652843, 49.764104797863254),\n",
       " (7.534943212184695, 48.90374493109701),\n",
       " (9.005532228726171, 51.6439865264344),\n",
       " (3.265673906878849, 49.25298263101382),\n",
       " (12.494214304543368, 49.578517114194554),\n",
       " (5.069380624676897, 52.00999038091887),\n",
       " (12.444749527969615, 49.90132195702689),\n",
       " (13.23475234324541, 50.70394789834533),\n",
       " (12.797850143777728, 49.489344952932804),\n",
       " (2.6269894973890833, 52.00181688157634),\n",
       " (7.134212677242383, 49.995269129559055),\n",
       " (11.05699743834983, 50.61719007327972),\n",
       " (6.9967662506674415, 51.43776775142682),\n",
       " (3.676585834894788, 51.45392916311192),\n",
       " (7.00835878921742, 48.97932693367482),\n",
       " (7.957965644769612, 51.79249565933262),\n",
       " (12.607544943466165, 50.699554841824025),\n",
       " (9.825556447280176, 51.44441969212),\n",
       " (4.551593247571137, 49.58053605770196),\n",
       " (14.107154647357476, 51.516352033742955),\n",
       " (6.697544610696816, 48.86566352799404),\n",
       " (11.5108485568858, 50.299429892091645),\n",
       " (4.985911456428141, 49.8770793142239),\n",
       " (12.696073876506354, 51.066300893751205),\n",
       " (2.783522263861841, 51.526639718146676),\n",
       " (4.057900038213475, 51.32165703435634),\n",
       " (9.219052450038612, 52.12502550519532),\n",
       " (12.882025632905723, 51.13819451823886),\n",
       " (3.905557723356147, 51.522463213702586),\n",
       " (6.696347337608865, 49.8559653610382),\n",
       " (6.402881293370967, 49.581878322823044),\n",
       " (13.756430504850902, 51.84510396125258),\n",
       " (9.050838647120699, 52.377351730728215),\n",
       " (11.49293425271908, 51.100950372714934),\n",
       " (12.7710480646356, 49.0304806433973),\n",
       " (3.863532023532939, 51.16962319914142),\n",
       " (5.268566851801582, 49.00144960526796),\n",
       " (7.336839901743991, 48.962540840655656),\n",
       " (13.851681736753166, 51.89133308663928),\n",
       " (12.978287833244801, 50.53755948086388),\n",
       " (14.207837198761542, 49.401532618078654),\n",
       " (13.018632949571295, 49.9393111919572),\n",
       " (12.563970181852739, 49.040033776872065),\n",
       " (14.04485523826666, 50.87296313753464),\n",
       " (4.590462628280377, 51.44715069491959),\n",
       " (7.192123374782895, 50.2366756376945),\n",
       " (9.974436482774845, 52.370920337726986),\n",
       " (13.200348534186093, 51.957082685988084),\n",
       " (5.656620527866296, 50.148736740686154),\n",
       " (10.975129404580262, 50.09240378537544),\n",
       " (6.6570297982336974, 50.83990481792529),\n",
       " (10.370308480140666, 52.256558964835165),\n",
       " (3.0531116573230532, 50.612529842643546),\n",
       " (7.823569135445794, 52.26861344602918),\n",
       " (9.745555441468012, 49.43998305406638),\n",
       " (10.75038642313189, 49.38891703607052),\n",
       " (9.524919631922014, 50.13517322426467),\n",
       " (7.485296954028941, 49.239553601542255),\n",
       " (10.010532669565244, 51.440674810041315),\n",
       " (9.210241847054176, 49.568744043337155),\n",
       " (10.354327065670365, 52.24333056184317),\n",
       " (12.41662818105794, 51.26678595976018),\n",
       " (3.9115761010754446, 51.59480178152522),\n",
       " (11.602950242486072, 51.193678432653954),\n",
       " (4.515629910947936, 48.99199727396853),\n",
       " (7.652068679871954, 50.18372087953602),\n",
       " (9.417852278396285, 50.382288520287545),\n",
       " (5.538754115888917, 51.35829491841597),\n",
       " (12.80140033135833, 52.35526524407072)]"
      ]
     },
     "execution_count": 22,
     "metadata": {},
     "output_type": "execute_result"
    }
   ],
   "source": [
    "coords = []\n",
    "[coords.append(list(point[i].coords)[0]) for i in np.arange(len(point))]\n",
    "\n",
    "coords"
   ]
  },
  {
   "cell_type": "markdown",
   "metadata": {},
   "source": [
    "#### Exercise 5\n",
    "Merge poly1 and poly2 to a single polygon object."
   ]
  },
  {
   "cell_type": "code",
   "execution_count": null,
   "metadata": {},
   "outputs": [],
   "source": [
    "import geopandas as gpd\n",
    "from shapely.geometry import Polygon\n",
    "from shapely.geometry.multipolygon import MultiPolygon\n",
    "\n",
    "poly1 = Polygon([(0,0), (2,0), (2,2), (0,2)])\n",
    "poly2 = Polygon([(2,2), (4,2), (4,4), (2,4)])"
   ]
  },
  {
   "cell_type": "code",
   "execution_count": null,
   "metadata": {},
   "outputs": [],
   "source": [
    "df = gpd.GeoDataFrame({'geometry': [poly1,poly2]})\n",
    "df"
   ]
  },
  {
   "cell_type": "code",
   "execution_count": null,
   "metadata": {},
   "outputs": [],
   "source": [
    "df['new_column'] = 0\n",
    "df"
   ]
  },
  {
   "cell_type": "code",
   "execution_count": null,
   "metadata": {},
   "outputs": [],
   "source": [
    "df = df.dissolve(by='new_column', aggfunc='sum')\n",
    "df.geometry"
   ]
  }
 ],
 "metadata": {
  "colab": {
   "collapsed_sections": [],
   "name": "Geospatial_Exercise_I.ipynb",
   "provenance": []
  },
  "kernelspec": {
   "display_name": "Python 3",
   "language": "python",
   "name": "python3"
  },
  "language_info": {
   "codemirror_mode": {
    "name": "ipython",
    "version": 3
   },
   "file_extension": ".py",
   "mimetype": "text/x-python",
   "name": "python",
   "nbconvert_exporter": "python",
   "pygments_lexer": "ipython3",
   "version": "3.7.11"
  },
  "toc": {
   "base_numbering": 1,
   "nav_menu": {},
   "number_sections": true,
   "sideBar": true,
   "skip_h1_title": false,
   "title_cell": "Table of Contents",
   "title_sidebar": "Contents",
   "toc_cell": false,
   "toc_position": {},
   "toc_section_display": true,
   "toc_window_display": false
  }
 },
 "nbformat": 4,
 "nbformat_minor": 1
}

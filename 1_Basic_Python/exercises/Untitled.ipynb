{
 "cells": [
  {
   "cell_type": "code",
   "execution_count": null,
   "id": "dc3f783e-c959-41ed-a4c6-d25418db3846",
   "metadata": {},
   "outputs": [],
   "source": [
    "Read the file"
   ]
  },
  {
   "cell_type": "code",
   "execution_count": null,
   "id": "a4a52525-cb76-4107-83b1-b601693b66eb",
   "metadata": {},
   "outputs": [],
   "source": [
    "inspect the file"
   ]
  },
  {
   "cell_type": "code",
   "execution_count": null,
   "id": "0ed5b931-6a49-4d7b-9ebe-7b522c6e42fe",
   "metadata": {},
   "outputs": [],
   "source": [
    "Let's find out which day was the hottest observation during this time period"
   ]
  }
 ],
 "metadata": {
  "kernelspec": {
   "display_name": "Python 3 (ipykernel)",
   "language": "python",
   "name": "python3"
  },
  "language_info": {
   "codemirror_mode": {
    "name": "ipython",
    "version": 3
   },
   "file_extension": ".py",
   "mimetype": "text/x-python",
   "name": "python",
   "nbconvert_exporter": "python",
   "pygments_lexer": "ipython3",
   "version": "3.9.7"
  }
 },
 "nbformat": 4,
 "nbformat_minor": 5
}

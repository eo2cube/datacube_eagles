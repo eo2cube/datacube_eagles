{
 "cells": [
  {
   "cell_type": "markdown",
   "id": "f117c15f-b09b-48d1-b3ef-35b95af1ed02",
   "metadata": {},
   "source": [
    "# Pandas and Matplotlib Exercises 1"
   ]
  },
  {
   "cell_type": "markdown",
   "id": "1918277a-ffa5-45e6-a460-f1e7280e0671",
   "metadata": {},
   "source": [
    "1. Import GlobalLandTemperaturesByMajorCity.csv from data"
   ]
  },
  {
   "cell_type": "code",
   "execution_count": null,
   "id": "055e9ed4-b47c-4955-be2e-bafa033045d1",
   "metadata": {},
   "outputs": [],
   "source": [
    "import pandas as pd\n",
    "glt_mc = pd.read_csv('data/GlobalLandTemperaturesByMajorCity.csv')"
   ]
  },
  {
   "cell_type": "markdown",
   "id": "764c0f80-2ef7-434e-afc0-e5d47ae5d30c",
   "metadata": {},
   "source": [
    "2. Look at the first 5 entries"
   ]
  },
  {
   "cell_type": "code",
   "execution_count": null,
   "id": "d83c62ea-1816-406c-9166-3c43f9f45c23",
   "metadata": {},
   "outputs": [],
   "source": [
    "glt_mc.head()"
   ]
  },
  {
   "cell_type": "markdown",
   "id": "9401729a-afe3-428e-be59-264c997b1280",
   "metadata": {},
   "source": [
    "3. Print the name of all the columns"
   ]
  },
  {
   "cell_type": "code",
   "execution_count": null,
   "id": "f07dc32a-c1c6-4515-9937-98512b533214",
   "metadata": {},
   "outputs": [],
   "source": [
    "glt_mc.columns"
   ]
  },
  {
   "cell_type": "markdown",
   "id": "f697ca6d-ca93-487c-b850-56bdc4779514",
   "metadata": {},
   "source": [
    "4. What is the number of observations (rows) in the dataset?"
   ]
  },
  {
   "cell_type": "code",
   "execution_count": null,
   "id": "782e52d3-257a-4cbe-a3d5-40f61a32d242",
   "metadata": {},
   "outputs": [],
   "source": [
    "print(glt_mc.shape) #will give you both (observations/rows, columns)\n",
    "print(glt_mc.shape[0]) #will give you only the columns number"
   ]
  },
  {
   "cell_type": "markdown",
   "id": "9b5222db-7450-468d-bb4f-cb402d44c5c8",
   "metadata": {},
   "source": [
    "5. Which temporal range  is covered by this dataset?"
   ]
  },
  {
   "cell_type": "code",
   "execution_count": null,
   "id": "b628669d-afd6-4dcf-91de-0e948e86db38",
   "metadata": {},
   "outputs": [],
   "source": [
    "glt_mc['dt'] = pd.to_datetime(glt_mc['dt'])\n",
    "glt_mc = glt_mc.set_index('dt')"
   ]
  },
  {
   "cell_type": "code",
   "execution_count": null,
   "id": "8fcc3581-b9da-47e5-8513-a1435a400fb8",
   "metadata": {},
   "outputs": [],
   "source": [
    "glt_mc.index.min()\n",
    "glt_mc.index.max()"
   ]
  },
  {
   "cell_type": "markdown",
   "id": "5cff0868-8489-4b74-9cb5-d65d4b6e001f",
   "metadata": {},
   "source": [
    "6. Count the number of cities in the dataset"
   ]
  },
  {
   "cell_type": "code",
   "execution_count": null,
   "id": "d12a8f24-2478-46f1-a0ac-6c746f154be2",
   "metadata": {},
   "outputs": [],
   "source": [
    "n_cities = len(pd.unique(glt_mc['City']))\n",
    "n_cities"
   ]
  },
  {
   "cell_type": "markdown",
   "id": "90778a1e-1ff9-4407-b6ab-0481e27b574f",
   "metadata": {},
   "source": [
    "7. Extract the average temperature for Moscow, London, Madrid, Berlin and Lisboa"
   ]
  },
  {
   "cell_type": "code",
   "execution_count": null,
   "id": "559734e1-f7cb-420f-8c25-8c879e68e2ee",
   "metadata": {},
   "outputs": [],
   "source": [
    "temp_cities = glt_mc[(glt_mc['City'] == 'London') | (glt_mc['City'] == 'Moscow') | (glt_mc['City'] == 'Madrid') | (glt_mc['City'] == 'Berlin') | (glt_mc['City'] == 'Lisboa') ]\n",
    "temp_cities"
   ]
  },
  {
   "cell_type": "markdown",
   "id": "7240f65b-a148-4005-8835-037462afadb7",
   "metadata": {},
   "source": [
    "8. Create a boxplot comparing the average temperature of Moscow, London, Madrid, Berlin and Lisboa"
   ]
  },
  {
   "cell_type": "code",
   "execution_count": null,
   "id": "d66b3a90-35df-4ad5-bcd5-44ebb664caa6",
   "metadata": {},
   "outputs": [],
   "source": [
    "import matplotlib.pyplot as plt\n",
    "import seaborn as sns\n",
    "\n",
    "sns.set(style=\"darkgrid\")\n",
    "\n",
    "plt.figure(figsize=(16, 10))\n",
    "plt.xticks(rotation=90)\n",
    "\n",
    "sns.boxplot(x='City', y=\"AverageTemperature\", data=temp_cities, palette=\"coolwarm\")\n"
   ]
  },
  {
   "cell_type": "markdown",
   "id": "e3c47cd2-81f7-4abe-b438-2534e21ef03a",
   "metadata": {},
   "source": [
    "9. Plot the distribution of average temperatures in Berlin"
   ]
  },
  {
   "cell_type": "code",
   "execution_count": null,
   "id": "7a44b111-a9c9-414a-bde1-5230bb61d8d2",
   "metadata": {},
   "outputs": [],
   "source": [
    "plt.title(\"Distribution of AverageTemperature\")\n",
    "plt.hist(temp_cities['AverageTemperature']);"
   ]
  },
  {
   "cell_type": "markdown",
   "id": "1c7c1a14-73f5-4e8f-8d0b-9cf0e5287ad0",
   "metadata": {},
   "source": [
    "10. What was the hottest year in Berlin during the observation period?"
   ]
  },
  {
   "cell_type": "code",
   "execution_count": null,
   "id": "95307503-a3bf-45d5-bcbe-37d4eefcd1ae",
   "metadata": {},
   "outputs": [],
   "source": [
    "temp_berlin = temp_cities[temp_cities['City'] == 'Berlin']\n",
    "temp_berlin.index[temp_berlin['AverageTemperature'] == temp_berlin['AverageTemperature'].max()]"
   ]
  },
  {
   "cell_type": "markdown",
   "id": "eb43ead9-3362-43f5-a627-478e40942ee5",
   "metadata": {},
   "source": [
    "11. Plot a heatmap showing the average monthly temperature of Berlin between 2000 and 2013 [X-Axis = Year, Y-Axis = Month ]"
   ]
  },
  {
   "cell_type": "code",
   "execution_count": null,
   "id": "cb188441-4171-41ed-ae25-a35e064f8542",
   "metadata": {},
   "outputs": [],
   "source": [
    "temp_b_2000 = temp_berlin[temp_berlin.index >= '2000-01-01']\n",
    "temp_b_2000['Month'] = temp_b_2000.index.month.values\n",
    "temp_b_2000['Year'] = temp_b_2000.index.year.values\n",
    "data = temp_b_2000.pivot(index='Month', columns='Year',values=\"AverageTemperature\")\n",
    "plt.figure(figsize=(15,15))\n",
    "plt.title(\"Monthly Temprature from year 2000 to 2013\")\n",
    "sns.heatmap(data,annot=True, cmap='Reds');"
   ]
  }
 ],
 "metadata": {
  "kernelspec": {
   "display_name": "Python 3 (ipykernel)",
   "language": "python",
   "name": "python3"
  },
  "language_info": {
   "codemirror_mode": {
    "name": "ipython",
    "version": 3
   },
   "file_extension": ".py",
   "mimetype": "text/x-python",
   "name": "python",
   "nbconvert_exporter": "python",
   "pygments_lexer": "ipython3",
   "version": "3.9.7"
  }
 },
 "nbformat": 4,
 "nbformat_minor": 5
}

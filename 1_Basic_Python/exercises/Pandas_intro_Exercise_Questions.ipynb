{
 "cells": [
  {
   "cell_type": "markdown",
   "metadata": {
    "id": "gKsX5nzhZeD_"
   },
   "source": [
    "# **Pandas Basics on CSV reading and Data Manipulation**\n",
    "\n",
    "Pandas is defined as an open-source library that provides high-performance data manipulation in Python. It is built on top of the NumPy package, which means Numpy is required for operating the Pandas. Pandas is a popular library for working with tabular data, as it provides some sets of powerful tools like DataFrame and Series that mainly used for analyzing the data. Besides, Pandas also has higher performance when dealing with very large dataset. In this exercise, we will see how can we use Pandas to read csv file and do some basic calculation.\n",
    "\n",
    "In this exercise we have three different csv files, which is data coming from the classification results and validation data in the Landsat scene.\n",
    "\n",
    "### Data overview:\n",
    "**1_accuracy_groundtruth.csv** \n",
    "Validation data manually collected\n",
    "* it has one column with three values, 1: snow, 2: snowfree, 12: invalid\n",
    "\n",
    "**2_accuracy_class1.csv** \n",
    "Classification results using classification scheme 1\n",
    "* it has one column with three values, 11: snow, 10: snowfree, 12: cloud, 15: water, 16: shadow, 0: missing data\n",
    "\n",
    "**3_accuracy_class2.csv** \n",
    "Classification results using classification scheme 2\n",
    "* it has one column with three values, 11: snow, 10: snowfree, 12: cloud, 15: water, 16: shadow, 0: missing data\n",
    "\n",
    "### **Note: All cloud, water, shadow, and missing data are considered invalid in the ground truth data.**"
   ]
  },
  {
   "cell_type": "markdown",
   "metadata": {
    "id": "Ttd3Qzkmgu4Y"
   },
   "source": [
    "## Task 1: Import required libraries"
   ]
  },
  {
   "cell_type": "code",
   "execution_count": null,
   "metadata": {
    "id": "orlGsQSJW-Kt"
   },
   "outputs": [],
   "source": []
  },
  {
   "cell_type": "markdown",
   "metadata": {
    "id": "jToUqG5ygz0k"
   },
   "source": [
    "## Task 2: Data read\n",
    "Read all 3 csv files into Pandas dataframe\n",
    "\n",
    "* Ground Truth as **groundtruth_df**\n",
    "* Classification 1 as **class1_df**\n",
    "* Classification 2 as **class2_df**\n",
    "\n",
    "HINT: use read_csv()"
   ]
  },
  {
   "cell_type": "code",
   "execution_count": null,
   "metadata": {
    "id": "but2yCxnagL0"
   },
   "outputs": [],
   "source": []
  },
  {
   "cell_type": "code",
   "execution_count": null,
   "metadata": {
    "id": "DEhoALYtatd4"
   },
   "outputs": [],
   "source": []
  },
  {
   "cell_type": "code",
   "execution_count": null,
   "metadata": {
    "id": "MGsYgNgna6s6"
   },
   "outputs": [],
   "source": []
  },
  {
   "cell_type": "markdown",
   "metadata": {
    "id": "_ztUY1Q-g-Xz"
   },
   "source": [
    "## Task 3: Data overview\n",
    "Print the first 10 lines of **groundtruth_df** and the last line of **groundtruth_df**\n",
    "\n",
    "HINT: use head() and tail()"
   ]
  },
  {
   "cell_type": "code",
   "execution_count": null,
   "metadata": {
    "id": "YH3WtwM7bKth"
   },
   "outputs": [],
   "source": []
  },
  {
   "cell_type": "code",
   "execution_count": null,
   "metadata": {
    "id": "9bEgemjzbP-Z"
   },
   "outputs": [],
   "source": []
  },
  {
   "cell_type": "markdown",
   "metadata": {
    "id": "7Nxgcty7hdY5"
   },
   "source": [
    "## Task 4: Funtion for dataframe length\n",
    "Write a function **check_len()** to test if the number of rows in the three Dataframes are the same. It takes input of **df1**, **df2**, **df3**. \n",
    "<br>If they are the same, return **True**. If not, return **False**. <br>Apply the three dataframes into the function."
   ]
  },
  {
   "cell_type": "code",
   "execution_count": null,
   "metadata": {
    "id": "0VwDaN3ibdZX"
   },
   "outputs": [],
   "source": []
  },
  {
   "cell_type": "code",
   "execution_count": null,
   "metadata": {
    "id": "tSmEfdanb-SG"
   },
   "outputs": [],
   "source": []
  },
  {
   "cell_type": "markdown",
   "metadata": {
    "id": "-awdFDOriOaH"
   },
   "source": [
    "## Task 5: New pandas dataframe\n",
    "Create a Pandas Dataframe which includes three columns: \n",
    "* **truth**: from groundtruth_df\n",
    "* **class1**: from class1_df\n",
    "* **class2**: from class2_df"
   ]
  },
  {
   "cell_type": "code",
   "execution_count": null,
   "metadata": {
    "id": "F1GEHTAMcPy1"
   },
   "outputs": [],
   "source": []
  },
  {
   "cell_type": "code",
   "execution_count": null,
   "metadata": {
    "id": "FaUPe89ycm8Z"
   },
   "outputs": [],
   "source": []
  },
  {
   "cell_type": "markdown",
   "metadata": {
    "id": "eoj33QNFixWi"
   },
   "source": [
    "## Task 6: Data Post-processing\n",
    "Now we shall have a Pandas dataframe with 3 columns of different values representing different classes. But right now invalid class have different values in class1 and class2 compared to the truth column. And the data type of three columns are not identical. So we need to:\n",
    "\n",
    "1) Make sure all columns have the same data type (integer)\n",
    "2) Change **cloud, water, shadow, and missing data** in class1 and class2 to **invalid class (12)**\n",
    "3) In the column **truth** change values 1 into 11, 0 into 10\n",
    "<br>\n",
    "\n",
    "So at the end, we should have:\n",
    "* **10: Snowfree**\n",
    "* **11: Snow**\n",
    "* **12: Invalid (Snow, Cloud, Missing data, Shadow)**\n",
    "\n",
    "HINT: use replace() and don't forget to assign it back to the variable, or use inplace = True"
   ]
  },
  {
   "cell_type": "code",
   "execution_count": null,
   "metadata": {
    "id": "e9HngFOkkxAH"
   },
   "outputs": [],
   "source": []
  },
  {
   "cell_type": "code",
   "execution_count": null,
   "metadata": {
    "id": "3cMjply3lBt3"
   },
   "outputs": [],
   "source": []
  },
  {
   "cell_type": "markdown",
   "metadata": {
    "id": "-Ce5sgmFlEq_"
   },
   "source": [
    "## Task 7: Handling Missing Values\n",
    "We have to pay attention that for some rows values might not be available in class1 or class2. To deal with those missing data, it is the best to remove the whole row, even through only values in one single column is missing.\n",
    "\n",
    "HINT: use dropna()"
   ]
  },
  {
   "cell_type": "code",
   "execution_count": null,
   "metadata": {
    "id": "sA5wlpeEldnJ"
   },
   "outputs": [],
   "source": []
  },
  {
   "cell_type": "markdown",
   "metadata": {
    "id": "PMS5pphNlodh"
   },
   "source": [
    "And we need to look at the first five lines of df again."
   ]
  },
  {
   "cell_type": "code",
   "execution_count": null,
   "metadata": {
    "id": "r_p6X94DlpNW"
   },
   "outputs": [],
   "source": []
  },
  {
   "cell_type": "markdown",
   "metadata": {
    "id": "01o1iK14lxnu"
   },
   "source": [
    "## Task 8: Data Exploration\n",
    "\n",
    "Find out how many observations remain for each class in the truth column (three classes in total).\n",
    "\n",
    "HINT: use groupby()"
   ]
  },
  {
   "cell_type": "code",
   "execution_count": null,
   "metadata": {
    "id": "Bb6tnfgGl2uX"
   },
   "outputs": [],
   "source": []
  },
  {
   "cell_type": "markdown",
   "metadata": {
    "id": "QJ0Btvwdm-bf"
   },
   "source": [
    "## Task 9: Data Export\n",
    "\n",
    "Export df as a csv file.\n",
    "\n",
    "HINT: use to_csv()"
   ]
  },
  {
   "cell_type": "code",
   "execution_count": 1,
   "metadata": {
    "id": "LJBCLDvMmRAH"
   },
   "outputs": [],
   "source": []
  }
 ],
 "metadata": {
  "colab": {
   "collapsed_sections": [],
   "name": "Pandas_intro_QUESTIONS.ipynb",
   "provenance": []
  },
  "kernelspec": {
   "display_name": "Python 3 (ipykernel)",
   "language": "python",
   "name": "python3"
  },
  "language_info": {
   "codemirror_mode": {
    "name": "ipython",
    "version": 3
   },
   "file_extension": ".py",
   "mimetype": "text/x-python",
   "name": "python",
   "nbconvert_exporter": "python",
   "pygments_lexer": "ipython3",
   "version": "3.9.7"
  }
 },
 "nbformat": 4,
 "nbformat_minor": 4
}

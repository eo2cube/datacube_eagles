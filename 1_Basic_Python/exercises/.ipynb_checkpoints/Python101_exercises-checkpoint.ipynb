{
 "cells": [
  {
   "cell_type": "markdown",
   "id": "d0495781-9041-427b-8656-e9199869041f",
   "metadata": {},
   "source": [
    "# Python 101 Exercises"
   ]
  },
  {
   "cell_type": "markdown",
   "id": "6ea2f1db-d8e5-49d2-b45e-19b40a3ad63a",
   "metadata": {},
   "source": [
    "#### Exercise 1\n",
    "Write a script where the user can input a number. Depending on whether the number is even or odd, print out an appropriate message to the user"
   ]
  },
  {
   "cell_type": "code",
   "execution_count": 5,
   "id": "3220bb23-a359-4bd3-8408-1a0baa52e272",
   "metadata": {},
   "outputs": [
    {
     "name": "stdin",
     "output_type": "stream",
     "text": [
      "Enter a number:  1\n"
     ]
    },
    {
     "name": "stdout",
     "output_type": "stream",
     "text": [
      "1.0 is Odd\n"
     ]
    }
   ],
   "source": []
  },
  {
   "cell_type": "markdown",
   "id": "d2dd586d-3a2d-4825-b78c-4f0467de23cc",
   "metadata": {},
   "source": [
    "#### Exercise 2\n",
    "Remove all occurrences of a specific item from a list.\n",
    "<br>\n",
    "\n",
    "Input: [3, 2, 1, 5, 4, 0, 0, 4, 2, 0, 7, 5, 0]\n",
    "<br>\n",
    "Output: [3, 2, 1, 5, 4,4, 2, 7, 5]"
   ]
  },
  {
   "cell_type": "code",
   "execution_count": 6,
   "id": "8afcc90d-b4c5-43b2-973a-4e251e4f7fc8",
   "metadata": {},
   "outputs": [
    {
     "name": "stdout",
     "output_type": "stream",
     "text": [
      "[3, 2, 1, 5, 4, 4, 2, 7, 5]\n"
     ]
    }
   ],
   "source": []
  },
  {
   "cell_type": "markdown",
   "id": "47cf9499-22cf-4325-8bba-1b543e4d57da",
   "metadata": {},
   "source": [
    "#### Exercise 3\n",
    "Write a program which prints a Fibonnaci sequence of variable length (For example n=7: 1, 1, 2, 3, 5, 8, 13)"
   ]
  },
  {
   "cell_type": "code",
   "execution_count": null,
   "id": "118f2144-8a1f-4c6d-b6c9-bce7454d5001",
   "metadata": {},
   "outputs": [],
   "source": []
  },
  {
   "cell_type": "markdown",
   "id": "ce1449fe-bbb5-492c-a047-d17fb8bbfd2c",
   "metadata": {},
   "source": [
    "#### Exercise 4\n",
    "Given a string, return a new string where the first and last chars have been exchanged"
   ]
  },
  {
   "cell_type": "code",
   "execution_count": null,
   "id": "79254d2b-af5e-4676-94ae-30620476cf7c",
   "metadata": {},
   "outputs": [],
   "source": []
  },
  {
   "cell_type": "markdown",
   "id": "91ac6889-73d5-4d90-86ad-8f59b2d7f763",
   "metadata": {},
   "source": [
    "#### Exercise 5\n",
    "Get the key of a minimum value from the following dictionary\n",
    "\n",
    "sample_dict = {'A': 23, 'B': 65, 'C': 75, 'D': 3, 'E': 15, 'F': 175}"
   ]
  },
  {
   "cell_type": "code",
   "execution_count": 9,
   "id": "8e7c12fc-572b-469b-8234-5e3688597b68",
   "metadata": {},
   "outputs": [
    {
     "name": "stdout",
     "output_type": "stream",
     "text": [
      "D\n"
     ]
    }
   ],
   "source": []
  },
  {
   "cell_type": "markdown",
   "id": "ab45349d-4a61-4204-a9ae-c6df31a9f9b9",
   "metadata": {},
   "source": [
    "#### Exercise 6\n",
    "Use the sum function to find the sum of dictionary values."
   ]
  },
  {
   "cell_type": "code",
   "execution_count": null,
   "id": "987c41c6-41a0-4e81-a05d-868cf31ad464",
   "metadata": {},
   "outputs": [],
   "source": []
  },
  {
   "cell_type": "markdown",
   "id": "b08a9e83-e85d-489f-b691-5a2611855971",
   "metadata": {},
   "source": [
    "#### Exercise 7\n",
    "\n",
    "Write a program which can compute the factorial of a given number."
   ]
  },
  {
   "cell_type": "code",
   "execution_count": null,
   "id": "1fa15c03-f061-42b8-9556-b963a7615e37",
   "metadata": {},
   "outputs": [],
   "source": []
  },
  {
   "cell_type": "markdown",
   "id": "30c55641-87cc-4aa4-9c9a-d045928c5c7c",
   "metadata": {},
   "source": [
    "#### Exercise 8\n",
    "\n",
    "Write  a function that checks if the first and last number of a list is the same\n",
    "The function should return True if the first and last number of a given list is same. If numbers are different then return False."
   ]
  },
  {
   "cell_type": "code",
   "execution_count": 2,
   "id": "4708ff9f-2b71-41a9-b798-872151f5def6",
   "metadata": {},
   "outputs": [
    {
     "name": "stdout",
     "output_type": "stream",
     "text": [
      "Given list: [10, 20, 30, 40, 10]\n",
      "result is True\n",
      "Given list: [75, 65, 35, 75, 30]\n",
      "result is False\n"
     ]
    }
   ],
   "source": []
  },
  {
   "cell_type": "markdown",
   "id": "0b1a7c4e-62d5-44a5-8513-d0405c0e9cf3",
   "metadata": {},
   "source": [
    "#### Exercise 9\n",
    "\n",
    "Write a function that prints the characters of a string that are present at an even index number.\n",
    "For example, str = \"Python\" so you should display ‘p’, ‘t’, ‘o’"
   ]
  },
  {
   "cell_type": "code",
   "execution_count": 1,
   "id": "01865d58-f8b5-4eaf-b2f7-12db47843684",
   "metadata": {},
   "outputs": [
    {
     "name": "stdin",
     "output_type": "stream",
     "text": [
      "Enter word  Hello World\n"
     ]
    },
    {
     "name": "stdout",
     "output_type": "stream",
     "text": [
      "index[ 0 ] H\n",
      "index[ 2 ] l\n",
      "index[ 4 ] o\n",
      "index[ 6 ] W\n",
      "index[ 8 ] r\n"
     ]
    }
   ],
   "source": []
  },
  {
   "cell_type": "markdown",
   "id": "f57244b1-4025-4e04-a13a-10d5454f447f",
   "metadata": {},
   "source": [
    "#### Exercise 10\n",
    "\n",
    "Iterate the given list of numbers and print only those numbers which are divisible by 5"
   ]
  },
  {
   "cell_type": "code",
   "execution_count": 3,
   "id": "59689fef-226f-4cfd-859d-6ec1d2257029",
   "metadata": {},
   "outputs": [
    {
     "name": "stdout",
     "output_type": "stream",
     "text": [
      "10\n",
      "20\n",
      "55\n"
     ]
    }
   ],
   "source": []
  },
  {
   "cell_type": "markdown",
   "id": "39e7b374-fa67-4869-a44f-ae34b0fbc05c",
   "metadata": {},
   "source": [
    "#### Exercise 11\n",
    "\n",
    "Write a program to check if the given number is a palindrome number."
   ]
  },
  {
   "cell_type": "code",
   "execution_count": 4,
   "id": "afc4852e-218e-41e6-a078-abfa72f2f337",
   "metadata": {},
   "outputs": [
    {
     "name": "stdout",
     "output_type": "stream",
     "text": [
      "original number 121\n",
      "Given number palindrome\n",
      "original number 125\n",
      "Given number is not palindrome\n"
     ]
    }
   ],
   "source": []
  },
  {
   "cell_type": "markdown",
   "id": "abfe261c-92ea-4d47-9694-3e8e5ff70225",
   "metadata": {},
   "source": [
    "#### Exercise 12\n",
    "\n",
    "Write a program to display all prime numbers within a range"
   ]
  },
  {
   "cell_type": "code",
   "execution_count": null,
   "id": "4643604c-08a5-4154-8267-634643cf306b",
   "metadata": {},
   "outputs": [],
   "source": []
  },
  {
   "cell_type": "markdown",
   "id": "da31cff4-f1b0-478e-b4f7-4dcd60462c69",
   "metadata": {
    "tags": []
   },
   "source": [
    "#### Exercise 13\n",
    "\n",
    "Write a Python program to create a sequence where the first four members of the sequence are equal to one, and each successive term of the sequence is equal to the sum of the four previous ones. Find the Nth member of the sequence"
   ]
  },
  {
   "cell_type": "code",
   "execution_count": null,
   "id": "cfa2c48f-2600-47b5-a6da-72493f7b5f41",
   "metadata": {},
   "outputs": [],
   "source": []
  },
  {
   "cell_type": "markdown",
   "id": "dc68c6a5-4e3c-4b01-98a2-65bea4988e90",
   "metadata": {},
   "source": [
    "#### Exercise 14\n",
    "Given a string. The task is to print all words with even length in the given string."
   ]
  },
  {
   "cell_type": "code",
   "execution_count": 13,
   "id": "dfd31b96-77ab-494a-a170-6045f916547f",
   "metadata": {},
   "outputs": [
    {
     "name": "stdout",
     "output_type": "stream",
     "text": [
      "like\n",
      "Python\n"
     ]
    }
   ],
   "source": []
  }
 ],
 "metadata": {
  "kernelspec": {
   "display_name": "Python 3 (ipykernel)",
   "language": "python",
   "name": "python3"
  },
  "language_info": {
   "codemirror_mode": {
    "name": "ipython",
    "version": 3
   },
   "file_extension": ".py",
   "mimetype": "text/x-python",
   "name": "python",
   "nbconvert_exporter": "python",
   "pygments_lexer": "ipython3",
   "version": "3.9.6"
  }
 },
 "nbformat": 4,
 "nbformat_minor": 5
}

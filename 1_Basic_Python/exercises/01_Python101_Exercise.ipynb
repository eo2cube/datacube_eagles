{
 "cells": [
  {
   "cell_type": "markdown",
   "id": "d0495781-9041-427b-8656-e9199869041f",
   "metadata": {},
   "source": [
    "# Python 101 Exercises"
   ]
  },
  {
   "cell_type": "markdown",
   "id": "6ea2f1db-d8e5-49d2-b45e-19b40a3ad63a",
   "metadata": {},
   "source": [
    "#### Exercise 1\n",
    "Write a function which takes a integer number as input an checks if its even or odd"
   ]
  },
  {
   "cell_type": "code",
   "execution_count": null,
   "id": "3220bb23-a359-4bd3-8408-1a0baa52e272",
   "metadata": {},
   "outputs": [],
   "source": []
  },
  {
   "cell_type": "markdown",
   "id": "d2dd586d-3a2d-4825-b78c-4f0467de23cc",
   "metadata": {},
   "source": [
    "#### Exercise 2\n",
    "Write a function that removes all occurrences of a specific value from a list.\n",
    "\n",
    "*For example:  \n",
    "remove_value(list = [3, 2, 1, 5, 4, 0, 0, 4, 2, 0, 7, 5, 0], value = 0)  \n",
    "Output: [3, 2, 1, 5, 4,4, 2, 7, 5]*"
   ]
  },
  {
   "cell_type": "code",
   "execution_count": null,
   "id": "8afcc90d-b4c5-43b2-973a-4e251e4f7fc8",
   "metadata": {},
   "outputs": [],
   "source": []
  },
  {
   "cell_type": "markdown",
   "id": "47cf9499-22cf-4325-8bba-1b543e4d57da",
   "metadata": {},
   "source": [
    "#### Exercise 3\n",
    "Write a function which prints a Fibonnaci sequence of variable length  \n",
    "\n",
    "*For example:  \n",
    "fibonnaci(n=7)  \n",
    "Output: 1, 1, 2, 3, 5, 8, 13*"
   ]
  },
  {
   "cell_type": "code",
   "execution_count": 9,
   "id": "118f2144-8a1f-4c6d-b6c9-bce7454d5001",
   "metadata": {},
   "outputs": [
    {
     "name": "stdout",
     "output_type": "stream",
     "text": [
      "0, 1, 1, 2, 3, 5, 8\n"
     ]
    }
   ],
   "source": []
  },
  {
   "cell_type": "markdown",
   "id": "ce1449fe-bbb5-492c-a047-d17fb8bbfd2c",
   "metadata": {},
   "source": [
    "#### Exercise 4\n",
    "Given a string, return a new string where the first and last characters have been exchanged\n",
    "\n",
    "*For example:  \n",
    "exchange(string='abcdefg')  \n",
    "Output: 'gbcdefa'*"
   ]
  },
  {
   "cell_type": "code",
   "execution_count": null,
   "id": "79254d2b-af5e-4676-94ae-30620476cf7c",
   "metadata": {},
   "outputs": [],
   "source": []
  },
  {
   "cell_type": "markdown",
   "id": "91ac6889-73d5-4d90-86ad-8f59b2d7f763",
   "metadata": {},
   "source": [
    "#### Exercise 5\n",
    "Get the key of a minimum value from the following dictionary\n",
    "\n",
    "sample_dict = {'A': 23, 'B': 65, 'C': 75, 'D': 3, 'E': 15, 'F': 175}"
   ]
  },
  {
   "cell_type": "code",
   "execution_count": null,
   "id": "8e7c12fc-572b-469b-8234-5e3688597b68",
   "metadata": {},
   "outputs": [],
   "source": []
  },
  {
   "cell_type": "markdown",
   "id": "ab45349d-4a61-4204-a9ae-c6df31a9f9b9",
   "metadata": {},
   "source": [
    "#### Exercise 6\n",
    "Use the ```sum()``` function to find the sum of dictionary values."
   ]
  },
  {
   "cell_type": "code",
   "execution_count": null,
   "id": "987c41c6-41a0-4e81-a05d-868cf31ad464",
   "metadata": {},
   "outputs": [],
   "source": []
  },
  {
   "cell_type": "markdown",
   "id": "b08a9e83-e85d-489f-b691-5a2611855971",
   "metadata": {},
   "source": [
    "#### Exercise 7\n",
    "\n",
    "Write a program which can compute the factorial of a given number."
   ]
  },
  {
   "cell_type": "code",
   "execution_count": null,
   "id": "1fa15c03-f061-42b8-9556-b963a7615e37",
   "metadata": {},
   "outputs": [],
   "source": []
  },
  {
   "cell_type": "markdown",
   "id": "30c55641-87cc-4aa4-9c9a-d045928c5c7c",
   "metadata": {},
   "source": [
    "#### Exercise 8\n",
    "\n",
    "Write  a function that checks if the first and last number of a list is the same.\n",
    "\n",
    "The function should return ```True``` if the first and last number of a given list is same. If the numbers are not the same then return ```False```."
   ]
  },
  {
   "cell_type": "code",
   "execution_count": null,
   "id": "4708ff9f-2b71-41a9-b798-872151f5def6",
   "metadata": {},
   "outputs": [],
   "source": []
  },
  {
   "cell_type": "markdown",
   "id": "0b1a7c4e-62d5-44a5-8513-d0405c0e9cf3",
   "metadata": {},
   "source": [
    "#### Exercise 9\n",
    "\n",
    "Write a function that prints the characters of a string that are present at an even index number.\n",
    "\n",
    "*For example  \n",
    "even_characters(string = \"Python\")  \n",
    "Output: ‘p’, ‘t’, ‘o’*"
   ]
  },
  {
   "cell_type": "code",
   "execution_count": null,
   "id": "01865d58-f8b5-4eaf-b2f7-12db47843684",
   "metadata": {},
   "outputs": [],
   "source": []
  },
  {
   "cell_type": "markdown",
   "id": "f57244b1-4025-4e04-a13a-10d5454f447f",
   "metadata": {},
   "source": [
    "#### Exercise 10\n",
    "\n",
    "Iterate over a given list of numbers and print only those numbers which are divisible by 5"
   ]
  },
  {
   "cell_type": "code",
   "execution_count": null,
   "id": "59689fef-226f-4cfd-859d-6ec1d2257029",
   "metadata": {},
   "outputs": [],
   "source": []
  },
  {
   "cell_type": "markdown",
   "id": "39e7b374-fa67-4869-a44f-ae34b0fbc05c",
   "metadata": {},
   "source": [
    "#### Exercise 11\n",
    "\n",
    "Write a function which checks if a given number is a palindrome number."
   ]
  },
  {
   "cell_type": "code",
   "execution_count": null,
   "id": "afc4852e-218e-41e6-a078-abfa72f2f337",
   "metadata": {},
   "outputs": [],
   "source": []
  },
  {
   "cell_type": "markdown",
   "id": "abfe261c-92ea-4d47-9694-3e8e5ff70225",
   "metadata": {},
   "source": [
    "#### Exercise 12\n",
    "\n",
    "Write a function to print all prime numbers within a certain range"
   ]
  },
  {
   "cell_type": "code",
   "execution_count": null,
   "id": "4643604c-08a5-4154-8267-634643cf306b",
   "metadata": {},
   "outputs": [],
   "source": []
  },
  {
   "cell_type": "markdown",
   "id": "dc68c6a5-4e3c-4b01-98a2-65bea4988e90",
   "metadata": {},
   "source": [
    "#### Exercise 14\n",
    "Given a string, print all words with even length in the given string."
   ]
  },
  {
   "cell_type": "code",
   "execution_count": null,
   "id": "dfd31b96-77ab-494a-a170-6045f916547f",
   "metadata": {},
   "outputs": [],
   "source": []
  }
 ],
 "metadata": {
  "kernelspec": {
   "display_name": "Python 3 (ipykernel)",
   "language": "python",
   "name": "python3"
  },
  "language_info": {
   "codemirror_mode": {
    "name": "ipython",
    "version": 3
   },
   "file_extension": ".py",
   "mimetype": "text/x-python",
   "name": "python",
   "nbconvert_exporter": "python",
   "pygments_lexer": "ipython3",
   "version": "3.9.7"
  }
 },
 "nbformat": 4,
 "nbformat_minor": 5
}

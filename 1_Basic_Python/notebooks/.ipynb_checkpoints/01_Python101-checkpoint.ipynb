{
 "cells": [
  {
   "cell_type": "markdown",
   "metadata": {
    "slideshow": {
     "slide_type": "slide"
    }
   },
   "source": [
    "### First code in Python"
   ]
  },
  {
   "cell_type": "markdown",
   "metadata": {
    "slideshow": {
     "slide_type": "slide"
    }
   },
   "source": [
    "#### Running (executing) a cell\n",
    "\n",
    "Jupyter Notebooks allow code to be separated into sections that can be executed independent of one another. These sections are called \"cells\".\n",
    "\n",
    "Running a cell means that you will execute the cell’s contents. To execute a cell, you can just select the cell and click the Run button that is in the row of buttons along the top. It’s towards the middle. If you prefer using your keyboard, you can just press SHIFT + ENTER\n",
    "\n",
    "To automatically run all cells in a notebook, navigate to the \"Run\" tab of the menu bar at the top of JupyterLab and select \"Run All Cells\" (or the option that best suits your needs). When a cell is run, the cell's content is executed. Any output produced from running the cell will appear directly below it."
   ]
  },
  {
   "cell_type": "code",
   "execution_count": null,
   "metadata": {
    "slideshow": {
     "slide_type": "slide"
    }
   },
   "outputs": [],
   "source": [
    "print('Hello World')"
   ]
  },
  {
   "cell_type": "markdown",
   "metadata": {
    "slideshow": {
     "slide_type": "fragment"
    }
   },
   "source": [
    "#### Cell status\n",
    "\n",
    "The [ ]: symbol to the left of each Code cell describes the state of the cell:\n",
    "\n",
    "    [ ]: means that the cell has not been run yet.\n",
    "    [*]: means that the cell is currently running.\n",
    "    [1]: means that the cell has finished running and was the first cell run.\n",
    "    \n",
    "For more information on jupyter notebooks have a look at the [jupyter_introduction.ipynb](../How_To/01_jupyter_introduction.ipynb) notebook in the How_To section"
   ]
  },
  {
   "cell_type": "markdown",
   "metadata": {
    "slideshow": {
     "slide_type": "slide"
    }
   },
   "source": [
    "### Mathematical Operations\n",
    "\n",
    "Now we can try some basic mathematical operations"
   ]
  },
  {
   "cell_type": "code",
   "execution_count": null,
   "metadata": {
    "slideshow": {
     "slide_type": "fragment"
    }
   },
   "outputs": [],
   "source": [
    "243 + 3"
   ]
  },
  {
   "cell_type": "code",
   "execution_count": null,
   "metadata": {
    "slideshow": {
     "slide_type": "fragment"
    }
   },
   "outputs": [],
   "source": [
    "4454 - 32"
   ]
  },
  {
   "cell_type": "code",
   "execution_count": null,
   "metadata": {
    "slideshow": {
     "slide_type": "fragment"
    }
   },
   "outputs": [],
   "source": [
    "222 / 2 "
   ]
  },
  {
   "cell_type": "markdown",
   "metadata": {
    "slideshow": {
     "slide_type": "fragment"
    }
   },
   "source": [
    "### Functions\n",
    "\n",
    "Functions are named pieces of code, to perform a particular job. Functions in Python are excuted by specifying their name, followed by parentheses.\n"
   ]
  },
  {
   "cell_type": "code",
   "execution_count": 2,
   "metadata": {},
   "outputs": [
    {
     "data": {
      "text/plain": [
       "7"
      ]
     },
     "execution_count": 2,
     "metadata": {},
     "output_type": "execute_result"
    }
   ],
   "source": [
    "abs(-7)"
   ]
  },
  {
   "cell_type": "markdown",
   "metadata": {
    "slideshow": {
     "slide_type": "slide"
    }
   },
   "source": [
    "### Variables and Datatypes\n",
    "\n",
    "The idea of variables is fundamental to any programming. A variable allows you to store a value by assigning it to a defined name. \n",
    "To assign a variable a name, use one equal sign."
   ]
  },
  {
   "cell_type": "code",
   "execution_count": null,
   "metadata": {
    "slideshow": {
     "slide_type": "fragment"
    }
   },
   "outputs": [],
   "source": [
    "x = 5 "
   ]
  },
  {
   "cell_type": "markdown",
   "metadata": {
    "slideshow": {
     "slide_type": "fragment"
    }
   },
   "source": [
    "The name 'x' now refers to the value 5. To print out the actual value of 'x' use the print() command"
   ]
  },
  {
   "cell_type": "code",
   "execution_count": null,
   "metadata": {
    "slideshow": {
     "slide_type": "fragment"
    }
   },
   "outputs": [],
   "source": [
    "print(x)"
   ]
  },
  {
   "cell_type": "markdown",
   "metadata": {
    "slideshow": {
     "slide_type": "slide"
    }
   },
   "source": [
    "Python directly recognizes a variety of data types. So we don´t need to initialize each variable beforehand. If you want to know the type of a variable use the function 'type()'"
   ]
  },
  {
   "cell_type": "code",
   "execution_count": null,
   "metadata": {
    "slideshow": {
     "slide_type": "fragment"
    }
   },
   "outputs": [],
   "source": [
    "city = 'Würzburg'\n",
    "longitude = 49\n",
    "latitude = 9.95121\n",
    "boolean = longitude > latitude\n",
    "mylist = ['rainy', 'sunny', 'cloudy']\n",
    "mytuple = ('rainy', 'sunny', 'cloudy')\n",
    "mydict = {'rainy': 1, 'sunny': 2, 'cloudy': 3}"
   ]
  },
  {
   "cell_type": "markdown",
   "metadata": {
    "slideshow": {
     "slide_type": "slide"
    }
   },
   "source": [
    "In python variables can be easily reassigned. This means that you can connect a different value with a previously assigned variable, even if the variable is of different type."
   ]
  },
  {
   "cell_type": "code",
   "execution_count": null,
   "metadata": {
    "slideshow": {
     "slide_type": "fragment"
    }
   },
   "outputs": [],
   "source": [
    "x = 7\n",
    "print(x)\n",
    "\n",
    "x = 3 > 4\n",
    "print(x)"
   ]
  },
  {
   "cell_type": "markdown",
   "metadata": {
    "slideshow": {
     "slide_type": "slide"
    }
   },
   "source": [
    "### Assignment\n",
    "\n",
    "In python the '=' is used to assign a value to a variable. Besides a single equal sign you can also use combinations with other operators."
   ]
  },
  {
   "cell_type": "code",
   "execution_count": null,
   "metadata": {
    "slideshow": {
     "slide_type": "fragment"
    }
   },
   "outputs": [],
   "source": [
    "x=7\n",
    "x = 12\n",
    "print(x)\n",
    "x *= 2   # multiply x by 2\n",
    "print(x)\n",
    "x /= 2   # divide x by 2\n",
    "print(x)\n",
    "x -= 5   # subtract x by 5\n",
    "print(x)\n",
    "x += 5   # add 5 to x\n",
    "print(x)"
   ]
  },
  {
   "cell_type": "markdown",
   "metadata": {
    "slideshow": {
     "slide_type": "slide"
    }
   },
   "source": [
    "### Python libraries\n",
    "\n",
    "One of the main advantages in python is the extensive standard library (already included in python) and the huge number of third party libraries.\n",
    "In order to use these libraries you have to import them. Therefor you just need the 'import' command.\n"
   ]
  },
  {
   "cell_type": "code",
   "execution_count": null,
   "metadata": {
    "slideshow": {
     "slide_type": "fragment"
    }
   },
   "outputs": [],
   "source": [
    "import math\n",
    "math.ceil(3.445)"
   ]
  },
  {
   "cell_type": "markdown",
   "metadata": {
    "slideshow": {
     "slide_type": "slide"
    }
   },
   "source": [
    "When using the import command, python only loads the name of this module (e.g. math) and not the names of the single functions. <br>\n",
    "If you want to use individual classes or functions within the module you have to enter the name of the module and the name of the function separated by a dot:"
   ]
  },
  {
   "cell_type": "code",
   "execution_count": null,
   "metadata": {
    "slideshow": {
     "slide_type": "fragment"
    }
   },
   "outputs": [],
   "source": [
    "import math\n",
    "math.ceil(1.34) # math = module name , ceil = function name"
   ]
  },
  {
   "cell_type": "markdown",
   "metadata": {
    "slideshow": {
     "slide_type": "slide"
    }
   },
   "source": [
    "You can also assign a function to variable to a variable name"
   ]
  },
  {
   "cell_type": "code",
   "execution_count": null,
   "metadata": {
    "slideshow": {
     "slide_type": "fragment"
    }
   },
   "outputs": [],
   "source": [
    "import math\n",
    "ceil = math.ceil\n",
    "ceil(1.34)"
   ]
  },
  {
   "cell_type": "markdown",
   "metadata": {
    "slideshow": {
     "slide_type": "slide"
    }
   },
   "source": [
    "If you want to load only one or more specific function you can use the term from ... import ..."
   ]
  },
  {
   "cell_type": "code",
   "execution_count": null,
   "metadata": {
    "slideshow": {
     "slide_type": "fragment"
    }
   },
   "outputs": [],
   "source": [
    "from math import ceil\n",
    "from math import ceil, fabs, trunc\n",
    "from math import*      # import all functions of the module"
   ]
  },
  {
   "cell_type": "markdown",
   "metadata": {
    "slideshow": {
     "slide_type": "subslide"
    }
   },
   "source": [
    "You can also assign a new name to the a module or function while importing"
   ]
  },
  {
   "cell_type": "code",
   "execution_count": null,
   "metadata": {
    "slideshow": {
     "slide_type": "fragment"
    }
   },
   "outputs": [],
   "source": [
    "import math as m\n",
    "print(m.ceil(1.34))\n",
    "\n",
    "from math import ceil as c\n",
    "print(c(1.34))"
   ]
  },
  {
   "cell_type": "markdown",
   "metadata": {},
   "source": [
    "### Installing libraries"
   ]
  },
  {
   "cell_type": "markdown",
   "metadata": {
    "slideshow": {
     "slide_type": "slide"
    }
   },
   "source": [
    "If you want to install a external library you can do this via pip or conda"
   ]
  },
  {
   "cell_type": "code",
   "execution_count": null,
   "metadata": {
    "slideshow": {
     "slide_type": "fragment"
    }
   },
   "outputs": [],
   "source": [
    "!pip install geopandas"
   ]
  },
  {
   "cell_type": "code",
   "execution_count": null,
   "metadata": {
    "slideshow": {
     "slide_type": "fragment"
    }
   },
   "outputs": [],
   "source": [
    "!conda install geopandas"
   ]
  },
  {
   "cell_type": "markdown",
   "metadata": {
    "slideshow": {
     "slide_type": "slide"
    }
   },
   "source": [
    "### Help \n",
    "\n",
    "If you want to know more about a function/library or what they are exactly doing you can use the 'help()' function."
   ]
  },
  {
   "cell_type": "code",
   "execution_count": null,
   "metadata": {
    "slideshow": {
     "slide_type": "fragment"
    }
   },
   "outputs": [],
   "source": [
    "import geopandas as gpd\n",
    "help(gpd)"
   ]
  },
  {
   "cell_type": "code",
   "execution_count": null,
   "metadata": {
    "slideshow": {
     "slide_type": "fragment"
    }
   },
   "outputs": [],
   "source": [
    "import geopandas as gpd\n",
    "help(gpd.read_file)"
   ]
  },
  {
   "cell_type": "markdown",
   "metadata": {},
   "source": [
    "### Data types\n",
    "\n",
    "|Type | Meaning | Mutability | Examples |\n",
    "|-----|---------|------------|----------|\n",
    "| int | Integer | immutable | 1, -10, 0 |\n",
    "| float | Float | immutable | 3.2, 100.0, -9.9 |\n",
    "| bool | Boolean | immutable | True, False |\n",
    "| str | String | immutable | \"Hello!\", \"a\", \"I like Python\" |\n",
    "| list | List | mutable | [1,2,3] |\n",
    "| tuple | Tuple | immutable | (1, 2) |\n",
    "| dict | Dictionary | mutable | {\"a\": 2} |\n",
    "| set | Set | mutable | {\"a\", \"b\"} |\n",
    "\n",
    "These classes are the basic building blocks of Python. Later on, we are going to learn about other, more complex, classes, defined in third-party packages."
   ]
  },
  {
   "cell_type": "markdown",
   "metadata": {
    "slideshow": {
     "slide_type": "slide"
    }
   },
   "source": [
    "### Numbers\n",
    "\n",
    "Python can handle several types of numbers, but the two most common are:\n",
    "\n",
    "- int, which represents integer values like 100, and\n",
    "- float, which represents numbers that have a fraction part, like 0.5"
   ]
  },
  {
   "cell_type": "code",
   "execution_count": null,
   "metadata": {
    "slideshow": {
     "slide_type": "fragment"
    }
   },
   "outputs": [],
   "source": [
    "population = 127880\n",
    "latitude = 49.79391\n",
    "longitude = 9.95121"
   ]
  },
  {
   "cell_type": "code",
   "execution_count": null,
   "metadata": {
    "slideshow": {
     "slide_type": "fragment"
    }
   },
   "outputs": [],
   "source": [
    "print(type(population))"
   ]
  },
  {
   "cell_type": "code",
   "execution_count": null,
   "metadata": {
    "slideshow": {
     "slide_type": "fragment"
    }
   },
   "outputs": [],
   "source": [
    "print(type(latitude))"
   ]
  },
  {
   "cell_type": "code",
   "execution_count": null,
   "metadata": {
    "slideshow": {
     "slide_type": "slide"
    }
   },
   "outputs": [],
   "source": [
    "area = 87.63\n",
    "density = population / area\n",
    "print(density)"
   ]
  },
  {
   "cell_type": "markdown",
   "metadata": {
    "slideshow": {
     "slide_type": "slide"
    }
   },
   "source": [
    "### Booleans and comparison\n",
    "\n",
    "Another type in python is the so called boolean type. This type has two values: True and false. Booleans can be assign to a variable name or created for example when comparing values using the equal operator '=='. Another way to compare values is the not equal operator '!=' and the operators for greater '>' or smaller '<'."
   ]
  },
  {
   "cell_type": "code",
   "execution_count": null,
   "metadata": {
    "slideshow": {
     "slide_type": "fragment"
    }
   },
   "outputs": [],
   "source": [
    "x = True\n",
    "print(x)\n",
    "y = False\n",
    "print(y)"
   ]
  },
  {
   "cell_type": "code",
   "execution_count": null,
   "metadata": {
    "slideshow": {
     "slide_type": "slide"
    }
   },
   "outputs": [],
   "source": [
    "city_1 = 'Wuerzburg'\n",
    "pop_1 = 127880\n",
    "region_1 = 'Bavaria'\n",
    "city_2 = 'Munich'\n",
    "pop_2 = 1484226\n",
    "region_2 = 'Bavaria'"
   ]
  },
  {
   "cell_type": "code",
   "execution_count": null,
   "metadata": {
    "slideshow": {
     "slide_type": "fragment"
    }
   },
   "outputs": [],
   "source": [
    "print(pop_1 == pop_2)\n",
    "print(region_1 == region_2) \n",
    "print(pop_1 > pop_2)\n",
    "print(city_1 != city_2)"
   ]
  },
  {
   "cell_type": "markdown",
   "metadata": {
    "slideshow": {
     "slide_type": "slide"
    }
   },
   "source": [
    "### Strings\n",
    "\n",
    "If you want to use text in python, you have to use 'strings'. A string is created by writing your desired text between two single '(...)' or double quotation marks \"(...)\". For printing text (or numbers) use the 'print()' function."
   ]
  },
  {
   "cell_type": "code",
   "execution_count": null,
   "metadata": {
    "slideshow": {
     "slide_type": "fragment"
    }
   },
   "outputs": [],
   "source": [
    "print('Wuerzburg')\n",
    "print(\"Population is 127880\")"
   ]
  },
  {
   "cell_type": "markdown",
   "metadata": {
    "slideshow": {
     "slide_type": "fragment"
    }
   },
   "source": [
    "But there are some characters which can not entered directly into strings. For example, double quotes, newlines or backslashes."
   ]
  },
  {
   "cell_type": "code",
   "execution_count": null,
   "metadata": {
    "slideshow": {
     "slide_type": "fragment"
    }
   },
   "outputs": [],
   "source": [
    "print(\"longitude \"and\" latitude\")"
   ]
  },
  {
   "cell_type": "markdown",
   "metadata": {
    "slideshow": {
     "slide_type": "slide"
    }
   },
   "source": [
    "Strings can be concatenated with the + operator and even multiplied with numbers using an asterix (*)."
   ]
  },
  {
   "cell_type": "code",
   "execution_count": null,
   "metadata": {
    "slideshow": {
     "slide_type": "fragment"
    }
   },
   "outputs": [],
   "source": [
    "print(\"longitude\" + \"and\" + \"latitude\")\n",
    "print(\"longitude\" * 5)\n",
    "print('longitude' 'and' 'latitude') # also a row of strings will be concatenated\n"
   ]
  },
  {
   "cell_type": "markdown",
   "metadata": {
    "slideshow": {
     "slide_type": "slide"
    }
   },
   "source": [
    "Strings in python can also be indexed and sliced"
   ]
  },
  {
   "cell_type": "code",
   "execution_count": null,
   "metadata": {
    "slideshow": {
     "slide_type": "slide"
    }
   },
   "outputs": [],
   "source": [
    "city = 'San Francisco'\n",
    "ind0 = city[0]  # character in position 0\n",
    "ind1 = city[6]  # character in position 5\n",
    "\n",
    "print(ind0)\n",
    "print(ind1)\n",
    "\n",
    "ind2 = city[-1]  # last character\n",
    "ind3 = city[-3]  # second-last character\n",
    "\n",
    "print(ind2)\n",
    "print(ind3)"
   ]
  },
  {
   "cell_type": "markdown",
   "metadata": {
    "slideshow": {
     "slide_type": "slide"
    }
   },
   "source": [
    "<img src=\"images/indexing.png\" width=600 />"
   ]
  },
  {
   "cell_type": "code",
   "execution_count": null,
   "metadata": {
    "slideshow": {
     "slide_type": "slide"
    }
   },
   "outputs": [],
   "source": [
    "# Slicing\n",
    "city = 'San Francisco'\n",
    "sliceA = city[0:2]  # from position 0 (included) to 2 (excluded)\n",
    "print(sliceA)\n",
    "\n",
    "sliceB = city[2:5]  # from position 2 (included) to 5 (excluded)\n",
    "print(sliceB)\n",
    "\n",
    "sliceC = city[:2]   # from the beginning to position 2 (excluded)\n",
    "print(sliceC)\n",
    "\n",
    "sliceD = city[4:]   # from position 4 (included) to the end\n",
    "print(sliceD)\n",
    "\n",
    "sliceE = city[-2:]  # from the second-last (included) to the endpr\n",
    "print(sliceE)\n"
   ]
  },
  {
   "cell_type": "markdown",
   "metadata": {
    "slideshow": {
     "slide_type": "slide"
    }
   },
   "source": [
    "<img src=\"images/slicing.png\" width=600 />"
   ]
  },
  {
   "cell_type": "markdown",
   "metadata": {
    "slideshow": {
     "slide_type": "slide"
    }
   },
   "source": [
    "Python also provides many built-in functions and methods for strings. Below are just a few examples"
   ]
  },
  {
   "cell_type": "code",
   "execution_count": null,
   "metadata": {
    "slideshow": {
     "slide_type": "fragment"
    }
   },
   "outputs": [],
   "source": [
    "string1 = 'hello'\n",
    "string2 = 'World'"
   ]
  },
  {
   "cell_type": "code",
   "execution_count": null,
   "metadata": {
    "slideshow": {
     "slide_type": "fragment"
    }
   },
   "outputs": [],
   "source": [
    "# Length\n",
    "print(len(string1))"
   ]
  },
  {
   "cell_type": "code",
   "execution_count": null,
   "metadata": {
    "slideshow": {
     "slide_type": "fragment"
    }
   },
   "outputs": [],
   "source": [
    "# Count\n",
    "str = \"hello, world\";\n",
    "sub = \"o\"\n",
    "print(\"str.count(sub) : \", str.count(sub))\n",
    "sub = \"l\"\n",
    "print(\"str.count(sub, 1, 4) : \", str.count(sub, 1, 4))"
   ]
  },
  {
   "cell_type": "code",
   "execution_count": null,
   "metadata": {
    "slideshow": {
     "slide_type": "subslide"
    }
   },
   "outputs": [],
   "source": [
    "# uppercase/ lowercase\n",
    "print(string1.upper())\n",
    "print(string2.lower())"
   ]
  },
  {
   "cell_type": "code",
   "execution_count": null,
   "metadata": {
    "slideshow": {
     "slide_type": "fragment"
    }
   },
   "outputs": [],
   "source": [
    "# replace\n",
    "string3  = string1 + string2\n",
    "print(string3.replace('World',',you'))"
   ]
  },
  {
   "cell_type": "markdown",
   "metadata": {
    "slideshow": {
     "slide_type": "slide"
    }
   },
   "source": [
    "### Lists\n",
    "Another data type are so called lists. Lists can be created putting several comma-separated values between square brackets. You can use lists to generate sequences of values, which can be of the same or different datatype.\n"
   ]
  },
  {
   "cell_type": "code",
   "execution_count": null,
   "metadata": {
    "slideshow": {
     "slide_type": "fragment"
    }
   },
   "outputs": [],
   "source": [
    "letter_list = ['a','b','c','d','e','f'] #list of stringd\n",
    "print(letter_list)\n",
    "\n",
    "list_of_numbers = [1,2,3,4,5,6,7] #list of numbers\n",
    "print(list_of_numbers)\n",
    "\n",
    "mixed_list = ['hello', 2.45, 3, 'a', -.6545+0J] #mixing different data types\n",
    "type(mixed_list)"
   ]
  },
  {
   "cell_type": "markdown",
   "metadata": {
    "slideshow": {
     "slide_type": "slide"
    }
   },
   "source": [
    "Accessing the values in a list can be done using indexing or slicing. "
   ]
  },
  {
   "cell_type": "code",
   "execution_count": null,
   "metadata": {
    "slideshow": {
     "slide_type": "fragment"
    }
   },
   "outputs": [],
   "source": [
    "list1 = [1, 2, 3, 4, 'a', 'b','c','d']\n",
    "\n",
    "print(list1[2])\n",
    "print(list1[1:5])  # slice from 1 (included) to 5 (included)\n",
    "print(list1[-5])   # count from behind\n",
    "print(list1[2:])   # from 2 (included) to end\n",
    "print(list1[:2])   # from begin to 2 (!not included!)"
   ]
  },
  {
   "cell_type": "markdown",
   "metadata": {
    "slideshow": {
     "slide_type": "subslide"
    }
   },
   "source": [
    "You can also update lists  with one or more elements by giving the slice on the left-hand side. It´s also possible to append new elements to the list or delete list elements with the function."
   ]
  },
  {
   "cell_type": "code",
   "execution_count": null,
   "metadata": {
    "slideshow": {
     "slide_type": "fragment"
    }
   },
   "outputs": [],
   "source": [
    "list_names = ['Berlin', 'Paris','London','Madrid','Lisboa']\n",
    "print(list_names[3])\n",
    "\n",
    "# Update list\n",
    "list_names[3] = 'Rome'\n",
    "print(list_names[3])\n",
    "print(list_names)"
   ]
  },
  {
   "cell_type": "code",
   "execution_count": null,
   "metadata": {
    "slideshow": {
     "slide_type": "fragment"
    }
   },
   "outputs": [],
   "source": [
    "# deleting elemants\n",
    "print(list_names[3])\n",
    "del(list_names[3])\n",
    "print(list_names)"
   ]
  },
  {
   "cell_type": "code",
   "execution_count": null,
   "metadata": {
    "slideshow": {
     "slide_type": "fragment"
    }
   },
   "outputs": [],
   "source": [
    "# append elemnts\n",
    "list_names.append('Vienna')\n",
    "print(list_names)"
   ]
  },
  {
   "cell_type": "markdown",
   "metadata": {
    "slideshow": {
     "slide_type": "slide"
    }
   },
   "source": [
    "And there a several other basic list operations and built-in list functions and methods. Below are just a few examples."
   ]
  },
  {
   "cell_type": "code",
   "execution_count": null,
   "metadata": {
    "slideshow": {
     "slide_type": "fragment"
    }
   },
   "outputs": [],
   "source": [
    "list1 = [1,2,3,4] \n",
    "list2 = [5,6,7,8]\n",
    "list3 = [5,3,7,8,2,3,5,5,2]"
   ]
  },
  {
   "cell_type": "code",
   "execution_count": null,
   "metadata": {
    "slideshow": {
     "slide_type": "fragment"
    }
   },
   "outputs": [],
   "source": [
    "# Concatenation\n",
    "print([1,2,3,4] + [5,6,7,8])\n",
    "print(list1 + list2)"
   ]
  },
  {
   "cell_type": "code",
   "execution_count": null,
   "metadata": {
    "slideshow": {
     "slide_type": "fragment"
    }
   },
   "outputs": [],
   "source": [
    "# Repetition\n",
    "print([1,2,3,4] *2)\n",
    "print(list1 * 2)"
   ]
  },
  {
   "cell_type": "code",
   "execution_count": null,
   "metadata": {
    "slideshow": {
     "slide_type": "slide"
    }
   },
   "outputs": [],
   "source": [
    "# Iteration\n",
    "for x in [1,2,3,4]: print(x)\n",
    "#for x in list1: print(x)"
   ]
  },
  {
   "cell_type": "code",
   "execution_count": null,
   "metadata": {
    "slideshow": {
     "slide_type": "fragment"
    }
   },
   "outputs": [],
   "source": [
    "# Membership\n",
    "print('string' in [1,'string',3,4]) \n",
    "print(3 in list1)"
   ]
  },
  {
   "cell_type": "code",
   "execution_count": null,
   "metadata": {
    "slideshow": {
     "slide_type": "fragment"
    }
   },
   "outputs": [],
   "source": [
    "# Length\n",
    "len([1,2,3,4] )\n",
    "print(len(list1))"
   ]
  },
  {
   "cell_type": "code",
   "execution_count": null,
   "metadata": {
    "slideshow": {
     "slide_type": "fragment"
    }
   },
   "outputs": [],
   "source": [
    "# Max/Min\n",
    "print(max(list1))        # returns max/min value of the list\n",
    "print(min([1,2,3,4]))"
   ]
  },
  {
   "cell_type": "markdown",
   "metadata": {
    "slideshow": {
     "slide_type": "slide"
    }
   },
   "source": [
    "There are many different ways to interact with lists. Exploring them is part of the fun of python.\n",
    "\n",
    "**list.append(x)** Add an item to the end of the list. Equivalent to a[len(a):] = [x].\n",
    "\n",
    "**list.extend(L)** Extend the list by appending all the items in the given list. Equivalent to a[len(a):] = L.\n",
    "\n",
    "**list.insert(i, x)** Insert an item at a given position. The first argument is the index of the element before which to insert, so a.insert(0, x) inserts at the front of the list, and a.insert(len(a), x) is equivalent to a.append(x).\n",
    "\n",
    "**list.remove(x)** Remove the first item from the list whose value is x. It is an error if there is no such item.\n",
    "\n",
    "**list.pop([i])** Remove the item at the given position in the list, and return it. If no index is specified, a.pop() removes and returns the last item in the list.\n",
    "\n",
    "**list.clear()** Remove all items from the list. Equivalent to del a[:].\n",
    "\n",
    "**list.index(x)** Return the index in the list of the first item whose value is x. It is an error if there is no such item.\n",
    "\n",
    "**list.count(x)** Return the number of times x appears in the list.\n",
    "\n",
    "**list.sort()** Sort the items of the list in place.\n",
    "\n",
    "**list.reverse()** Reverse the elements of the list in place.\n",
    "\n",
    "**list.copy()** Return a shallow copy of the list. Equivalent to a[:]."
   ]
  },
  {
   "cell_type": "markdown",
   "metadata": {
    "slideshow": {
     "slide_type": "slide"
    }
   },
   "source": [
    "### Tuples\n",
    " Tuples are sequences, just like lists. The difference is that tuples are immutable. Which means that they can´t be changed like lists. Tuples can be created without brackets (optionally you can use parenthesis)."
   ]
  },
  {
   "cell_type": "code",
   "execution_count": null,
   "metadata": {
    "slideshow": {
     "slide_type": "fragment"
    }
   },
   "outputs": [],
   "source": [
    "tup1 = \"a\", \"b\",\"c\"\n",
    "tup2 = (1, 2, 3, 4, 5 )\n",
    "tup3 = (\"a\", \"b\", \"c\", \"d\",2)\n",
    "print(tup1)\n",
    "print(tup2)\n",
    "print(tup3)"
   ]
  },
  {
   "cell_type": "markdown",
   "metadata": {
    "slideshow": {
     "slide_type": "slide"
    }
   },
   "source": [
    "You can access elements in the same way as lists. But due to the fact that tuples are **immutable**, you cannot update or change the values of tuple elements."
   ]
  },
  {
   "cell_type": "code",
   "execution_count": null,
   "metadata": {
    "slideshow": {
     "slide_type": "fragment"
    }
   },
   "outputs": [],
   "source": [
    "# Access elements\n",
    "tup1 = 1, 2, 3, 4, 'a', 'b','c','d'\n",
    "\n",
    "print(tup1[2])\n",
    "print(tup1[1:5])  # slice from 1 (included) to 5 (included)\n",
    "print(tup1[-5])   # count from behind\n",
    "print(tup1[2:])   # from 2 (included) to end\n",
    "print(tup1[:2])   # from begin to 2 (!not included!)"
   ]
  },
  {
   "cell_type": "code",
   "execution_count": null,
   "metadata": {
    "slideshow": {
     "slide_type": "fragment"
    }
   },
   "outputs": [],
   "source": [
    "tup1 = (123,4554,5,454, 34.56)\n",
    "tup2 = ('abc','def', 'ghi' ,'xyz')\n",
    "\n",
    "tup1[0] = 10 #This action is not allowed for tuples\n",
    "\n",
    "# But we can concatenate tuples\n",
    "#tup3 = tup1 + tup2\n",
    "#print(tup3)"
   ]
  },
  {
   "cell_type": "markdown",
   "metadata": {
    "slideshow": {
     "slide_type": "slide"
    }
   },
   "source": [
    "Deleting individual tuple elements is not possible, but you can delete the whole tuple"
   ]
  },
  {
   "cell_type": "code",
   "execution_count": null,
   "metadata": {
    "slideshow": {
     "slide_type": "fragment"
    }
   },
   "outputs": [],
   "source": [
    "print(tup1)\n",
    "# del tup1[2] # not possible only deleting the whole tuple\n",
    "del tup1\n",
    "print(tup1)"
   ]
  },
  {
   "cell_type": "markdown",
   "metadata": {
    "slideshow": {
     "slide_type": "slide"
    }
   },
   "source": [
    "Tuples also have some built-in functions"
   ]
  },
  {
   "cell_type": "code",
   "execution_count": null,
   "metadata": {
    "slideshow": {
     "slide_type": "fragment"
    }
   },
   "outputs": [],
   "source": [
    "tup1 = [123,4554,5,454, 34.56]\n",
    "print(len(tup1))\n",
    "print(min(tup1))\n",
    "print(max(tup1))"
   ]
  },
  {
   "cell_type": "markdown",
   "metadata": {
    "slideshow": {
     "slide_type": "slide"
    }
   },
   "source": [
    "#### Why using tuples at all ?\n",
    "\n",
    "\n",
    "- Tuples are faster than lists and need less memory\n",
    "\n",
    "- It makes your code safer if you “write-protect” data that does not need to be changed. \n",
    "\n",
    "- Tuples can be used as dictionary keys \n",
    "\n"
   ]
  },
  {
   "cell_type": "markdown",
   "metadata": {
    "slideshow": {
     "slide_type": "slide"
    }
   },
   "source": [
    "### Dictionaries\n",
    "\n",
    "Strings, lists and tuples are so called sequential datatypes. Dictionaries belong to python’s built-in mapping type. Sequential datatypes use integers as indices to access the values they contain within them. Dictionaries allows to use map keys. The values of a dictionary can be of any type, but the keys must be of an immutable data type (strings, numbers, tuples). \n",
    "Dictionaries are constructed with curly brackets {}. Key and values are separated by colons ':'and square brackets are used to index it. It´s not allowed more entries per key, which also means that duplicate keys are also not allowed."
   ]
  },
  {
   "cell_type": "markdown",
   "metadata": {
    "slideshow": {
     "slide_type": "slide"
    }
   },
   "source": [
    "<img src=\"images/dict.png\" width=600 />"
   ]
  },
  {
   "cell_type": "code",
   "execution_count": null,
   "metadata": {
    "slideshow": {
     "slide_type": "slide"
    }
   },
   "outputs": [],
   "source": [
    "dict = {'City': 'Dublin', 'MaxTemp': 15.5, 'MinTemp': 5.0}\n",
    "print(dict['City'])\n",
    "print(dict['MaxTemp'])\n",
    "print(dict['MinTemp'])"
   ]
  },
  {
   "cell_type": "markdown",
   "metadata": {
    "slideshow": {
     "slide_type": "slide"
    }
   },
   "source": [
    "Dictionaries can be updated and elements can be removed. "
   ]
  },
  {
   "cell_type": "code",
   "execution_count": null,
   "metadata": {
    "slideshow": {
     "slide_type": "fragment"
    }
   },
   "outputs": [],
   "source": [
    "# Update dictionaries\n",
    "dict = {'City': 'Dublin', 'MaxTemp': 15.5, 'MinTemp': 5.0}\n",
    "dict['MaxTemp'] = 15.65;                                # update existing entry\n",
    "dict['Population'] = 544107;                    # Add new entry\n",
    "\n",
    "print(dict['MaxTemp'])\n",
    "print(dict['Population'])\n",
    "citytemp = {'City': ['Dublin','London'], 'MaxTemp': [15.5,12.5], 'MinTemp': [15.5,12.5]}"
   ]
  },
  {
   "cell_type": "code",
   "execution_count": null,
   "metadata": {
    "slideshow": {
     "slide_type": "fragment"
    }
   },
   "outputs": [],
   "source": [
    "# Update dictionaries\n",
    "#dict = {'City': 'Dublin', 'MaxTemp': 15.5, 'MinTemp': 5.0}\n",
    "#del dict['MinTemp']                           # delete one element\n",
    "#print(dict)\n",
    "\n",
    "#dict.clear()                                # remove all entries \n",
    "#print(dict)\n",
    "#del dict                                  # delete complete dictionary\n",
    "\n",
    "test = [1,2,3,4,5,6,7,8]\n",
    "test2 = test.copy()\n",
    "result = test.reverse()\n",
    "#test1 = [1,2,3,4,5,6,7,8]\n",
    "#result1 = test1[ : :-1]\n",
    "\n",
    "print(test2)\n",
    "print(result)\n",
    "print(test1)\n",
    "print(result1)"
   ]
  },
  {
   "cell_type": "markdown",
   "metadata": {
    "slideshow": {
     "slide_type": "slide"
    }
   },
   "source": [
    "\n",
    "Few examples of built-in functions and methods."
   ]
  },
  {
   "cell_type": "code",
   "execution_count": null,
   "metadata": {
    "slideshow": {
     "slide_type": "fragment"
    }
   },
   "outputs": [],
   "source": [
    "dict = {'City': 'Dublin', 'MaxTemp': 15.5, 'MinTemp': 5.0}\n",
    "# Length\n",
    "print('length:', len(dict))\n",
    "\n",
    "# values\n",
    "print('values: ', dict.values())\n"
   ]
  },
  {
   "cell_type": "markdown",
   "metadata": {
    "slideshow": {
     "slide_type": "slide"
    }
   },
   "source": [
    "### Indentation\n",
    "\n",
    "A python program is structured through indentation. Indentations are used to separate different code block. This make it´s easier to read and understand your own code and the code of others. While in other programming languages indentation is a matter of style, in python it´s a language requirement.\n"
   ]
  },
  {
   "cell_type": "code",
   "execution_count": null,
   "metadata": {
    "slideshow": {
     "slide_type": "fragment"
    }
   },
   "outputs": [],
   "source": [
    "def letterGrade(score):\n",
    "    if score >= 90:\n",
    "        letter = 'A'\n",
    "    else:   # grade must be B, C, D or F\n",
    "        if score >= 80:\n",
    "            letter = 'B'\n",
    "        else:  # grade must be C, D or F\n",
    "            if score >= 70:\n",
    "                letter = 'C'\n",
    "            else:    # grade must D or F\n",
    "                if score >= 60:\n",
    "                    letter = 'D'\n",
    "                else:\n",
    "                    letter = 'F'\n",
    "    return letter\n",
    "\n",
    "letterGrade(9)"
   ]
  },
  {
   "cell_type": "markdown",
   "metadata": {
    "slideshow": {
     "slide_type": "slide"
    }
   },
   "source": [
    "## Control flow statements\n",
    "### While, if, else\n",
    "\n",
    "\n",
    "Decision making is required when we want to execute a code only if a certain condition holds. This means e.g. that some statements are only carried out if an expression is True. The 'while' statement repeatedly tests the given expression and executes the code block as long as the expression is True"
   ]
  },
  {
   "cell_type": "code",
   "execution_count": null,
   "metadata": {
    "slideshow": {
     "slide_type": "fragment"
    }
   },
   "outputs": [],
   "source": [
    "password = \"python2017\"\n",
    "attempt = input(\"Enter password: \")\n",
    "\n",
    "if attempt == password:\n",
    "    print(\"Welcome\")"
   ]
  },
  {
   "cell_type": "markdown",
   "metadata": {
    "slideshow": {
     "slide_type": "slide"
    }
   },
   "source": [
    "In this case, the if statement is used to evaluates the input of the user and the following code block will only be executed if the expression is True.  If the expression is False, the statement(s) is not executed. \n",
    "But if we want that the the program does something else, even when the if-statement evaluates to false, we can add the 'else' statement."
   ]
  },
  {
   "cell_type": "code",
   "execution_count": null,
   "metadata": {
    "slideshow": {
     "slide_type": "fragment"
    }
   },
   "outputs": [],
   "source": [
    "password = \"python2017\"\n",
    "attempt = input(\"Enter password: \")\n",
    " \n",
    "if attempt == password:\n",
    "    print(\"Welcome\")\n",
    "else:\n",
    "    print(\"Incorrect password!\")"
   ]
  },
  {
   "cell_type": "markdown",
   "metadata": {
    "slideshow": {
     "slide_type": "slide"
    }
   },
   "source": [
    "You can also use multiple if...else statements nested into each other"
   ]
  },
  {
   "cell_type": "code",
   "execution_count": null,
   "metadata": {
    "slideshow": {
     "slide_type": "fragment"
    }
   },
   "outputs": [],
   "source": [
    "passlist = ['12234','hamster','mydog','python','snow' ]\n",
    "name = input(\"What is your username? \")\n",
    "if name == 'Steve':\n",
    "    password = input(\"What’s the password? \")\n",
    "    #did they enter the correct password?\n",
    "    if password in passlist:\n",
    "        print(\"Welcome {0}\".format(name))\n",
    "    else:\n",
    "        print(\"Incorrect password\")\n",
    "else:\n",
    "    print(\"No valid username\")    "
   ]
  },
  {
   "cell_type": "markdown",
   "metadata": {
    "slideshow": {
     "slide_type": "slide"
    }
   },
   "source": [
    "In the next example will want a program that evaluates more than two possible outcomes. For this, we will use an else if statement. In python else if statment is written as 'elif'."
   ]
  },
  {
   "cell_type": "code",
   "execution_count": null,
   "metadata": {
    "slideshow": {
     "slide_type": "fragment"
    }
   },
   "outputs": [],
   "source": [
    "name = input(\"What is your username? \")\n",
    "password = input(\"What’s the password? \")\n",
    "if name == 'Steve':\n",
    "    if password == 'python2017':\n",
    "        print(\"Welcome {0}\".format(name))\n",
    "    else:\n",
    "        print(\"Incorrect password\")\n",
    "elif name == 'Dave':\n",
    "    if password == 'python1234':\n",
    "        print(\"Welcome {0}\".format(name))\n",
    "    else:\n",
    "        print(\"Incorrect password\")\n",
    "elif name == 'Lucy':\n",
    "    if password == 'ILovePython':\n",
    "        print(\"Welcome {0}\".format(name))\n",
    "    else:\n",
    "        print(\"Incorrect password\")\n",
    "else:\n",
    "    print(\"No valid username\") "
   ]
  },
  {
   "cell_type": "markdown",
   "metadata": {
    "slideshow": {
     "slide_type": "slide"
    }
   },
   "source": [
    "Sometimes you want that a specific code block is carried out repeatedly. This can be accomplished creating so called loops. A loop allows you to execute a statement or even a group of statements multiple times. For example, the 'while' statement, allows you to run the code within the loop as long as the expression is True."
   ]
  },
  {
   "cell_type": "code",
   "execution_count": null,
   "metadata": {
    "slideshow": {
     "slide_type": "fragment"
    }
   },
   "outputs": [],
   "source": [
    "count = 0\n",
    "while (count < 9):\n",
    "    print('The count is:', count)\n",
    "    count = count + 1\n",
    "print(\"Count maximum is reached!\")"
   ]
  },
  {
   "cell_type": "markdown",
   "metadata": {
    "slideshow": {
     "slide_type": "slide"
    }
   },
   "source": [
    "You can also create infinite loops"
   ]
  },
  {
   "cell_type": "code",
   "execution_count": null,
   "metadata": {
    "slideshow": {
     "slide_type": "fragment"
    }
   },
   "outputs": [],
   "source": [
    "var = 1\n",
    "while var == 1 :  # This constructs an infinite loop\n",
    "    num = int(input(\"Enter a number  :\"))\n",
    "    print(\"You entered: \", num)\n",
    "\n",
    "print('Thanks')"
   ]
  },
  {
   "cell_type": "markdown",
   "metadata": {
    "slideshow": {
     "slide_type": "slide"
    }
   },
   "source": [
    "Just like the 'if-statement', you can also combine 'while' with 'else'"
   ]
  },
  {
   "cell_type": "code",
   "execution_count": null,
   "metadata": {
    "slideshow": {
     "slide_type": "fragment"
    }
   },
   "outputs": [],
   "source": [
    "count = 0\n",
    "while count < 1200000000000:\n",
    "    print(count, \" is  less than 12\")\n",
    "    count = count + 1\n",
    "        break\n",
    "else:\n",
    "    print(count, \" is not less than 12\")"
   ]
  },
  {
   "cell_type": "markdown",
   "metadata": {
    "slideshow": {
     "slide_type": "slide"
    }
   },
   "source": [
    "Another statement you can use is break(). It terminates the enclosing loop. A premature termination of the current loop can be useful when some external condition is triggered requiring an exit from a loop."
   ]
  },
  {
   "cell_type": "code",
   "execution_count": null,
   "metadata": {
    "slideshow": {
     "slide_type": "fragment"
    }
   },
   "outputs": [],
   "source": [
    "import random\n",
    "number = random.randint(1, 15)\n",
    "\n",
    "number_of_guesses = 0\n",
    "\n",
    "while number_of_guesses < 5:\n",
    "    print('Guess a number between 1 and 15:')\n",
    "    guess = input()\n",
    "    guess = int(guess)\n",
    "\n",
    "    number_of_guesses = number_of_guesses + 1\n",
    "\n",
    "    if guess < number:\n",
    "        print('Your guess is too low')\n",
    "\n",
    "    if guess > number:\n",
    "        print('Your guess is too high')\n",
    "\n",
    "    if guess == number:\n",
    "        break\n",
    "\n",
    "if guess == number:\n",
    "    print('You guessed the number in ' , number_of_guesses,' tries!')\n",
    "\n",
    "else:\n",
    "    print('You did not guess the number. The number was ' , number)"
   ]
  },
  {
   "cell_type": "markdown",
   "metadata": {
    "slideshow": {
     "slide_type": "slide"
    }
   },
   "source": [
    "Sometimes, you want to perform code on each item on a list. This can be accomplished with a while loop and counter variable."
   ]
  },
  {
   "cell_type": "code",
   "execution_count": null,
   "metadata": {
    "slideshow": {
     "slide_type": "fragment"
    }
   },
   "outputs": [],
   "source": [
    "words = ['one', 'two', 'three', 'four','five' ]\n",
    "count = 0\n",
    "max_count = len(words) - 1\n",
    "\n",
    "while count <= max_count:\n",
    "    word = words[count]\n",
    "    print(word +'!')\n",
    "    count = count + 1"
   ]
  },
  {
   "cell_type": "markdown",
   "metadata": {
    "slideshow": {
     "slide_type": "slide"
    }
   },
   "source": [
    "Using a while loop for iterating through list requires quite a lot of code. Python also provides the for-loop as shortcut that accomplishes the same task. Let´s do the same code as above with a for-loop "
   ]
  },
  {
   "cell_type": "code",
   "execution_count": null,
   "metadata": {
    "slideshow": {
     "slide_type": "fragment"
    }
   },
   "outputs": [],
   "source": [
    "words = ['one', 'two', 'three', 'four','five' ]\n",
    "for index, value in enumerate(words):\n",
    "    print(index)\n",
    "    print(x + '!')"
   ]
  },
  {
   "cell_type": "markdown",
   "metadata": {
    "slideshow": {
     "slide_type": "slide"
    }
   },
   "source": [
    "If you want to repeat some code a certain numbers of time, you can combine the for-loop with an range object."
   ]
  },
  {
   "cell_type": "code",
   "execution_count": null,
   "metadata": {
    "slideshow": {
     "slide_type": "fragment"
    }
   },
   "outputs": [],
   "source": [
    "for i in range(9):\n",
    "    print(\"Go !\")\n",
    "  "
   ]
  },
  {
   "cell_type": "markdown",
   "metadata": {
    "slideshow": {
     "slide_type": "slide"
    }
   },
   "source": [
    "Now we can use our gained knowledge to program e.g. a simple calculator."
   ]
  },
  {
   "cell_type": "code",
   "execution_count": null,
   "metadata": {
    "slideshow": {
     "slide_type": "fragment"
    }
   },
   "outputs": [],
   "source": [
    "print(\"1.Add\")\n",
    "print(\"2.Subtract\")\n",
    "print(\"3.Multiply\")\n",
    "print(\"4.Divide\")\n",
    "\n",
    "# Take input from the user \n",
    "choice = input(\"Enter choice(1/2/3/4):\")\n",
    "\n",
    "num1 = int(input(\"Enter first number: \"))\n",
    "num2 = int(input(\"Enter second number: \"))\n",
    "\n",
    "if choice == '1':\n",
    "    result = num1 + num2\n",
    "    print(\"{0} + {1} = {2}\".format(num1,num2,result))\n",
    "elif choice == '2':\n",
    "    result = num1 - num2\n",
    "    print(\"{0} - {1} = {2}\".format(num1,num2,result))\n",
    "          \n",
    "elif choice == '3':\n",
    "    result = num1*num2\n",
    "    print(\"{0} * {1} = {2}\".format(num1,num2,result))\n",
    "\n",
    "elif choice == '4':\n",
    "    result = num1/num2\n",
    "    print(\"{0} / {1} = {2}\".format(num1,num2,result))\n",
    "else:\n",
    "    print(\"Invalid input\") "
   ]
  },
  {
   "cell_type": "markdown",
   "metadata": {
    "slideshow": {
     "slide_type": "slide"
    }
   },
   "source": [
    "#### Comprehensions\n",
    "\n",
    "\n",
    "Comprehensions are constructs that allow sequences to be built from other sequences. Let's assume we have a list with temperature values in Celsius and we want to convert them to Fahrenheit"
   ]
  },
  {
   "cell_type": "code",
   "execution_count": null,
   "metadata": {
    "slideshow": {
     "slide_type": "fragment"
    }
   },
   "outputs": [],
   "source": [
    "T_in_celsius = [3, 12, 18, 9, 10, 20]"
   ]
  },
  {
   "cell_type": "markdown",
   "metadata": {
    "slideshow": {
     "slide_type": "fragment"
    }
   },
   "source": [
    "We could write a for loop for this problem"
   ]
  },
  {
   "cell_type": "code",
   "execution_count": null,
   "metadata": {
    "slideshow": {
     "slide_type": "fragment"
    }
   },
   "outputs": [],
   "source": [
    "fahrenheit = []\n",
    "for temp in T_in_celsius:\n",
    "    temp_fahr = (temp * 9 / 5) + 32\n",
    "    fahrenheit.append(temp_fahr)\n",
    "\n",
    "fahrenheit"
   ]
  },
  {
   "cell_type": "markdown",
   "metadata": {
    "slideshow": {
     "slide_type": "slide"
    }
   },
   "source": [
    "Or, we could use a list comprehension:"
   ]
  },
  {
   "cell_type": "code",
   "execution_count": null,
   "metadata": {
    "slideshow": {
     "slide_type": "fragment"
    }
   },
   "outputs": [],
   "source": [
    "fahrenheit = [(temp * 9 / 5) + 32 for temp in T_in_celsius]\n",
    "fahrenheit"
   ]
  },
  {
   "cell_type": "markdown",
   "metadata": {
    "slideshow": {
     "slide_type": "slide"
    }
   },
   "source": [
    "We can also go one step further and also include a if statement"
   ]
  },
  {
   "cell_type": "code",
   "execution_count": null,
   "metadata": {
    "slideshow": {
     "slide_type": "fragment"
    }
   },
   "outputs": [],
   "source": [
    "# Pythagorean triple\n",
    "# consists of three positive integers a, b, and c, such that a**2 + b**2 = c**2\n",
    "\n",
    "[(a,b,c) for a in range(1,30) for b in range(1,30) for c in range(1,30) if a**2 + b**2 == c**2]"
   ]
  },
  {
   "cell_type": "markdown",
   "metadata": {
    "slideshow": {
     "slide_type": "slide"
    }
   },
   "source": [
    "You can even create nested comprehensions"
   ]
  },
  {
   "cell_type": "code",
   "execution_count": null,
   "metadata": {
    "slideshow": {
     "slide_type": "fragment"
    }
   },
   "outputs": [],
   "source": [
    "matrix = [[j * j+i for j in range(4)] for i in range(3)]\n",
    "matrix"
   ]
  },
  {
   "cell_type": "markdown",
   "metadata": {
    "slideshow": {
     "slide_type": "fragment"
    }
   },
   "source": [
    "Of course you can use comprehensions also for dictionaries"
   ]
  },
  {
   "cell_type": "code",
   "execution_count": null,
   "metadata": {
    "slideshow": {
     "slide_type": "fragment"
    }
   },
   "outputs": [],
   "source": [
    "fruits = ['apple', 'mango', 'banana','cherry']\n",
    "{f:len(f) for f in fruits}"
   ]
  },
  {
   "cell_type": "markdown",
   "metadata": {
    "slideshow": {
     "slide_type": "slide"
    }
   },
   "source": [
    "### Functions\n",
    "\n",
    "In this chapter, we will learn how to write your own functions. A function   can be used as kind of a structuring element in programming languages to group a set of statements so you can reuse them. Decreasing code size by using functions make it more readable and easier to maintain. And of course it saves a lot of typing. In python a function call is a statement consisting of a function name followed by information between in parentheses. You have already used functions in the previous chapters"
   ]
  },
  {
   "cell_type": "markdown",
   "metadata": {
    "slideshow": {
     "slide_type": "slide"
    }
   },
   "source": [
    "A function consists of several parts: \n",
    "- **Name**: What you call the function by\n",
    "- **Parameters**: You can provide functions with variables.\n",
    "- **Docstring**: A docstring allows you to write a little documentation were you explain how the function works \n",
    "- **Body**: This is were the magic happens, as here is the place for the code itself\n",
    "- **Return values**: You usually create functions to do something that create a result. "
   ]
  },
  {
   "cell_type": "markdown",
   "metadata": {
    "slideshow": {
     "slide_type": "fragment"
    }
   },
   "source": [
    "<img src=\"images/function.png\" width=600 />"
   ]
  },
  {
   "cell_type": "markdown",
   "metadata": {
    "slideshow": {
     "slide_type": "slide"
    }
   },
   "source": [
    "Let´s start with a very simple function"
   ]
  },
  {
   "cell_type": "code",
   "execution_count": null,
   "metadata": {
    "slideshow": {
     "slide_type": "fragment"
    }
   },
   "outputs": [],
   "source": [
    "def my_function():\n",
    "    print(\"I love python!\")\n",
    "\n",
    "my_function()"
   ]
  },
  {
   "cell_type": "markdown",
   "metadata": {
    "slideshow": {
     "slide_type": "slide"
    }
   },
   "source": [
    "You can also create functions which receive arguments"
   ]
  },
  {
   "cell_type": "code",
   "execution_count": null,
   "metadata": {
    "slideshow": {
     "slide_type": "fragment"
    }
   },
   "outputs": [],
   "source": [
    "x = {\"width\": 4, \"height\":6, \"func\":function1}\n",
    "def function1(value):\n",
    "    return value**2\n",
    "\n",
    "def area(width, height, func):\n",
    "    print(\"Area: {0}\".format(func(width*height)))\n",
    "\n",
    "x = area(**x)"
   ]
  },
  {
   "cell_type": "markdown",
   "metadata": {
    "slideshow": {
     "slide_type": "slide"
    }
   },
   "source": [
    "If the function should return a result (not only print) you can use the 'return' statement. The return statement exits the function and can contain a expression which gets evaluated or a value is returned. If there is no expression or value the function returns the 'None' object "
   ]
  },
  {
   "cell_type": "code",
   "execution_count": null,
   "metadata": {
    "slideshow": {
     "slide_type": "fragment"
    }
   },
   "outputs": [],
   "source": [
    "def fahrenheit(T_in_celsius):\n",
    "    \"\"\" returns the temperature in degrees Fahrenheit \"\"\"\n",
    "    return (T_in_celsius * 9 / 5) + 32\n",
    "\n",
    "x = fahrenheit(35) \n",
    "x"
   ]
  },
  {
   "cell_type": "markdown",
   "metadata": {
    "slideshow": {
     "slide_type": "slide"
    }
   },
   "source": [
    "Now we can rewrite our simple calculator. But this time we define our functions in front."
   ]
  },
  {
   "cell_type": "code",
   "execution_count": null,
   "metadata": {
    "slideshow": {
     "slide_type": "fragment"
    }
   },
   "outputs": [],
   "source": [
    "def add(x,y):\n",
    "    return x+y\n",
    "\n",
    "def diff(x,y):\n",
    "    return x-y\n",
    "\n",
    "def multiply(x,y):\n",
    "    return x*y\n",
    "\n",
    "def divide(x,y):\n",
    "    return x/y\n",
    "\n",
    "print(\"1.Add\")\n",
    "print(\"2.Subtract\")\n",
    "print(\"3.Multiply\")\n",
    "print(\"4.Divide\")\n",
    "\n",
    "# Take input from the user \n",
    "choice = eval(input(\"Enter choice(1/2/3/4):\"))\n",
    "\n",
    "num1 = eval(input(\"Enter first number: \"))\n",
    "num2 = eval(input(\"Enter second number: \"))\n",
    "\n",
    "if choice == 1:\n",
    "    result = add(num1,num2)\n",
    "    print(\"{0} + {1} = {2}\".format(num1,num2,result))\n",
    "\n",
    "elif choice == 2:\n",
    "    result = diff(num1,num2)\n",
    "    print(\"{0} - {1} = {2}\".format(num1,num2,result))\n",
    "          \n",
    "elif choice == 3:\n",
    "    result = multiply(num1,num2)\n",
    "    print(\"{0} * {1} = {2}\".format(num1,num2,result))\n",
    "\n",
    "elif choice == 4:\n",
    "    result = divide(num1,num2)\n",
    "    print(\"{0} / {1} = {2}\".format(num1,num2,result))\n",
    "else:\n",
    "    print(\"Invalid input\") "
   ]
  },
  {
   "cell_type": "markdown",
   "metadata": {
    "slideshow": {
     "slide_type": "slide"
    }
   },
   "source": [
    "Sometimes you need to define a function that may accept an argument and shall behave differently whether or not the argument is present. Therefor you can also define default values for arguments. "
   ]
  },
  {
   "cell_type": "code",
   "execution_count": null,
   "metadata": {
    "slideshow": {
     "slide_type": "fragment"
    }
   },
   "outputs": [],
   "source": [
    "def greeting(name, message= \"nice to see you!\"):\n",
    "    print(\"Hello \" + name + ', ' + message) \n",
    "\n",
    "greeting(\"Bob\")\n",
    "greeting(\"Dave\",\"How do you do?\")"
   ]
  },
  {
   "cell_type": "markdown",
   "metadata": {
    "slideshow": {
     "slide_type": "slide"
    }
   },
   "source": [
    "You can write your functions without even knowing what parameters will be passed in! * args and ** kwargs allow you to pass multiple arguments or keyword arguments to a function"
   ]
  },
  {
   "cell_type": "code",
   "execution_count": null,
   "metadata": {
    "slideshow": {
     "slide_type": "fragment"
    }
   },
   "outputs": [],
   "source": [
    "def concat(*args):\n",
    "    return ' ; '.join(args)\n",
    "\n",
    "concat(\"Metallica\", \"Rolling Stones\", \"ACDC\")\n",
    "concat(\"Metallica\", \"Rolling Stones\", \"ACDC\",\"Beatles\",\"Queen\",\"Blacksabbath\", \"Steve\")"
   ]
  },
  {
   "cell_type": "markdown",
   "metadata": {
    "slideshow": {
     "slide_type": "slide"
    }
   },
   "source": [
    "Okay, now you’ve understood what * args is for, but what about ** kwargs? ** kwargs works just like * args, but instead of accepting positional arguments it accepts keyword (or named) arguments. "
   ]
  },
  {
   "cell_type": "code",
   "execution_count": null,
   "metadata": {
    "slideshow": {
     "slide_type": "fragment"
    }
   },
   "outputs": [],
   "source": [
    "def intro(data, da6ta, **kwargs):\n",
    "    for key, value in data.items():\n",
    "        print(\"{} is {}\".format(key,value))\n",
    "\n",
    "test = {'Firstname':\"Steven\", \n",
    "        \"Lastname\":\"Hill\", \n",
    "        \"Email\":\"steven.hill@uni-wuerzburg.de\"}\n",
    "\n",
    "intro(Firstname=\"Steven\", Lastname=\"Hill\", Age=33, Phone=1234567890)\n",
    "intro(**test)"
   ]
  },
  {
   "cell_type": "markdown",
   "metadata": {
    "slideshow": {
     "slide_type": "slide"
    }
   },
   "source": [
    "In Python you can also create small anonymous functions with the lambda keyword. Lambda functions can be used wherever function objects are required. While normal functions are defined using the def keyword in Python, anonymous functions are defined using the lambda keyword."
   ]
  },
  {
   "cell_type": "code",
   "execution_count": null,
   "metadata": {
    "slideshow": {
     "slide_type": "fragment"
    }
   },
   "outputs": [],
   "source": [
    "# Program to filter out only the even items from a list\n",
    "my_list = [1, 5, 4, 6, 8, 11, 3, 12]\n",
    "\n",
    "new_list = list(filter(lambda x: (x%2 == 0) , my_list))\n",
    "\n",
    "print(new_list)"
   ]
  },
  {
   "cell_type": "markdown",
   "metadata": {
    "slideshow": {
     "slide_type": "slide"
    }
   },
   "source": [
    "# Literature\n",
    "\n",
    "For this script I mainly used following sources:\n",
    "<br>[1] https://docs.python.org/3/\n",
    "<br>[2] https://www.tutorialspoint.com/python/python_lists.htm\n",
    "<br>[3] https://www.datacamp.com\n",
    "<br>[4] https://anh.cs.luc.edu/python/hands-on/3.1/handsonHtml/index.html\n",
    "<br>[5] Python - kurz und gut (2014) Mark Lutz"
   ]
  }
 ],
 "metadata": {
  "celltoolbar": "Slideshow",
  "kernelspec": {
   "display_name": "Python 3 (ipykernel)",
   "language": "python",
   "name": "python3"
  },
  "language_info": {
   "codemirror_mode": {
    "name": "ipython",
    "version": 3
   },
   "file_extension": ".py",
   "mimetype": "text/x-python",
   "name": "python",
   "nbconvert_exporter": "python",
   "pygments_lexer": "ipython3",
   "version": "3.9.6"
  },
  "livereveal": {
   "scroll": true
  },
  "rise": {
   "backimage": "images/header.png",
   "footer": "<h3>Spatial Python</h3>",
   "theme": "simple"
  },
  "toc": {
   "base_numbering": 1,
   "nav_menu": {},
   "number_sections": true,
   "sideBar": true,
   "skip_h1_title": false,
   "title_cell": "Table of Contents",
   "title_sidebar": "Contents",
   "toc_cell": false,
   "toc_position": {
    "height": "calc(100% - 180px)",
    "left": "10px",
    "top": "150px",
    "width": "165px"
   },
   "toc_section_display": true,
   "toc_window_display": true
  }
 },
 "nbformat": 4,
 "nbformat_minor": 4
}

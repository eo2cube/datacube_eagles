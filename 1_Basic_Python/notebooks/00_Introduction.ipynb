{
 "cells": [
  {
   "cell_type": "markdown",
   "metadata": {
    "slideshow": {
     "slide_type": "slide"
    }
   },
   "source": [
    "# What is Python?"
   ]
  },
  {
   "cell_type": "markdown",
   "metadata": {
    "slideshow": {
     "slide_type": "slide"
    }
   },
   "source": [
    "Python is \n",
    "\n",
    "<img src=\"https://www.python.org/static/community_logos/python-powered-h-140x182.png\"  width=100 align=right />    \n",
    "\n",
    "- an interpreted \n",
    "    \n",
    "- high-level \n",
    "    \n",
    "- general purpose programming language \n",
    "    \n",
    "- created by Guido van Rossum \n",
    "    \n",
    "- and released in 1991 \n",
    "  \n"
   ]
  },
  {
   "cell_type": "markdown",
   "metadata": {
    "slideshow": {
     "slide_type": "slide"
    }
   },
   "source": [
    "*\"Over six years ago, in December 1989, I was looking for a \"hobby\" programming project that would keep me occupied during the week around Christmas. My office (a government-run research lab in Amsterdam) would be closed, but I had a home computer, and not much else on my hands. I decided to write an interpreter for the new scripting language I had been thinking about lately: a descendant of ABC that would appeal to Unix/C hackers. I chose Python as a title for the project, being in a slightly irreverent mood (and a big fan of Monty Python's Flying Circus).\"*\n",
    "\n",
    "- Guido van Rossum"
   ]
  },
  {
   "cell_type": "markdown",
   "metadata": {
    "slideshow": {
     "slide_type": "slide"
    }
   },
   "source": [
    "Python is an **interpreted** language\n",
    "\n",
    "- **compiled language**: a compiler will translate the program into machine code before being executed (e.g. C, Pascal, Fortran, Go)\n",
    "\n",
    "- **interpreted language**: the instructions are not directly executed by the target machine, but instead read and executed by some other program (Python, R , JavaScript)\n"
   ]
  },
  {
   "cell_type": "markdown",
   "metadata": {
    "slideshow": {
     "slide_type": "slide"
    }
   },
   "source": [
    "Python is open source\n",
    "\n",
    "  <img src=\"images/open_source.png\"  width=300 align=right />  \n",
    "\n",
    "- no costs\n",
    "- free redistribution \n",
    "- source code access\n",
    "- crowdsourcing\n",
    " \n"
   ]
  },
  {
   "cell_type": "markdown",
   "metadata": {
    "slideshow": {
     "slide_type": "slide"
    }
   },
   "source": [
    " \n",
    "Cross-platform\n",
    " <img src=\"images/os.png\"  width=300 align=right /> \n",
    " - Windows, Mac, Linux\n",
    " \n",
    " - Android, Raspberry, Nintendo, Playstation, Xbox\n",
    " "
   ]
  },
  {
   "cell_type": "markdown",
   "metadata": {
    "slideshow": {
     "slide_type": "slide"
    }
   },
   "source": [
    "Multiple programming paradigms\n",
    "- [procedural](../examples/code/procedural.py) \n",
    "- [object-oriented](../examples/code/object_oriented.py) \n",
    "- [imperative](../examples/code/imperative.py) \n",
    "- [functional](../examples/code/functional.py) "
   ]
  },
  {
   "cell_type": "markdown",
   "metadata": {
    "slideshow": {
     "slide_type": "slide"
    }
   },
   "source": [
    "# Why using python?"
   ]
  },
  {
   "cell_type": "markdown",
   "metadata": {
    "slideshow": {
     "slide_type": "slide"
    }
   },
   "source": [
    "### Simple and easy to learn (based on ABC)\n"
   ]
  },
  {
   "cell_type": "markdown",
   "metadata": {
    "slideshow": {
     "slide_type": "slide"
    }
   },
   "source": [
    "Zen of Python - PEP 20\n",
    "\n",
    "- Beautiful is better than ugly\n",
    "- Explicit is better than implicit\n",
    "- Simple is better than complex\n",
    "- Complex is better than complicated\n",
    "- Readability counts"
   ]
  },
  {
   "cell_type": "code",
   "execution_count": null,
   "metadata": {
    "slideshow": {
     "slide_type": "slide"
    }
   },
   "outputs": [],
   "source": [
    "import this"
   ]
  },
  {
   "cell_type": "markdown",
   "metadata": {
    "slideshow": {
     "slide_type": "slide"
    }
   },
   "source": [
    "##### Hello World! in Java\n",
    "```java\n",
    "class Main{\n",
    "\n",
    "    public static void main(String... args) {\n",
    " \n",
    "        System.out.println(\"Hello World!\");\n",
    "    }\n",
    "}\n",
    "```\n",
    "##### Hello World! in C++\n",
    "```c++\n",
    "#include <iostream>\n",
    "using namespace std;\n",
    "\n",
    "int main() \n",
    "{\n",
    "    cout << \"Hello, World!\";\n",
    "    return 0;\n",
    "}\n",
    "```\n"
   ]
  },
  {
   "cell_type": "markdown",
   "metadata": {
    "slideshow": {
     "slide_type": "slide"
    }
   },
   "source": [
    "##### Hello World! in Python"
   ]
  },
  {
   "cell_type": "code",
   "execution_count": null,
   "metadata": {
    "slideshow": {
     "slide_type": "fragment"
    }
   },
   "outputs": [],
   "source": [
    "print(\"Hello World!\")"
   ]
  },
  {
   "cell_type": "markdown",
   "metadata": {
    "slideshow": {
     "slide_type": "slide"
    }
   },
   "source": [
    "### Huge user community "
   ]
  },
  {
   "cell_type": "markdown",
   "metadata": {
    "slideshow": {
     "slide_type": "slide"
    }
   },
   "source": [
    "<img src=\"images/programming_languages.png\" width=800 />\n",
    "https://insights.stackoverflow.com/trends"
   ]
  },
  {
   "cell_type": "markdown",
   "metadata": {
    "slideshow": {
     "slide_type": "slide"
    }
   },
   "source": [
    "### Versatile"
   ]
  },
  {
   "cell_type": "markdown",
   "metadata": {
    "slideshow": {
     "slide_type": "slide"
    }
   },
   "source": [
    "Python Applications\n",
    "- Web and Internet Development\n",
    "- Desktop GUI Applications\n",
    "- Science and Numeric\n",
    "- Software Development\n",
    "- Education\n",
    "- Database Access\n",
    "- Network Programming\n",
    "- Games and 3D Graphics\n"
   ]
  },
  {
   "cell_type": "markdown",
   "metadata": {
    "slideshow": {
     "slide_type": "slide"
    }
   },
   "source": [
    "### Incredible number of modules and extensive libraries"
   ]
  },
  {
   "cell_type": "markdown",
   "metadata": {
    "slideshow": {
     "slide_type": "slide"
    }
   },
   "source": [
    "<img src=\"images/pypack2.png\" width=800 align=\"center\"/>"
   ]
  },
  {
   "cell_type": "code",
   "execution_count": 1,
   "metadata": {
    "slideshow": {
     "slide_type": "slide"
    }
   },
   "outputs": [
    {
     "name": "stdout",
     "output_type": "stream",
     "text": [
      "Total python packages in the official repository: 298817\n"
     ]
    }
   ],
   "source": [
    "import urllib\n",
    "import re\n",
    "req = urllib.request.Request(\"https://pypi.org/simple/\")\n",
    "with urllib.request.urlopen(req) as response:\n",
    "            if 200 == response.code:\n",
    "                html_content = str(response.read())\n",
    "                match = re.findall('<a +href=\"(.+?)\" *>', html_content)\n",
    "                packages= [x[8 : len(x) - 1] for x in match]\n",
    "                \n",
    "print('Total python packages in the official repository: ' + str(len(packages)))"
   ]
  },
  {
   "cell_type": "markdown",
   "metadata": {
    "slideshow": {
     "slide_type": "slide"
    }
   },
   "source": [
    "<img src=\"https://abstrusegoose.com/strips/batteries_included.png\" width=800 align=\"center\"  />"
   ]
  },
  {
   "cell_type": "markdown",
   "metadata": {
    "slideshow": {
     "slide_type": "slide"
    }
   },
   "source": [
    "### Why Python for GIS/Remote Sensing\n",
    "\n",
    "Geology and geography are becoming increasingly quantitative and basic programming skills are one of the fundamental quantitative skills that will help you be a better scientist\n",
    "\n",
    "\n",
    "- **Efficiency**: Quick, easy-to-use, reproducible\n",
    "- **Automation**: No need for clicking around in GIS software\n",
    "- **Workflow**: Create your own workflow\n",
    "- **Flexibility**:  Supports all data formats that you can imagine\n",
    "- **Extensibility**: Use and chain different third-party software \n",
    "\n",
    "<img src=\"images/spatialpython.png\"  width=550 align=right />"
   ]
  }
 ],
 "metadata": {
  "celltoolbar": "Slideshow",
  "kernelspec": {
   "display_name": "Python 3 (ipykernel)",
   "language": "python",
   "name": "python3"
  },
  "language_info": {
   "codemirror_mode": {
    "name": "ipython",
    "version": 3
   },
   "file_extension": ".py",
   "mimetype": "text/x-python",
   "name": "python",
   "nbconvert_exporter": "python",
   "pygments_lexer": "ipython3",
   "version": "3.9.7"
  },
  "livereveal": {
   "scroll": true
  },
  "rise": {
   "backimage": "images/header.png",
   "footer": "<h3>Spatial Python</h3>",
   "theme": "simple"
  },
  "toc": {
   "base_numbering": 1,
   "nav_menu": {},
   "number_sections": true,
   "sideBar": true,
   "skip_h1_title": false,
   "title_cell": "Table of Contents",
   "title_sidebar": "Contents",
   "toc_cell": false,
   "toc_position": {
    "height": "calc(100% - 180px)",
    "left": "10px",
    "top": "150px",
    "width": "165px"
   },
   "toc_section_display": true,
   "toc_window_display": true
  }
 },
 "nbformat": 4,
 "nbformat_minor": 4
}

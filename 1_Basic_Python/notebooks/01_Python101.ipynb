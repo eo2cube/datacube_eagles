{
 "cells": [
  {
   "cell_type": "code",
   "execution_count": 8,
   "metadata": {},
   "outputs": [],
   "source": [
    "from IPython.core.interactiveshell import InteractiveShell\n",
    "InteractiveShell.ast_node_interactivity = \"all\"\n"
   ]
  },
  {
   "cell_type": "markdown",
   "metadata": {},
   "source": [
    "### First code in Python"
   ]
  },
  {
   "cell_type": "markdown",
   "metadata": {
    "slideshow": {
     "slide_type": "slide"
    }
   },
   "source": [
    "#### Running (executing) a cell\n",
    "\n",
    "Jupyter Notebooks allow code to be separated into sections that can be executed independent of one another. These sections are called \"cells\".\n",
    "\n",
    "Running a cell means that you will execute the cell’s contents. To execute a cell, you can just select the cell and click the Run button that is in the row of buttons along the top. It’s towards the middle. If you prefer using your keyboard, you can just press SHIFT + ENTER\n",
    "\n",
    "To automatically run all cells in a notebook, navigate to the \"Run\" tab of the menu bar at the top of JupyterLab and select \"Run All Cells\" (or the option that best suits your needs). When a cell is run, the cell's content is executed. Any output produced from running the cell will appear directly below it."
   ]
  },
  {
   "cell_type": "code",
   "execution_count": null,
   "metadata": {
    "slideshow": {
     "slide_type": "slide"
    }
   },
   "outputs": [],
   "source": [
    "print('Hello World')"
   ]
  },
  {
   "cell_type": "markdown",
   "metadata": {
    "slideshow": {
     "slide_type": "fragment"
    }
   },
   "source": [
    "#### Cell status\n",
    "\n",
    "The [ ]: symbol to the left of each Code cell describes the state of the cell:\n",
    "\n",
    "    [ ]: means that the cell has not been run yet.\n",
    "    [*]: means that the cell is currently running.\n",
    "    [1]: means that the cell has finished running and was the first cell run.\n",
    "    \n",
    "For more information on jupyter notebooks have a look at the [jupyter_introduction.ipynb](../How_To/01_jupyter_introduction.ipynb) notebook in the How_To section"
   ]
  },
  {
   "cell_type": "markdown",
   "metadata": {
    "slideshow": {
     "slide_type": "slide"
    }
   },
   "source": [
    "### Mathematical Operations\n",
    "\n",
    "Now we can try some basic mathematical operations"
   ]
  },
  {
   "cell_type": "code",
   "execution_count": null,
   "metadata": {
    "slideshow": {
     "slide_type": "fragment"
    }
   },
   "outputs": [],
   "source": [
    "243 + 3"
   ]
  },
  {
   "cell_type": "code",
   "execution_count": null,
   "metadata": {
    "slideshow": {
     "slide_type": "fragment"
    }
   },
   "outputs": [],
   "source": [
    "4454 - 32"
   ]
  },
  {
   "cell_type": "code",
   "execution_count": null,
   "metadata": {
    "slideshow": {
     "slide_type": "fragment"
    }
   },
   "outputs": [],
   "source": [
    "222 / 2 "
   ]
  },
  {
   "cell_type": "markdown",
   "metadata": {},
   "source": [
    "### Variable Assignment\n",
    "\n",
    "In python the '=' is used to assign a value to a variable. Besides a single equal sign you can also use combinations with other operators."
   ]
  },
  {
   "cell_type": "code",
   "execution_count": 1,
   "metadata": {},
   "outputs": [],
   "source": [
    "x = 5 "
   ]
  },
  {
   "cell_type": "markdown",
   "metadata": {
    "slideshow": {
     "slide_type": "fragment"
    }
   },
   "source": [
    "### Functions\n",
    "\n",
    "Functions are named pieces of code, to perform a particular job. Functions in Python are excuted by specifying their name, followed by parentheses.\n"
   ]
  },
  {
   "cell_type": "code",
   "execution_count": 2,
   "metadata": {},
   "outputs": [
    {
     "data": {
      "text/plain": [
       "7"
      ]
     },
     "execution_count": 2,
     "metadata": {},
     "output_type": "execute_result"
    }
   ],
   "source": [
    "abs(-7)"
   ]
  },
  {
   "cell_type": "markdown",
   "metadata": {
    "slideshow": {
     "slide_type": "slide"
    }
   },
   "source": [
    "### Python libraries\n",
    "\n",
    "One of the main advantages in python is the extensive standard library (already included in python) and the huge number of third party libraries.\n",
    "In order to use these libraries you have to import them. Therefor you just need the 'import' command.\n"
   ]
  },
  {
   "cell_type": "code",
   "execution_count": 2,
   "metadata": {
    "slideshow": {
     "slide_type": "fragment"
    }
   },
   "outputs": [
    {
     "data": {
      "text/plain": [
       "4"
      ]
     },
     "execution_count": 2,
     "metadata": {},
     "output_type": "execute_result"
    }
   ],
   "source": [
    "import math\n",
    "math.ceil(3.445)"
   ]
  },
  {
   "cell_type": "markdown",
   "metadata": {
    "slideshow": {
     "slide_type": "slide"
    }
   },
   "source": [
    "When using the import command, python only loads the name of this module (e.g. math) and not the names of the single functions. <br>\n",
    "If you want to use individual classes or functions within the module you have to enter the name of the module and the name of the function separated by a dot:"
   ]
  },
  {
   "cell_type": "code",
   "execution_count": 4,
   "metadata": {
    "slideshow": {
     "slide_type": "fragment"
    }
   },
   "outputs": [
    {
     "data": {
      "text/plain": [
       "2"
      ]
     },
     "execution_count": 4,
     "metadata": {},
     "output_type": "execute_result"
    }
   ],
   "source": [
    "import math\n",
    "math.ceil(1.34) # math = module name , ceil = function name"
   ]
  },
  {
   "cell_type": "markdown",
   "metadata": {
    "slideshow": {
     "slide_type": "slide"
    }
   },
   "source": [
    "You can also assign a function to variable to a variable name"
   ]
  },
  {
   "cell_type": "code",
   "execution_count": 5,
   "metadata": {
    "slideshow": {
     "slide_type": "fragment"
    }
   },
   "outputs": [
    {
     "data": {
      "text/plain": [
       "2"
      ]
     },
     "execution_count": 5,
     "metadata": {},
     "output_type": "execute_result"
    }
   ],
   "source": [
    "import math\n",
    "ceil = math.ceil\n",
    "ceil(1.34)"
   ]
  },
  {
   "cell_type": "markdown",
   "metadata": {
    "slideshow": {
     "slide_type": "slide"
    }
   },
   "source": [
    "If you want to load only one or more specific function you can use the term from ... import ..."
   ]
  },
  {
   "cell_type": "code",
   "execution_count": 6,
   "metadata": {
    "slideshow": {
     "slide_type": "fragment"
    }
   },
   "outputs": [],
   "source": [
    "from math import ceil\n",
    "from math import ceil, fabs, trunc\n",
    "from math import*      # import all functions of the module"
   ]
  },
  {
   "cell_type": "markdown",
   "metadata": {
    "slideshow": {
     "slide_type": "subslide"
    }
   },
   "source": [
    "You can also assign a new name to the a module or function while importing"
   ]
  },
  {
   "cell_type": "code",
   "execution_count": 7,
   "metadata": {
    "slideshow": {
     "slide_type": "fragment"
    }
   },
   "outputs": [
    {
     "name": "stdout",
     "output_type": "stream",
     "text": [
      "2\n",
      "2\n"
     ]
    }
   ],
   "source": [
    "import math as m\n",
    "print(m.ceil(1.34))\n",
    "\n",
    "from math import ceil as c\n",
    "print(c(1.34))"
   ]
  },
  {
   "cell_type": "markdown",
   "metadata": {},
   "source": [
    "### Installing libraries"
   ]
  },
  {
   "cell_type": "markdown",
   "metadata": {
    "slideshow": {
     "slide_type": "slide"
    }
   },
   "source": [
    "If you want to install a external library you can do this via pip or conda"
   ]
  },
  {
   "cell_type": "code",
   "execution_count": null,
   "metadata": {
    "slideshow": {
     "slide_type": "fragment"
    }
   },
   "outputs": [],
   "source": [
    "!pip install geopandas"
   ]
  },
  {
   "cell_type": "code",
   "execution_count": null,
   "metadata": {
    "slideshow": {
     "slide_type": "fragment"
    }
   },
   "outputs": [],
   "source": [
    "!conda install geopandas"
   ]
  },
  {
   "cell_type": "markdown",
   "metadata": {
    "slideshow": {
     "slide_type": "slide"
    }
   },
   "source": [
    "### Help \n",
    "\n",
    "If you want to know more about a function/library or what they are exactly doing you can use the 'help()' function."
   ]
  },
  {
   "cell_type": "code",
   "execution_count": 8,
   "metadata": {
    "slideshow": {
     "slide_type": "fragment"
    }
   },
   "outputs": [
    {
     "name": "stdout",
     "output_type": "stream",
     "text": [
      "Help on package geopandas:\n",
      "\n",
      "NAME\n",
      "    geopandas\n",
      "\n",
      "PACKAGE CONTENTS\n",
      "    _compat\n",
      "    _config\n",
      "    _decorator\n",
      "    _vectorized\n",
      "    _version\n",
      "    array\n",
      "    base\n",
      "    conftest\n",
      "    datasets (package)\n",
      "    explore\n",
      "    geodataframe\n",
      "    geoseries\n",
      "    io (package)\n",
      "    plotting\n",
      "    sindex\n",
      "    testing\n",
      "    tests (package)\n",
      "    tools (package)\n",
      "\n",
      "DATA\n",
      "    options = Options(\n",
      "      display_precision: None [default: Non...USE_PYGEO...\n",
      "\n",
      "VERSION\n",
      "    0.10.2\n",
      "\n",
      "FILE\n",
      "    /opt/conda/lib/python3.9/site-packages/geopandas/__init__.py\n",
      "\n",
      "\n"
     ]
    }
   ],
   "source": [
    "import geopandas as gpd\n",
    "help(gpd)"
   ]
  },
  {
   "cell_type": "code",
   "execution_count": 9,
   "metadata": {
    "slideshow": {
     "slide_type": "fragment"
    }
   },
   "outputs": [
    {
     "name": "stdout",
     "output_type": "stream",
     "text": [
      "Help on function _read_file in module geopandas.io.file:\n",
      "\n",
      "_read_file(filename, bbox=None, mask=None, rows=None, **kwargs)\n",
      "    Returns a GeoDataFrame from a file or URL.\n",
      "    \n",
      "    .. versionadded:: 0.7.0 mask, rows\n",
      "    \n",
      "    Parameters\n",
      "    ----------\n",
      "    filename : str, path object or file-like object\n",
      "        Either the absolute or relative path to the file or URL to\n",
      "        be opened, or any object with a read() method (such as an open file\n",
      "        or StringIO)\n",
      "    bbox : tuple | GeoDataFrame or GeoSeries | shapely Geometry, default None\n",
      "        Filter features by given bounding box, GeoSeries, GeoDataFrame or a\n",
      "        shapely geometry. CRS mis-matches are resolved if given a GeoSeries\n",
      "        or GeoDataFrame. Tuple is (minx, miny, maxx, maxy) to match the\n",
      "        bounds property of shapely geometry objects. Cannot be used with mask.\n",
      "    mask : dict | GeoDataFrame or GeoSeries | shapely Geometry, default None\n",
      "        Filter for features that intersect with the given dict-like geojson\n",
      "        geometry, GeoSeries, GeoDataFrame or shapely geometry.\n",
      "        CRS mis-matches are resolved if given a GeoSeries or GeoDataFrame.\n",
      "        Cannot be used with bbox.\n",
      "    rows : int or slice, default None\n",
      "        Load in specific rows by passing an integer (first `n` rows) or a\n",
      "        slice() object.\n",
      "    **kwargs :\n",
      "        Keyword args to be passed to the `open` or `BytesCollection` method\n",
      "        in the fiona library when opening the file. For more information on\n",
      "        possible keywords, type:\n",
      "        ``import fiona; help(fiona.open)``\n",
      "    \n",
      "    Examples\n",
      "    --------\n",
      "    >>> df = geopandas.read_file(\"nybb.shp\")  # doctest: +SKIP\n",
      "    \n",
      "    Specifying layer of GPKG:\n",
      "    \n",
      "    >>> df = geopandas.read_file(\"file.gpkg\", layer='cities')  # doctest: +SKIP\n",
      "    \n",
      "    Reading only first 10 rows:\n",
      "    \n",
      "    >>> df = geopandas.read_file(\"nybb.shp\", rows=10)  # doctest: +SKIP\n",
      "    \n",
      "    Reading only geometries intersecting ``mask``:\n",
      "    \n",
      "    >>> df = geopandas.read_file(\"nybb.shp\", mask=polygon)  # doctest: +SKIP\n",
      "    \n",
      "    Reading only geometries intersecting ``bbox``:\n",
      "    \n",
      "    >>> df = geopandas.read_file(\"nybb.shp\", bbox=(0, 0, 10, 20))  # doctest: +SKIP\n",
      "    \n",
      "    Returns\n",
      "    -------\n",
      "    :obj:`geopandas.GeoDataFrame` or :obj:`pandas.DataFrame` :\n",
      "        If `ignore_geometry=True` a :obj:`pandas.DataFrame` will be returned.\n",
      "    \n",
      "    Notes\n",
      "    -----\n",
      "    The format drivers will attempt to detect the encoding of your data, but\n",
      "    may fail. In this case, the proper encoding can be specified explicitly\n",
      "    by using the encoding keyword parameter, e.g. ``encoding='utf-8'``.\n",
      "\n"
     ]
    }
   ],
   "source": [
    "import geopandas as gpd\n",
    "help(gpd.read_file)"
   ]
  },
  {
   "cell_type": "markdown",
   "metadata": {},
   "source": [
    "### Data types\n",
    "\n",
    "These classes are the basic building blocks of Python\n",
    "\n",
    "|Type | Meaning | Mutability | Examples |\n",
    "|-----|---------|------------|----------|\n",
    "| int | Integer | immutable | 1, -10, 0 |\n",
    "| float | Float | immutable | 3.2, 100.0, -9.9 |\n",
    "| bool | Boolean | immutable | True, False |\n",
    "| str | String | immutable | \"Hello!\", \"a\", \"I like Python\" |\n",
    "| list | List | mutable | [1,2,3] |\n",
    "| tuple | Tuple | immutable | (1, 2) |\n",
    "| dict | Dictionary | mutable | {\"a\": 2} |\n",
    "| set | Set | mutable | {\"a\", \"b\"} |\n"
   ]
  },
  {
   "cell_type": "markdown",
   "metadata": {
    "slideshow": {
     "slide_type": "slide"
    }
   },
   "source": [
    "### Numbers\n",
    "\n",
    "Python can handle several types of numbers, but the two most common are:\n",
    "\n",
    "- int, which represents integer values like 100, and\n",
    "- float, which represents numbers that have a fraction part, like 0.5"
   ]
  },
  {
   "cell_type": "code",
   "execution_count": 10,
   "metadata": {
    "slideshow": {
     "slide_type": "fragment"
    }
   },
   "outputs": [],
   "source": [
    "population = 127880\n",
    "latitude = 49.79391\n",
    "longitude = 9.95121"
   ]
  },
  {
   "cell_type": "code",
   "execution_count": 11,
   "metadata": {
    "slideshow": {
     "slide_type": "fragment"
    }
   },
   "outputs": [
    {
     "name": "stdout",
     "output_type": "stream",
     "text": [
      "<class 'int'>\n"
     ]
    }
   ],
   "source": [
    "print(type(population))"
   ]
  },
  {
   "cell_type": "code",
   "execution_count": 12,
   "metadata": {
    "slideshow": {
     "slide_type": "fragment"
    }
   },
   "outputs": [
    {
     "name": "stdout",
     "output_type": "stream",
     "text": [
      "<class 'float'>\n"
     ]
    }
   ],
   "source": [
    "print(type(latitude))"
   ]
  },
  {
   "cell_type": "code",
   "execution_count": 13,
   "metadata": {
    "slideshow": {
     "slide_type": "slide"
    }
   },
   "outputs": [
    {
     "name": "stdout",
     "output_type": "stream",
     "text": [
      "1459.3175853018374\n"
     ]
    }
   ],
   "source": [
    "area = 87.63\n",
    "density = population / area\n",
    "print(density)"
   ]
  },
  {
   "cell_type": "markdown",
   "metadata": {},
   "source": [
    "Below is a list of operations for these build-in numeric types:"
   ]
  },
  {
   "cell_type": "markdown",
   "metadata": {},
   "source": [
    "| Operation      | Result      |\n",
    "|---------------|--------------|\n",
    "|x + y          |sum of x and y|\n",
    "|x - y          |difference of x and y| \n",
    "|x * y          |product of x and y|\n",
    "|x / y          |quotient of x and y|\n",
    "|x // y         |(floored) quotient of x and y           |\n",
    "|x % y          |remainder of x / y                      |\n",
    "|-x             |x negated                               |\n",
    "|+x             |x unchanged                             | \n",
    "|abs(x)         |absolute value or magnitude of x        |\n",
    "|int(x)         |x converted to integer                  |\n",
    "|long(x)        |x converted to long integer             |\n",
    "|float(x)       |x converted to floating point           |\n",
    "|complex(re,im) |a complex number with real part re,     |\n",
    "|               |imaginary part im (im defaults to zero) |\n",
    "|c.conjugate()  |conjugate of the complex number c       |\n",
    "|divmod(x, y)   |the pair (x // y, x % y)                |\n",
    "|pow(x, y)      |x to the power y                        | \n",
    "|x ** y         |x to the power y                        |"
   ]
  },
  {
   "cell_type": "markdown",
   "metadata": {
    "slideshow": {
     "slide_type": "slide"
    }
   },
   "source": [
    "### Booleans and comparison\n",
    "\n",
    "Another type in python is the so called boolean type. This type has two values: True and false. Booleans can be assign to a variable name or created for example when comparing values using the equal operator '=='. Another way to compare values is the not equal operator '!=' and the operators for greater '>' or smaller '<'."
   ]
  },
  {
   "cell_type": "code",
   "execution_count": 14,
   "metadata": {
    "slideshow": {
     "slide_type": "fragment"
    }
   },
   "outputs": [
    {
     "name": "stdout",
     "output_type": "stream",
     "text": [
      "True\n",
      "False\n"
     ]
    }
   ],
   "source": [
    "x = True\n",
    "print(x)\n",
    "y = False\n",
    "print(y)"
   ]
  },
  {
   "cell_type": "code",
   "execution_count": 15,
   "metadata": {
    "slideshow": {
     "slide_type": "slide"
    }
   },
   "outputs": [],
   "source": [
    "city_1 = 'Wuerzburg'\n",
    "pop_1 = 127880\n",
    "region_1 = 'Bavaria'\n",
    "city_2 = 'Munich'\n",
    "pop_2 = 1484226\n",
    "region_2 = 'Bavaria'"
   ]
  },
  {
   "cell_type": "code",
   "execution_count": 16,
   "metadata": {
    "slideshow": {
     "slide_type": "fragment"
    }
   },
   "outputs": [
    {
     "name": "stdout",
     "output_type": "stream",
     "text": [
      "False\n",
      "True\n",
      "False\n",
      "True\n"
     ]
    }
   ],
   "source": [
    "print(pop_1 == pop_2)\n",
    "print(region_1 == region_2) \n",
    "print(pop_1 > pop_2)\n",
    "print(city_1 != city_2)"
   ]
  },
  {
   "cell_type": "markdown",
   "metadata": {
    "slideshow": {
     "slide_type": "slide"
    }
   },
   "source": [
    "### Strings\n",
    "\n",
    "If you want to use text in python, you have to use 'strings'. A string is created by writing your desired text between two single '(...)' or double quotation marks \"(...)\". For printing text (or numbers) use the 'print()' function."
   ]
  },
  {
   "cell_type": "code",
   "execution_count": 17,
   "metadata": {},
   "outputs": [
    {
     "data": {
      "text/plain": [
       "'Spatial Python'"
      ]
     },
     "execution_count": 17,
     "metadata": {},
     "output_type": "execute_result"
    }
   ],
   "source": [
    "'Spatial Python'"
   ]
  },
  {
   "cell_type": "markdown",
   "metadata": {},
   "source": [
    "Other data types can be converted to a string using the str function:"
   ]
  },
  {
   "cell_type": "code",
   "execution_count": 18,
   "metadata": {
    "slideshow": {
     "slide_type": "fragment"
    }
   },
   "outputs": [
    {
     "data": {
      "text/plain": [
       "'The population of Würzburg is 127880'"
      ]
     },
     "execution_count": 18,
     "metadata": {},
     "output_type": "execute_result"
    }
   ],
   "source": [
    "pop = 127880\n",
    "\n",
    "'The population of Würzburg is ' + str(pop)"
   ]
  },
  {
   "cell_type": "markdown",
   "metadata": {},
   "source": [
    "Of course strings can be also converted to numbers"
   ]
  },
  {
   "cell_type": "code",
   "execution_count": 19,
   "metadata": {},
   "outputs": [
    {
     "data": {
      "text/plain": [
       "42.2"
      ]
     },
     "execution_count": 19,
     "metadata": {},
     "output_type": "execute_result"
    }
   ],
   "source": [
    "int(\"11\")\n",
    "float(\"42.2\")"
   ]
  },
  {
   "cell_type": "markdown",
   "metadata": {
    "slideshow": {
     "slide_type": "slide"
    }
   },
   "source": [
    "Strings can be concatenated with the + operator"
   ]
  },
  {
   "cell_type": "code",
   "execution_count": 20,
   "metadata": {
    "slideshow": {
     "slide_type": "fragment"
    }
   },
   "outputs": [
    {
     "data": {
      "text/plain": [
       "'Sentinel2_B1.tif'"
      ]
     },
     "execution_count": 20,
     "metadata": {},
     "output_type": "execute_result"
    }
   ],
   "source": [
    "\"Sentinel2_\" + \"B\" + str(1) + \".tif\""
   ]
  },
  {
   "cell_type": "markdown",
   "metadata": {},
   "source": [
    "Besides the + operator Python also has some more advanced formatting methods"
   ]
  },
  {
   "cell_type": "code",
   "execution_count": 21,
   "metadata": {},
   "outputs": [
    {
     "data": {
      "text/plain": [
       "'Sentinel2_B1.tif'"
      ]
     },
     "execution_count": 21,
     "metadata": {},
     "output_type": "execute_result"
    }
   ],
   "source": [
    "x=1 \n",
    "\n",
    "f\"Sentinel2_B{x}.tif\"\n",
    "\n",
    "\"Sentinel2_B{}.tif\".format(1)"
   ]
  },
  {
   "cell_type": "markdown",
   "metadata": {
    "slideshow": {
     "slide_type": "slide"
    }
   },
   "source": [
    "Python also provides many built-in functions and methods for strings. Below are just a few examples"
   ]
  },
  {
   "cell_type": "markdown",
   "metadata": {},
   "source": [
    "| Function/Methods Name | Description |\n",
    "|---------------|------------|\n",
    "| capitalize() | Converts the first character of the string to a capital (uppercase) letter |\n",
    "| count()| Returns the number of occurrences of a substring in the string. |\n",
    "| encode()| Encodes strings with the specified encoded scheme |\n",
    "| endswith()| Returns “True” if a string ends with the given suffix |\n",
    "| find()| Returns the lowest index of the substring if it is found |\n",
    "| format()| Formats the string for printing it to console |\n",
    "| index()| Returns the position of the first occurrence of a substring in a string |\n",
    "| isalnum()| Checks whether all the characters in a given string is alphanumeric or not |\n",
    "| isalpha()| Returns “True” if all characters in the string are alphabets |\n",
    "| isdecimal()| Returns true if all characters in a string are decimal |\n",
    "| isnumeric()| Returns “True” if all characters in the string are numeric characters |\n",
    "| isprintable()| Returns “True” if all characters in the string are printable or the string is empty |\n",
    "| supper()| Checks if all characters in the string are uppercase |\n",
    "| join()| Returns a concatenated String |\n",
    "| lower()| Converts all uppercase characters in a string into lowercase |\n",
    "| replace()| Replaces all occurrences of a substring with another substring |\n",
    "| startswith()| Returns “True” if a string starts with the given prefix |\n",
    "| strip()| Returns the string with both leading and trailing characters |\n",
    "| swapcase()| Converts all uppercase characters to lowercase and vice versa |\n",
    "| title()| Convert string to title case |\n",
    "| translate()| Modify string according to given translation mappings |\n",
    "| upper()| Converts all lowercase characters in a string into uppercase |\n",
    "| zfill()| Returns a copy of the string with ‘0’ characters padded to the left side of the string |"
   ]
  },
  {
   "cell_type": "code",
   "execution_count": 22,
   "metadata": {},
   "outputs": [
    {
     "data": {
      "text/plain": [
       "3"
      ]
     },
     "execution_count": 22,
     "metadata": {},
     "output_type": "execute_result"
    }
   ],
   "source": [
    "string = \"Hello World\"\n",
    "\n",
    "string.upper()\n",
    "\n",
    "string.replace('Hello', 'My')\n",
    "\n",
    "string.find('l')\n",
    "\n",
    "string.count('l')"
   ]
  },
  {
   "cell_type": "markdown",
   "metadata": {},
   "source": [
    "Strings in python can be accesssed by index or sliced"
   ]
  },
  {
   "cell_type": "code",
   "execution_count": 31,
   "metadata": {},
   "outputs": [
    {
     "data": {
      "text/plain": [
       "'l'"
      ]
     },
     "execution_count": 31,
     "metadata": {},
     "output_type": "execute_result"
    },
    {
     "data": {
      "text/plain": [
       "'ello'"
      ]
     },
     "execution_count": 31,
     "metadata": {},
     "output_type": "execute_result"
    },
    {
     "data": {
      "text/plain": [
       "'W'"
      ]
     },
     "execution_count": 31,
     "metadata": {},
     "output_type": "execute_result"
    },
    {
     "data": {
      "text/plain": [
       "'llo World'"
      ]
     },
     "execution_count": 31,
     "metadata": {},
     "output_type": "execute_result"
    },
    {
     "data": {
      "text/plain": [
       "'He'"
      ]
     },
     "execution_count": 31,
     "metadata": {},
     "output_type": "execute_result"
    },
    {
     "data": {
      "text/plain": [
       "'d'"
      ]
     },
     "execution_count": 31,
     "metadata": {},
     "output_type": "execute_result"
    }
   ],
   "source": [
    "string[2]    # get third character\n",
    "string[1:5]  # slice from 1 (included) to 5 (included)\n",
    "string[-5]   # count from behind\n",
    "string[2:]   # from 2 (included) to end\n",
    "string[:2]   # from 0 to 1\n",
    "string[-1]   # last character"
   ]
  },
  {
   "cell_type": "markdown",
   "metadata": {},
   "source": [
    "<img src=\"images/indexing.png\" width=600 />"
   ]
  },
  {
   "cell_type": "markdown",
   "metadata": {
    "slideshow": {
     "slide_type": "slide"
    }
   },
   "source": [
    "### Lists\n",
    "Another data type are so called lists. Lists can be created putting several comma-separated values between square brackets. You can use lists to generate sequences of values, which can be of the same or different datatype.\n"
   ]
  },
  {
   "cell_type": "code",
   "execution_count": 26,
   "metadata": {
    "slideshow": {
     "slide_type": "fragment"
    }
   },
   "outputs": [
    {
     "data": {
      "text/plain": [
       "['a', 'b', 'c', 'd', 'e', 'f']"
      ]
     },
     "execution_count": 26,
     "metadata": {},
     "output_type": "execute_result"
    },
    {
     "data": {
      "text/plain": [
       "[1, 2, 3, 4, 5, 6, 7]"
      ]
     },
     "execution_count": 26,
     "metadata": {},
     "output_type": "execute_result"
    },
    {
     "data": {
      "text/plain": [
       "['hello', 2.45, 3, 'a', (-0.6545+0j)]"
      ]
     },
     "execution_count": 26,
     "metadata": {},
     "output_type": "execute_result"
    }
   ],
   "source": [
    "letter_list = ['a','b','c','d','e','f'] #list of stringd\n",
    "letter_list\n",
    "\n",
    "list_of_numbers = [1,2,3,4,5,6,7] #list of numbers\n",
    "list_of_numbers\n",
    "\n",
    "mixed_list = ['hello', 2.45, 3, 'a', -.6545+0J] #mixing different data types\n",
    "mixed_list"
   ]
  },
  {
   "cell_type": "markdown",
   "metadata": {
    "slideshow": {
     "slide_type": "slide"
    }
   },
   "source": [
    "Similar to strings values in a list can be done using indexing or slicing. "
   ]
  },
  {
   "cell_type": "code",
   "execution_count": 36,
   "metadata": {
    "slideshow": {
     "slide_type": "fragment"
    }
   },
   "outputs": [
    {
     "data": {
      "text/plain": [
       "3"
      ]
     },
     "execution_count": 36,
     "metadata": {},
     "output_type": "execute_result"
    },
    {
     "name": "stdout",
     "output_type": "stream",
     "text": [
      "[2, 3, 4, 'a']\n",
      "4\n",
      "[3, 4, 'a', 'b', 'c', 'd']\n",
      "[1, 2]\n"
     ]
    }
   ],
   "source": [
    "random = [1, 2, 3, 4, 'a', 'b','c','d']\n",
    "\n",
    "random[2]\n",
    "print(random[1:5])  # slice from 1 (included) to 5 (included)\n",
    "print(random[-5])   # count from behind\n",
    "print(random[2:])   # from 2 (included) to end\n",
    "print(random[:2])   # from begin to 2 (!not included!)"
   ]
  },
  {
   "cell_type": "markdown",
   "metadata": {
    "slideshow": {
     "slide_type": "subslide"
    }
   },
   "source": [
    "You can also update lists  with one or more elements by giving the slice on the left-hand side. It´s also possible to append new elements to the list or delete list elements with the function."
   ]
  },
  {
   "cell_type": "code",
   "execution_count": 34,
   "metadata": {
    "slideshow": {
     "slide_type": "fragment"
    }
   },
   "outputs": [
    {
     "name": "stdout",
     "output_type": "stream",
     "text": [
      "Madrid\n"
     ]
    },
    {
     "data": {
      "text/plain": [
       "['Berlin', 'Paris', 'London', 'Rome', 'Lisboa']"
      ]
     },
     "execution_count": 34,
     "metadata": {},
     "output_type": "execute_result"
    },
    {
     "data": {
      "text/plain": [
       "['Berlin', 'Paris', 'London', 'Lisboa']"
      ]
     },
     "execution_count": 34,
     "metadata": {},
     "output_type": "execute_result"
    },
    {
     "data": {
      "text/plain": [
       "['Berlin', 'Paris', 'London', 'Lisboa', 'Vienna']"
      ]
     },
     "execution_count": 34,
     "metadata": {},
     "output_type": "execute_result"
    }
   ],
   "source": [
    "cities = ['Berlin', 'Paris','London','Madrid','Lisboa']\n",
    "print(cities[3])\n",
    "\n",
    "# Update list\n",
    "cities[3] = 'Rome'\n",
    "cities\n",
    "\n",
    "# deleting elemants\n",
    "del(cities[3])\n",
    "cities\n",
    "\n",
    "# append elemnts\n",
    "cities.append('Vienna')\n",
    "cities"
   ]
  },
  {
   "cell_type": "markdown",
   "metadata": {
    "slideshow": {
     "slide_type": "slide"
    }
   },
   "source": [
    "There are many different ways to interact with lists. Exploring them is part of the fun of python."
   ]
  },
  {
   "cell_type": "markdown",
   "metadata": {
    "slideshow": {
     "slide_type": "slide"
    }
   },
   "source": [
    "| Function/Method Name | Description |\n",
    "|---------------|-------------|\n",
    "| list.append(x) | Add an item to the end of the list. Equivalent to a[len(a):] = [x]. |\n",
    "| list.extend(L) | Extend the list by appending all the items in the given list. Equivalent to a[len(a):] = L. |\n",
    "| list.insert(i, x) | Insert an item at a given position. The first argument is the index of the element before which to insert, so a.insert(0, x) inserts at the front of the list, and a.insert(len(a), x) is equivalent to a.append(x). |\n",
    "| list.remove(x) | Remove the first item from the list whose value is x. It is an error if there is no such item. |\n",
    "| list.pop([i]) | Remove the item at the given position in the list, and return it. If no index is specified, a.pop() removes and returns the last item in the list. |\n",
    "| list.clear() | Remove all items from the list. Equivalent to del a[:]. |\n",
    "| list.index(x) | Return the index in the list of the first item whose value is x. It is an error if there is no such item. |\n",
    "| list.count(x) | Return the number of times x appears in the list. |\n",
    "| list.sort() | Sort the items of the list in place. |\n",
    "| list.reverse() | Reverse the elements of the list in place. |\n",
    "| list.copy() | Return a shallow copy of the list. Equivalent to a[:]. |\n",
    "| len(list) | Returns the number of items in the list. | \n",
    "| max(list) | Returns the largest item  or the largest of two or more arguments. | \n",
    "| min(list) | Returns the smallest item or the smallest of two or more arguments. | "
   ]
  },
  {
   "cell_type": "code",
   "execution_count": 42,
   "metadata": {},
   "outputs": [
    {
     "data": {
      "text/plain": [
       "5"
      ]
     },
     "execution_count": 42,
     "metadata": {},
     "output_type": "execute_result"
    },
    {
     "data": {
      "text/plain": [
       "0.21"
      ]
     },
     "execution_count": 42,
     "metadata": {},
     "output_type": "execute_result"
    },
    {
     "data": {
      "text/plain": [
       "[0.21, 3.0, 3.4, 4.3, 5.6]"
      ]
     },
     "execution_count": 42,
     "metadata": {},
     "output_type": "execute_result"
    }
   ],
   "source": [
    "temp = [3.4,4.3,5.6,0.21,3.0]\n",
    "\n",
    "len(temp)\n",
    "min(temp)\n",
    "temp.sort()\n",
    "temp"
   ]
  },
  {
   "cell_type": "markdown",
   "metadata": {
    "slideshow": {
     "slide_type": "slide"
    }
   },
   "source": [
    "### Tuples\n",
    "Tuples are sequences, just like lists. The difference is that tuples are immutable. Which means that they can´t be changed like lists. Tuples can be created without brackets (optionally you can use parenthesis)."
   ]
  },
  {
   "cell_type": "code",
   "execution_count": 43,
   "metadata": {
    "slideshow": {
     "slide_type": "fragment"
    }
   },
   "outputs": [
    {
     "data": {
      "text/plain": [
       "('a', 'b', 'c')"
      ]
     },
     "execution_count": 43,
     "metadata": {},
     "output_type": "execute_result"
    },
    {
     "data": {
      "text/plain": [
       "(1, 2, 3, 4, 5)"
      ]
     },
     "execution_count": 43,
     "metadata": {},
     "output_type": "execute_result"
    },
    {
     "data": {
      "text/plain": [
       "('a', 'b', 'c', 'd', 2)"
      ]
     },
     "execution_count": 43,
     "metadata": {},
     "output_type": "execute_result"
    }
   ],
   "source": [
    "tup1 = \"a\", \"b\",\"c\"\n",
    "tup2 = (1, 2, 3, 4, 5 )\n",
    "tup3 = (\"a\", \"b\", \"c\", \"d\",2)\n",
    "tup1\n",
    "tup2\n",
    "tup3"
   ]
  },
  {
   "cell_type": "markdown",
   "metadata": {
    "slideshow": {
     "slide_type": "slide"
    }
   },
   "source": [
    "You can access elements in the same way as lists. But due to the fact that tuples are **immutable**, you cannot update or change the values of tuple elements."
   ]
  },
  {
   "cell_type": "code",
   "execution_count": 44,
   "metadata": {
    "slideshow": {
     "slide_type": "fragment"
    }
   },
   "outputs": [
    {
     "data": {
      "text/plain": [
       "3"
      ]
     },
     "execution_count": 44,
     "metadata": {},
     "output_type": "execute_result"
    },
    {
     "data": {
      "text/plain": [
       "(2, 3, 4, 'a')"
      ]
     },
     "execution_count": 44,
     "metadata": {},
     "output_type": "execute_result"
    },
    {
     "data": {
      "text/plain": [
       "4"
      ]
     },
     "execution_count": 44,
     "metadata": {},
     "output_type": "execute_result"
    },
    {
     "data": {
      "text/plain": [
       "(3, 4, 'a', 'b', 'c', 'd')"
      ]
     },
     "execution_count": 44,
     "metadata": {},
     "output_type": "execute_result"
    },
    {
     "data": {
      "text/plain": [
       "(1, 2)"
      ]
     },
     "execution_count": 44,
     "metadata": {},
     "output_type": "execute_result"
    }
   ],
   "source": [
    "# Access elements\n",
    "tup1 = 1, 2, 3, 4, 'a', 'b','c','d'\n",
    "\n",
    "tup1[2]\n",
    "tup1[1:5]  # slice from 1 (included) to 5 (included)\n",
    "tup1[-5]   # count from behind\n",
    "tup1[2:]   # from 2 (included) to end\n",
    "tup1[:2]   # from begin to 2 (!not included!)"
   ]
  },
  {
   "cell_type": "code",
   "execution_count": 45,
   "metadata": {
    "slideshow": {
     "slide_type": "fragment"
    }
   },
   "outputs": [
    {
     "ename": "TypeError",
     "evalue": "'tuple' object does not support item assignment",
     "output_type": "error",
     "traceback": [
      "\u001b[0;31m---------------------------------------------------------------------------\u001b[0m",
      "\u001b[0;31mTypeError\u001b[0m                                 Traceback (most recent call last)",
      "\u001b[0;32m/tmp/ipykernel_50387/2331254091.py\u001b[0m in \u001b[0;36m<module>\u001b[0;34m\u001b[0m\n\u001b[1;32m      2\u001b[0m \u001b[0mtup2\u001b[0m \u001b[0;34m=\u001b[0m \u001b[0;34m(\u001b[0m\u001b[0;34m'abc'\u001b[0m\u001b[0;34m,\u001b[0m\u001b[0;34m'def'\u001b[0m\u001b[0;34m,\u001b[0m \u001b[0;34m'ghi'\u001b[0m \u001b[0;34m,\u001b[0m\u001b[0;34m'xyz'\u001b[0m\u001b[0;34m)\u001b[0m\u001b[0;34m\u001b[0m\u001b[0;34m\u001b[0m\u001b[0m\n\u001b[1;32m      3\u001b[0m \u001b[0;34m\u001b[0m\u001b[0m\n\u001b[0;32m----> 4\u001b[0;31m \u001b[0mtup1\u001b[0m\u001b[0;34m[\u001b[0m\u001b[0;36m0\u001b[0m\u001b[0;34m]\u001b[0m \u001b[0;34m=\u001b[0m \u001b[0;36m10\u001b[0m \u001b[0;31m#This action is not allowed for tuples\u001b[0m\u001b[0;34m\u001b[0m\u001b[0;34m\u001b[0m\u001b[0m\n\u001b[0m\u001b[1;32m      5\u001b[0m \u001b[0;34m\u001b[0m\u001b[0m\n\u001b[1;32m      6\u001b[0m \u001b[0;31m# But we can concatenate tuples\u001b[0m\u001b[0;34m\u001b[0m\u001b[0;34m\u001b[0m\u001b[0;34m\u001b[0m\u001b[0m\n",
      "\u001b[0;31mTypeError\u001b[0m: 'tuple' object does not support item assignment"
     ]
    }
   ],
   "source": [
    "tup1 = (123,4554,5,454, 34.56)\n",
    "tup2 = ('abc','def', 'ghi' ,'xyz')\n",
    "\n",
    "tup1[0] = 10 #This action is not allowed for tuples"
   ]
  },
  {
   "cell_type": "markdown",
   "metadata": {
    "slideshow": {
     "slide_type": "slide"
    }
   },
   "source": [
    "Tuples also have some built-in functions"
   ]
  },
  {
   "cell_type": "code",
   "execution_count": 47,
   "metadata": {
    "slideshow": {
     "slide_type": "fragment"
    }
   },
   "outputs": [
    {
     "data": {
      "text/plain": [
       "12"
      ]
     },
     "execution_count": 47,
     "metadata": {},
     "output_type": "execute_result"
    },
    {
     "data": {
      "text/plain": [
       "1"
      ]
     },
     "execution_count": 47,
     "metadata": {},
     "output_type": "execute_result"
    },
    {
     "data": {
      "text/plain": [
       "9"
      ]
     },
     "execution_count": 47,
     "metadata": {},
     "output_type": "execute_result"
    },
    {
     "data": {
      "text/plain": [
       "2"
      ]
     },
     "execution_count": 47,
     "metadata": {},
     "output_type": "execute_result"
    }
   ],
   "source": [
    "tup1 = [1,2,1,4,3,4,5,6,7,8,8,9]\n",
    "\n",
    "len(tup1)\n",
    "min(tup1)\n",
    "max(tup1)\n",
    "tup1.count(8)"
   ]
  },
  {
   "cell_type": "markdown",
   "metadata": {
    "slideshow": {
     "slide_type": "slide"
    }
   },
   "source": [
    "#### Why using tuples at all ?\n",
    "\n",
    "\n",
    "- Tuples are faster than lists and need less memory\n",
    "\n",
    "- It makes your code safer if you “write-protect” data that does not need to be changed. \n",
    "\n",
    "- Tuples can be used as dictionary keys \n",
    "\n"
   ]
  },
  {
   "cell_type": "markdown",
   "metadata": {
    "slideshow": {
     "slide_type": "slide"
    }
   },
   "source": [
    "### Dictionaries\n",
    "\n",
    "Strings, lists and tuples are so called sequential datatypes. Dictionaries belong to python’s built-in mapping type. Sequential datatypes use integers as indices to access the values they contain within them. Dictionaries allows to use map keys. The values of a dictionary can be of any type, but the keys must be of an immutable data type (strings, numbers, tuples). \n",
    "Dictionaries are constructed with curly brackets {}. Key and values are separated by colons ':'and square brackets are used to index it. It´s not allowed more entries per key, which also means that duplicate keys are also not allowed."
   ]
  },
  {
   "cell_type": "markdown",
   "metadata": {
    "slideshow": {
     "slide_type": "slide"
    }
   },
   "source": [
    "<img src=\"images/dict.png\" width=600 />"
   ]
  },
  {
   "cell_type": "code",
   "execution_count": 49,
   "metadata": {
    "slideshow": {
     "slide_type": "slide"
    }
   },
   "outputs": [],
   "source": [
    "city_temp = {'City': 'Dublin', 'MaxTemp': 15.5, 'MinTemp': 5.0}"
   ]
  },
  {
   "cell_type": "markdown",
   "metadata": {},
   "source": [
    "Dictionary values are accessible through the keys"
   ]
  },
  {
   "cell_type": "code",
   "execution_count": 50,
   "metadata": {},
   "outputs": [
    {
     "data": {
      "text/plain": [
       "'Dublin'"
      ]
     },
     "execution_count": 50,
     "metadata": {},
     "output_type": "execute_result"
    },
    {
     "data": {
      "text/plain": [
       "15.5"
      ]
     },
     "execution_count": 50,
     "metadata": {},
     "output_type": "execute_result"
    },
    {
     "data": {
      "text/plain": [
       "5.0"
      ]
     },
     "execution_count": 50,
     "metadata": {},
     "output_type": "execute_result"
    }
   ],
   "source": [
    "city_temp['City']\n",
    "city_temp['MaxTemp']\n",
    "city_temp['MinTemp']"
   ]
  },
  {
   "cell_type": "markdown",
   "metadata": {
    "slideshow": {
     "slide_type": "slide"
    }
   },
   "source": [
    "Dictionaries can be updated and elements can be removed. "
   ]
  },
  {
   "cell_type": "code",
   "execution_count": 51,
   "metadata": {
    "slideshow": {
     "slide_type": "fragment"
    }
   },
   "outputs": [
    {
     "data": {
      "text/plain": [
       "15.65"
      ]
     },
     "execution_count": 51,
     "metadata": {},
     "output_type": "execute_result"
    },
    {
     "data": {
      "text/plain": [
       "544107"
      ]
     },
     "execution_count": 51,
     "metadata": {},
     "output_type": "execute_result"
    }
   ],
   "source": [
    "# Update dictionaries\n",
    "city_temp = {'City': 'Dublin', 'MaxTemp': 15.5, 'MinTemp': 5.0}\n",
    "city_temp['MaxTemp'] = 15.65;                                # update existing entry\n",
    "city_temp['Population'] = 544107;                    # Add new entry\n",
    "\n",
    "city_temp['MaxTemp']\n",
    "city_temp['Population']"
   ]
  },
  {
   "cell_type": "markdown",
   "metadata": {},
   "source": [
    "Of course we can also use more than one value per key"
   ]
  },
  {
   "cell_type": "code",
   "execution_count": 53,
   "metadata": {},
   "outputs": [],
   "source": [
    "city_temp = {'City': ['Dublin','London'], 'MaxTemp': [15.5,12.5], 'MinTemp': [15.5,12.5]}"
   ]
  },
  {
   "cell_type": "markdown",
   "metadata": {},
   "source": [
    "If we access a key with multiple values we get back a list"
   ]
  },
  {
   "cell_type": "code",
   "execution_count": 55,
   "metadata": {
    "slideshow": {
     "slide_type": "fragment"
    }
   },
   "outputs": [
    {
     "data": {
      "text/plain": [
       "[15.5, 12.5]"
      ]
     },
     "execution_count": 55,
     "metadata": {},
     "output_type": "execute_result"
    },
    {
     "data": {
      "text/plain": [
       "12.5"
      ]
     },
     "execution_count": 55,
     "metadata": {},
     "output_type": "execute_result"
    }
   ],
   "source": [
    "city_temp['MaxTemp']\n",
    "city_temp['MaxTemp'][1]"
   ]
  },
  {
   "cell_type": "markdown",
   "metadata": {
    "slideshow": {
     "slide_type": "slide"
    }
   },
   "source": [
    "\n",
    "Few examples of built-in functions and methods."
   ]
  },
  {
   "cell_type": "markdown",
   "metadata": {},
   "source": [
    "| Function/Method | Description| \n",
    "| ----------------| -----------| \n",
    "| clear()| Removes all the elements from the dictionary| \n",
    "| copy()| Returns a copy of the dictionary| \n",
    "| fromkeys()| Returns a dictionary with the specified keys and value| \n",
    "| get()  | Returns the value of the specified key| \n",
    "| items()| Returns a list containing a tuple for each key value pair| \n",
    "| keys()| Returns a list containing the dictionary's keys| \n",
    "| pop() | Removes the element with the specified key| \n",
    "| popitem()| Removes the last inserted key-value pair| \n",
    "| setdefault()| Returns the value of the specified key. If the key does not exist: insert the key, with the specified value| \n",
    "| update()| Updates the dictionary with the specified key-value pairs| \n",
    "| values()| Returns a list of all the values in the dictionary| "
   ]
  },
  {
   "cell_type": "code",
   "execution_count": 62,
   "metadata": {
    "slideshow": {
     "slide_type": "fragment"
    }
   },
   "outputs": [
    {
     "data": {
      "text/plain": [
       "dict_keys(['City', 'MaxTemp', 'MinTemp'])"
      ]
     },
     "execution_count": 62,
     "metadata": {},
     "output_type": "execute_result"
    },
    {
     "data": {
      "text/plain": [
       "dict_values([['Dublin', 'London'], [15.5, 12.5], [15.5, 12.5]])"
      ]
     },
     "execution_count": 62,
     "metadata": {},
     "output_type": "execute_result"
    },
    {
     "data": {
      "text/plain": [
       "3"
      ]
     },
     "execution_count": 62,
     "metadata": {},
     "output_type": "execute_result"
    },
    {
     "data": {
      "text/plain": [
       "2"
      ]
     },
     "execution_count": 62,
     "metadata": {},
     "output_type": "execute_result"
    },
    {
     "data": {
      "text/plain": [
       "15.5"
      ]
     },
     "execution_count": 62,
     "metadata": {},
     "output_type": "execute_result"
    },
    {
     "data": {
      "text/plain": [
       "12.5"
      ]
     },
     "execution_count": 62,
     "metadata": {},
     "output_type": "execute_result"
    }
   ],
   "source": [
    "city_temp.keys()\n",
    "city_temp.values()\n",
    "\n",
    "len(city_temp) \n",
    "len(city_temp['City']) \n",
    "\n",
    "max(city_temp['MaxTemp']) \n",
    "min(city_temp['MinTemp'])"
   ]
  },
  {
   "cell_type": "markdown",
   "metadata": {
    "slideshow": {
     "slide_type": "slide"
    }
   },
   "source": [
    "### Indentation\n",
    "\n",
    "A python program is structured through indentation. Indentations are used to separate different code block. This make it´s easier to read and understand your own code and the code of others. While in other programming languages indentation is a matter of style, in python it´s a language requirement.\n"
   ]
  },
  {
   "cell_type": "code",
   "execution_count": null,
   "metadata": {
    "slideshow": {
     "slide_type": "fragment"
    }
   },
   "outputs": [],
   "source": [
    "def letterGrade(score):\n",
    "    if score >= 90:\n",
    "        letter = 'A'\n",
    "    else:   # grade must be B, C, D or F\n",
    "        if score >= 80:\n",
    "            letter = 'B'\n",
    "        else:  # grade must be C, D or F\n",
    "            if score >= 70:\n",
    "                letter = 'C'\n",
    "            else:    # grade must D or F\n",
    "                if score >= 60:\n",
    "                    letter = 'D'\n",
    "                else:\n",
    "                    letter = 'F'\n",
    "    return letter\n",
    "\n",
    "letterGrade(9)"
   ]
  },
  {
   "cell_type": "markdown",
   "metadata": {
    "slideshow": {
     "slide_type": "slide"
    }
   },
   "source": [
    "## Control flow statements\n",
    "### While, if, else\n",
    "\n",
    "\n",
    "Decision making is required when we want to execute a code only if a certain condition holds. This means e.g. that some statements are only carried out if an expression is True. The 'while' statement repeatedly tests the given expression and executes the code block as long as the expression is True"
   ]
  },
  {
   "cell_type": "code",
   "execution_count": null,
   "metadata": {
    "slideshow": {
     "slide_type": "fragment"
    }
   },
   "outputs": [],
   "source": [
    "password = \"python2017\"\n",
    "attempt = input(\"Enter password: \")\n",
    "\n",
    "if attempt == password:\n",
    "    print(\"Welcome\")"
   ]
  },
  {
   "cell_type": "markdown",
   "metadata": {
    "slideshow": {
     "slide_type": "slide"
    }
   },
   "source": [
    "In this case, the if statement is used to evaluates the input of the user and the following code block will only be executed if the expression is True.  If the expression is False, the statement(s) is not executed. \n",
    "But if we want that the the program does something else, even when the if-statement evaluates to false, we can add the 'else' statement."
   ]
  },
  {
   "cell_type": "code",
   "execution_count": null,
   "metadata": {
    "slideshow": {
     "slide_type": "fragment"
    }
   },
   "outputs": [],
   "source": [
    "password = \"python2017\"\n",
    "attempt = input(\"Enter password: \")\n",
    " \n",
    "if attempt == password:\n",
    "    print(\"Welcome\")\n",
    "else:\n",
    "    print(\"Incorrect password!\")"
   ]
  },
  {
   "cell_type": "markdown",
   "metadata": {
    "slideshow": {
     "slide_type": "slide"
    }
   },
   "source": [
    "You can also use multiple if...else statements nested into each other"
   ]
  },
  {
   "cell_type": "code",
   "execution_count": 23,
   "metadata": {
    "slideshow": {
     "slide_type": "fragment"
    }
   },
   "outputs": [
    {
     "name": "stdin",
     "output_type": "stream",
     "text": [
      "What is your username?  kjkjks\n"
     ]
    },
    {
     "name": "stdout",
     "output_type": "stream",
     "text": [
      "No valid username\n"
     ]
    }
   ],
   "source": [
    "passlist = ['1223','hamster','mydog','python','snow' ]\n",
    "name = input(\"What is your username? \")\n",
    "if name == 'Steve':\n",
    "    password = input(\"What’s the password? \")\n",
    "    #did they enter the correct password?\n",
    "    if password in passlist:\n",
    "        print(\"Welcome {0}\".format(name))\n",
    "    else:\n",
    "        print(\"Incorrect password\")\n",
    "else:\n",
    "    print(\"No valid username\")    "
   ]
  },
  {
   "cell_type": "markdown",
   "metadata": {
    "slideshow": {
     "slide_type": "slide"
    }
   },
   "source": [
    "In the next example will want a program that evaluates more than two possible outcomes. For this, we will use an else if statement. In python else if statment is written as 'elif'."
   ]
  },
  {
   "cell_type": "code",
   "execution_count": 24,
   "metadata": {
    "slideshow": {
     "slide_type": "fragment"
    }
   },
   "outputs": [
    {
     "name": "stdin",
     "output_type": "stream",
     "text": [
      "What is your username?  steve\n",
      "What’s the password?  ds\n"
     ]
    },
    {
     "name": "stdout",
     "output_type": "stream",
     "text": [
      "No valid username\n"
     ]
    }
   ],
   "source": [
    "name = input(\"What is your username? \")\n",
    "password = input(\"What’s the password? \")\n",
    "if name == 'Steve':\n",
    "    if password == 'kingofthehill':\n",
    "        print(\"Welcome {0}\".format(name))\n",
    "    else:\n",
    "        print(\"Incorrect password\")\n",
    "elif name == 'Insa':\n",
    "    if password == 'IOtte123':\n",
    "        print(\"Welcome {0}\".format(name))\n",
    "    else:\n",
    "        print(\"Incorrect password\")\n",
    "elif name == 'Johannes':\n",
    "    if password == 'RadarLove':\n",
    "        print(\"Welcome {0}\".format(name))\n",
    "    else:\n",
    "        print(\"Incorrect password\")\n",
    "else:\n",
    "    print(\"No valid username\") "
   ]
  },
  {
   "cell_type": "markdown",
   "metadata": {
    "slideshow": {
     "slide_type": "slide"
    }
   },
   "source": [
    "Sometimes you want that a specific code block is carried out repeatedly. This can be accomplished creating so called loops. A loop allows you to execute a statement or even a group of statements multiple times. For example, the 'while' statement, allows you to run the code within the loop as long as the expression is True."
   ]
  },
  {
   "cell_type": "code",
   "execution_count": null,
   "metadata": {
    "slideshow": {
     "slide_type": "fragment"
    }
   },
   "outputs": [],
   "source": [
    "count = 0\n",
    "while (count < 9):\n",
    "    print('The count is:', count)\n",
    "    count = count + 1\n",
    "print(\"Count maximum is reached!\")"
   ]
  },
  {
   "cell_type": "markdown",
   "metadata": {
    "slideshow": {
     "slide_type": "slide"
    }
   },
   "source": [
    "You can also create infinite loops"
   ]
  },
  {
   "cell_type": "code",
   "execution_count": null,
   "metadata": {
    "slideshow": {
     "slide_type": "fragment"
    }
   },
   "outputs": [],
   "source": [
    "var = 1\n",
    "while var == 1 :  # This constructs an infinite loop\n",
    "    num = int(input(\"Enter a number  :\"))\n",
    "    print(\"You entered: \", num)\n",
    "\n",
    "print('Thanks')"
   ]
  },
  {
   "cell_type": "markdown",
   "metadata": {
    "slideshow": {
     "slide_type": "slide"
    }
   },
   "source": [
    "Just like the 'if-statement', you can also combine 'while' with 'else'"
   ]
  },
  {
   "cell_type": "code",
   "execution_count": 27,
   "metadata": {
    "slideshow": {
     "slide_type": "fragment"
    }
   },
   "outputs": [
    {
     "name": "stdout",
     "output_type": "stream",
     "text": [
      "0  is  less than 12\n",
      "1  is  less than 12\n",
      "2  is  less than 12\n",
      "3  is  less than 12\n",
      "4  is  less than 12\n",
      "5  is  less than 12\n",
      "6  is  less than 12\n",
      "7  is  less than 12\n",
      "8  is  less than 12\n",
      "9  is  less than 12\n",
      "10  is  less than 12\n",
      "11  is  less than 12\n",
      "12  is not less than 12\n"
     ]
    }
   ],
   "source": [
    "count = 0\n",
    "while count < 12:\n",
    "    print(count, \" is  less than 12\")\n",
    "    count = count + 1\n",
    "else:\n",
    "    print(count, \" is not less than 12\")"
   ]
  },
  {
   "cell_type": "markdown",
   "metadata": {
    "slideshow": {
     "slide_type": "slide"
    }
   },
   "source": [
    "Another statement you can use is break(). It terminates the enclosing loop. A premature termination of the current loop can be useful when some external condition is triggered requiring an exit from a loop."
   ]
  },
  {
   "cell_type": "code",
   "execution_count": null,
   "metadata": {
    "slideshow": {
     "slide_type": "fragment"
    }
   },
   "outputs": [],
   "source": [
    "import random\n",
    "number = random.randint(1, 15)\n",
    "\n",
    "number_of_guesses = 0\n",
    "\n",
    "while number_of_guesses < 5:\n",
    "    print('Guess a number between 1 and 15:')\n",
    "    guess = input()\n",
    "    guess = int(guess)\n",
    "\n",
    "    number_of_guesses = number_of_guesses + 1\n",
    "\n",
    "    if guess < number:\n",
    "        print('Your guess is too low')\n",
    "\n",
    "    if guess > number:\n",
    "        print('Your guess is too high')\n",
    "\n",
    "    if guess == number:\n",
    "        break\n",
    "\n",
    "if guess == number:\n",
    "    print('You guessed the number in ' , number_of_guesses,' tries!')\n",
    "\n",
    "else:\n",
    "    print('You did not guess the number. The number was ' , number)"
   ]
  },
  {
   "cell_type": "markdown",
   "metadata": {
    "slideshow": {
     "slide_type": "slide"
    }
   },
   "source": [
    "Sometimes, you want to perform code on each item on a list. This can be accomplished with a while loop and counter variable."
   ]
  },
  {
   "cell_type": "code",
   "execution_count": null,
   "metadata": {
    "slideshow": {
     "slide_type": "fragment"
    }
   },
   "outputs": [],
   "source": [
    "words = ['one', 'two', 'three', 'four','five' ]\n",
    "count = 0\n",
    "max_count = len(words) - 1\n",
    "\n",
    "while count <= max_count:\n",
    "    word = words[count]\n",
    "    print(word +'!')\n",
    "    count = count + 1"
   ]
  },
  {
   "cell_type": "markdown",
   "metadata": {
    "slideshow": {
     "slide_type": "slide"
    }
   },
   "source": [
    "Using a while loop for iterating through list requires quite a lot of code. Python also provides the for-loop as shortcut that accomplishes the same task. Let´s do the same code as above with a for-loop "
   ]
  },
  {
   "cell_type": "code",
   "execution_count": null,
   "metadata": {
    "slideshow": {
     "slide_type": "fragment"
    }
   },
   "outputs": [],
   "source": [
    "words = ['one', 'two', 'three', 'four','five' ]\n",
    "for index, value in enumerate(words):\n",
    "    print(index)\n",
    "    print(x + '!')"
   ]
  },
  {
   "cell_type": "markdown",
   "metadata": {
    "slideshow": {
     "slide_type": "slide"
    }
   },
   "source": [
    "If you want to repeat some code a certain numbers of time, you can combine the for-loop with an range object."
   ]
  },
  {
   "cell_type": "code",
   "execution_count": null,
   "metadata": {
    "slideshow": {
     "slide_type": "fragment"
    }
   },
   "outputs": [],
   "source": [
    "for i in range(9):\n",
    "    print(\"Go !\")\n",
    "  "
   ]
  },
  {
   "cell_type": "markdown",
   "metadata": {
    "slideshow": {
     "slide_type": "slide"
    }
   },
   "source": [
    "Now we can use our gained knowledge to program e.g. a simple calculator."
   ]
  },
  {
   "cell_type": "code",
   "execution_count": null,
   "metadata": {
    "slideshow": {
     "slide_type": "fragment"
    }
   },
   "outputs": [],
   "source": [
    "print(\"1.Add\")\n",
    "print(\"2.Subtract\")\n",
    "print(\"3.Multiply\")\n",
    "print(\"4.Divide\")\n",
    "\n",
    "# Take input from the user \n",
    "choice = input(\"Enter choice(1/2/3/4):\")\n",
    "\n",
    "num1 = int(input(\"Enter first number: \"))\n",
    "num2 = int(input(\"Enter second number: \"))\n",
    "\n",
    "if choice == '1':\n",
    "    result = num1 + num2\n",
    "    print(\"{0} + {1} = {2}\".format(num1,num2,result))\n",
    "elif choice == '2':\n",
    "    result = num1 - num2\n",
    "    print(\"{0} - {1} = {2}\".format(num1,num2,result))\n",
    "          \n",
    "elif choice == '3':\n",
    "    result = num1*num2\n",
    "    print(\"{0} * {1} = {2}\".format(num1,num2,result))\n",
    "\n",
    "elif choice == '4':\n",
    "    result = num1/num2\n",
    "    print(\"{0} / {1} = {2}\".format(num1,num2,result))\n",
    "else:\n",
    "    print(\"Invalid input\") "
   ]
  },
  {
   "cell_type": "markdown",
   "metadata": {
    "slideshow": {
     "slide_type": "slide"
    }
   },
   "source": [
    "#### Comprehensions\n",
    "\n",
    "\n",
    "Comprehensions are constructs that allow sequences to be built from other sequences. Let's assume we have a list with temperature values in Celsius and we want to convert them to Fahrenheit"
   ]
  },
  {
   "cell_type": "code",
   "execution_count": null,
   "metadata": {
    "slideshow": {
     "slide_type": "fragment"
    }
   },
   "outputs": [],
   "source": [
    "T_in_celsius = [3, 12, 18, 9, 10, 20]"
   ]
  },
  {
   "cell_type": "markdown",
   "metadata": {
    "slideshow": {
     "slide_type": "fragment"
    }
   },
   "source": [
    "We could write a for loop for this problem"
   ]
  },
  {
   "cell_type": "code",
   "execution_count": null,
   "metadata": {
    "slideshow": {
     "slide_type": "fragment"
    }
   },
   "outputs": [],
   "source": [
    "fahrenheit = []\n",
    "for temp in T_in_celsius:\n",
    "    temp_fahr = (temp * 9 / 5) + 32\n",
    "    fahrenheit.append(temp_fahr)\n",
    "\n",
    "fahrenheit"
   ]
  },
  {
   "cell_type": "markdown",
   "metadata": {
    "slideshow": {
     "slide_type": "slide"
    }
   },
   "source": [
    "Or, we could use a list comprehension:"
   ]
  },
  {
   "cell_type": "code",
   "execution_count": null,
   "metadata": {
    "slideshow": {
     "slide_type": "fragment"
    }
   },
   "outputs": [],
   "source": [
    "fahrenheit = [(temp * 9 / 5) + 32 for temp in T_in_celsius]\n",
    "fahrenheit"
   ]
  },
  {
   "cell_type": "markdown",
   "metadata": {
    "slideshow": {
     "slide_type": "slide"
    }
   },
   "source": [
    "We can also go one step further and also include a if statement"
   ]
  },
  {
   "cell_type": "code",
   "execution_count": null,
   "metadata": {
    "slideshow": {
     "slide_type": "fragment"
    }
   },
   "outputs": [],
   "source": [
    "# Pythagorean triple\n",
    "# consists of three positive integers a, b, and c, such that a**2 + b**2 = c**2\n",
    "\n",
    "[(a,b,c) for a in range(1,30) for b in range(1,30) for c in range(1,30) if a**2 + b**2 == c**2]"
   ]
  },
  {
   "cell_type": "markdown",
   "metadata": {
    "slideshow": {
     "slide_type": "slide"
    }
   },
   "source": [
    "You can even create nested comprehensions"
   ]
  },
  {
   "cell_type": "code",
   "execution_count": null,
   "metadata": {
    "slideshow": {
     "slide_type": "fragment"
    }
   },
   "outputs": [],
   "source": [
    "matrix = [[j * j+i for j in range(4)] for i in range(3)]\n",
    "matrix"
   ]
  },
  {
   "cell_type": "markdown",
   "metadata": {
    "slideshow": {
     "slide_type": "fragment"
    }
   },
   "source": [
    "Of course you can use comprehensions also for dictionaries"
   ]
  },
  {
   "cell_type": "code",
   "execution_count": null,
   "metadata": {
    "slideshow": {
     "slide_type": "fragment"
    }
   },
   "outputs": [],
   "source": [
    "fruits = ['apple', 'mango', 'banana','cherry']\n",
    "{f:len(f) for f in fruits}"
   ]
  },
  {
   "cell_type": "markdown",
   "metadata": {
    "slideshow": {
     "slide_type": "slide"
    }
   },
   "source": [
    "### Functions\n",
    "\n",
    "In this chapter, we will learn how to write your own functions. A function   can be used as kind of a structuring element in programming languages to group a set of statements so you can reuse them. Decreasing code size by using functions make it more readable and easier to maintain. And of course it saves a lot of typing. In python a function call is a statement consisting of a function name followed by information between in parentheses. You have already used functions in the previous chapters"
   ]
  },
  {
   "cell_type": "markdown",
   "metadata": {
    "slideshow": {
     "slide_type": "slide"
    }
   },
   "source": [
    "A function consists of several parts: \n",
    "- **Name**: What you call the function by\n",
    "- **Parameters**: You can provide functions with variables.\n",
    "- **Docstring**: A docstring allows you to write a little documentation were you explain how the function works \n",
    "- **Body**: This is were the magic happens, as here is the place for the code itself\n",
    "- **Return values**: You usually create functions to do something that create a result. "
   ]
  },
  {
   "cell_type": "markdown",
   "metadata": {
    "slideshow": {
     "slide_type": "fragment"
    }
   },
   "source": [
    "<img src=\"images/function.png\" width=600 />"
   ]
  },
  {
   "cell_type": "markdown",
   "metadata": {
    "slideshow": {
     "slide_type": "slide"
    }
   },
   "source": [
    "Let´s start with a very simple function"
   ]
  },
  {
   "cell_type": "code",
   "execution_count": null,
   "metadata": {
    "slideshow": {
     "slide_type": "fragment"
    }
   },
   "outputs": [],
   "source": [
    "def my_function():\n",
    "    print(\"I love python!\")\n",
    "\n",
    "my_function()"
   ]
  },
  {
   "cell_type": "markdown",
   "metadata": {
    "slideshow": {
     "slide_type": "slide"
    }
   },
   "source": [
    "You can also create functions which receive arguments"
   ]
  },
  {
   "cell_type": "code",
   "execution_count": 28,
   "metadata": {
    "slideshow": {
     "slide_type": "fragment"
    }
   },
   "outputs": [
    {
     "data": {
      "text/plain": [
       "16"
      ]
     },
     "execution_count": 28,
     "metadata": {},
     "output_type": "execute_result"
    }
   ],
   "source": [
    "def function1(value):\n",
    "    return value**2\n",
    "\n",
    "function1(4)"
   ]
  },
  {
   "cell_type": "markdown",
   "metadata": {},
   "source": [
    "Or create functions inside functions"
   ]
  },
  {
   "cell_type": "code",
   "execution_count": 29,
   "metadata": {
    "slideshow": {
     "slide_type": "fragment"
    }
   },
   "outputs": [
    {
     "name": "stdout",
     "output_type": "stream",
     "text": [
      "Area: 576\n"
     ]
    }
   ],
   "source": [
    "def area(width, height, func):\n",
    "    print(\"Area: {0}\".format(func(width*height)))\n",
    "\n",
    "x = area(width = 4, height = 6, func=function1)"
   ]
  },
  {
   "cell_type": "markdown",
   "metadata": {
    "slideshow": {
     "slide_type": "slide"
    }
   },
   "source": [
    "If the function should return a result (not only print) you can use the 'return' statement. The return statement exits the function and can contain a expression which gets evaluated or a value is returned. If there is no expression or value the function returns the 'None' object "
   ]
  },
  {
   "cell_type": "code",
   "execution_count": null,
   "metadata": {
    "slideshow": {
     "slide_type": "fragment"
    }
   },
   "outputs": [],
   "source": [
    "def fahrenheit(T_in_celsius):\n",
    "    \"\"\" returns the temperature in degrees Fahrenheit \"\"\"\n",
    "    return (T_in_celsius * 9 / 5) + 32\n",
    "\n",
    "x = fahrenheit(35) \n",
    "x"
   ]
  },
  {
   "cell_type": "markdown",
   "metadata": {
    "slideshow": {
     "slide_type": "slide"
    }
   },
   "source": [
    "Now we can rewrite our simple calculator. But this time we define our functions in front."
   ]
  },
  {
   "cell_type": "code",
   "execution_count": null,
   "metadata": {
    "slideshow": {
     "slide_type": "fragment"
    }
   },
   "outputs": [],
   "source": [
    "def add(x,y):\n",
    "    return x+y\n",
    "\n",
    "def diff(x,y):\n",
    "    return x-y\n",
    "\n",
    "def multiply(x,y):\n",
    "    return x*y\n",
    "\n",
    "def divide(x,y):\n",
    "    return x/y\n",
    "\n",
    "print(\"1.Add\")\n",
    "print(\"2.Subtract\")\n",
    "print(\"3.Multiply\")\n",
    "print(\"4.Divide\")\n",
    "\n",
    "# Take input from the user \n",
    "choice = eval(input(\"Enter choice(1/2/3/4):\"))\n",
    "\n",
    "num1 = eval(input(\"Enter first number: \"))\n",
    "num2 = eval(input(\"Enter second number: \"))\n",
    "\n",
    "if choice == 1:\n",
    "    result = add(num1,num2)\n",
    "    print(\"{0} + {1} = {2}\".format(num1,num2,result))\n",
    "\n",
    "elif choice == 2:\n",
    "    result = diff(num1,num2)\n",
    "    print(\"{0} - {1} = {2}\".format(num1,num2,result))\n",
    "          \n",
    "elif choice == 3:\n",
    "    result = multiply(num1,num2)\n",
    "    print(\"{0} * {1} = {2}\".format(num1,num2,result))\n",
    "\n",
    "elif choice == 4:\n",
    "    result = divide(num1,num2)\n",
    "    print(\"{0} / {1} = {2}\".format(num1,num2,result))\n",
    "else:\n",
    "    print(\"Invalid input\") "
   ]
  },
  {
   "cell_type": "markdown",
   "metadata": {
    "slideshow": {
     "slide_type": "slide"
    }
   },
   "source": [
    "# Literature\n",
    "\n",
    "For this script I mainly used following sources:\n",
    "<br>[1] https://docs.python.org/3/\n",
    "<br>[2] https://www.tutorialspoint.com/python/python_lists.htm\n",
    "<br>[3] https://www.datacamp.com\n",
    "<br>[4] https://anh.cs.luc.edu/python/hands-on/3.1/handsonHtml/index.html\n",
    "<br>[5] Python - kurz und gut (2014) Mark Lutz"
   ]
  }
 ],
 "metadata": {
  "celltoolbar": "Slideshow",
  "kernelspec": {
   "display_name": "Python 3 (ipykernel)",
   "language": "python",
   "name": "python3"
  },
  "language_info": {
   "codemirror_mode": {
    "name": "ipython",
    "version": 3
   },
   "file_extension": ".py",
   "mimetype": "text/x-python",
   "name": "python",
   "nbconvert_exporter": "python",
   "pygments_lexer": "ipython3",
   "version": "3.9.7"
  },
  "livereveal": {
   "scroll": true
  },
  "rise": {
   "backimage": "images/header.png",
   "footer": "<h3>Spatial Python</h3>",
   "theme": "simple"
  },
  "toc": {
   "base_numbering": 1,
   "nav_menu": {},
   "number_sections": true,
   "sideBar": true,
   "skip_h1_title": false,
   "title_cell": "Table of Contents",
   "title_sidebar": "Contents",
   "toc_cell": false,
   "toc_position": {
    "height": "calc(100% - 180px)",
    "left": "10px",
    "top": "150px",
    "width": "165px"
   },
   "toc_section_display": true,
   "toc_window_display": true
  }
 },
 "nbformat": 4,
 "nbformat_minor": 4
}

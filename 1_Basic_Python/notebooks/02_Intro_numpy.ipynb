{
 "cells": [
  {
   "cell_type": "markdown",
   "metadata": {
    "slideshow": {
     "slide_type": "slide"
    }
   },
   "source": [
    "## Small introduction to Numpy"
   ]
  },
  {
   "cell_type": "markdown",
   "metadata": {
    "slideshow": {
     "slide_type": "slide"
    }
   },
   "source": [
    "## Fast, faster, NumPy\n",
    "\n",
    "<img src=\"images/numpy.png\"  width=200 align=right />\n",
    "\n",
    "Numpy allows us to run mathematical operations over calculations in a efficiant manner. \n",
    "Numpy provides several advantages for python user:\n",
    "\n",
    "- powerful n-dimensional arrays\n",
    "- advanced functions\n",
    "- can integrate C/C++ and Fortran code\n",
    "- efficient linear  algebra, random number generation and Fourier transformation \n"
   ]
  },
  {
   "cell_type": "markdown",
   "metadata": {
    "slideshow": {
     "slide_type": "slide"
    }
   },
   "source": [
    "### Vectorization\n",
    "\n",
    "When looping over an list or an array, there’s a lot of overhead involved. Vectorized operations in NumPy delegate the looping internally to highly optimized C and Fortran functions."
   ]
  },
  {
   "cell_type": "markdown",
   "metadata": {
    "slideshow": {
     "slide_type": "slide"
    }
   },
   "source": [
    "from IPython.core.interactiveshell import InteractiveShell\n",
    "InteractiveShell.ast_node_interactivity = \"all\"Let's test the speed of numpy and create an array consisting of True and False. Assume we want to count how many times we have a transition from True to False or the other way round. First we will use a classic Python loop"
   ]
  },
  {
   "cell_type": "code",
   "execution_count": 8,
   "metadata": {},
   "outputs": [],
   "source": [
    "from IPython.core.interactiveshell import InteractiveShell\n",
    "InteractiveShell.ast_node_interactivity = \"all\""
   ]
  },
  {
   "cell_type": "code",
   "execution_count": 1,
   "metadata": {
    "slideshow": {
     "slide_type": "subslide"
    }
   },
   "outputs": [],
   "source": [
    "import numpy as np\n",
    "\n",
    "np.random.seed(123)\n",
    "x = np.random.choice([False, True], size=100000)"
   ]
  },
  {
   "cell_type": "code",
   "execution_count": 2,
   "metadata": {
    "slideshow": {
     "slide_type": "slide"
    }
   },
   "outputs": [
    {
     "name": "stdout",
     "output_type": "stream",
     "text": [
      "6.13 ms ± 148 µs per loop (mean ± std. dev. of 7 runs, 100 loops each)\n"
     ]
    }
   ],
   "source": [
    "def transitions(x):\n",
    "    count = 0\n",
    "    for i, j in zip(x[:-1], x[1:]):\n",
    "        if j and not i:\n",
    "            count += 1\n",
    "    return count\n",
    "\n",
    "#transitions(x)\n",
    "%timeit transitions(x)"
   ]
  },
  {
   "cell_type": "markdown",
   "metadata": {
    "slideshow": {
     "slide_type": "slide"
    }
   },
   "source": [
    "Now can try the same with numpy"
   ]
  },
  {
   "cell_type": "code",
   "execution_count": 3,
   "metadata": {
    "slideshow": {
     "slide_type": "subslide"
    }
   },
   "outputs": [
    {
     "name": "stdout",
     "output_type": "stream",
     "text": [
      "98.5 µs ± 881 ns per loop (mean ± std. dev. of 7 runs, 10000 loops each)\n"
     ]
    }
   ],
   "source": [
    "%timeit np.count_nonzero(x[:-1] < x[1:])"
   ]
  },
  {
   "cell_type": "markdown",
   "metadata": {
    "slideshow": {
     "slide_type": "slide"
    }
   },
   "source": [
    "## Numpy arrays\n",
    "\n",
    "The core class is the numpy ndarray (n-dimensional array). We can initialize a numpy array from nested Python lists."
   ]
  },
  {
   "cell_type": "markdown",
   "metadata": {
    "slideshow": {
     "slide_type": "subslide"
    }
   },
   "source": [
    "#### Differences Between Python Lists and Numpy Arrays\n",
    "\n",
    "- All elements in a numpy arrays must be the same data type\n",
    "\n",
    "- Numpy arrays support arithmetic and other mathematical operations that run on each element of the array\n",
    "\n",
    "- Numpy arrays can store data along multiple dimensions. This makes numpy arrays a very efficient data structure for large datasets."
   ]
  },
  {
   "cell_type": "markdown",
   "metadata": {
    "slideshow": {
     "slide_type": "slide"
    }
   },
   "source": [
    "This first example below shows how to generate different numpy arrays. For numpy arrays, brackets ```[]``` are used to assign and identify the dimensions of the numpy arrays. First we want to create a 1-dimensional array."
   ]
  },
  {
   "cell_type": "code",
   "execution_count": 4,
   "metadata": {
    "slideshow": {
     "slide_type": "subslide"
    }
   },
   "outputs": [
    {
     "name": "stdout",
     "output_type": "stream",
     "text": [
      "[0.7  0.75 1.85 1.9  1.2  0.9 ]\n"
     ]
    }
   ],
   "source": [
    "avg_precip = np.array([0.70, 0.75, 1.85, 1.90, 1.20, 0.9])\n",
    "\n",
    "print(avg_precip)"
   ]
  },
  {
   "cell_type": "markdown",
   "metadata": {
    "slideshow": {
     "slide_type": "slide"
    }
   },
   "source": [
    "In order to create a 2-dimensional array, we need to specify two sets of brackets ```[]```, the outer set that defines the entire array structure and inner sets that define the rows of the individual arrays. "
   ]
  },
  {
   "cell_type": "code",
   "execution_count": 5,
   "metadata": {
    "slideshow": {
     "slide_type": "subslide"
    }
   },
   "outputs": [
    {
     "name": "stdout",
     "output_type": "stream",
     "text": [
      "[[-2.11 -2.34  1.4   4.22  9.34 12.65 14.26 14.33 11.19  6.03  2.33  0.12]\n",
      " [ 3.    4.    9.33 13.45 19.72 22.94 24.99 24.03 19.28 13.44  7.03  4.33]]\n"
     ]
    }
   ],
   "source": [
    "min_max_temp_monthly = np.array([\n",
    "    [-2.11, -2.34, 1.40, 4.22, 9.34, 12.65, 14.26, 14.33, 11.19, 6.03, 2.33, 0.12],\n",
    "    [3.00, 4.00, 9.33, 13.45, 19.72, 22.94, 24.99, 24.03, 19.28, 13.44, 7.03, 4.33]\n",
    "])\n",
    "\n",
    "print(min_max_temp_monthly)"
   ]
  },
  {
   "cell_type": "markdown",
   "metadata": {
    "slideshow": {
     "slide_type": "slide"
    }
   },
   "source": [
    "Of course we can create as many dimensions we want"
   ]
  },
  {
   "cell_type": "code",
   "execution_count": null,
   "metadata": {
    "slideshow": {
     "slide_type": "subslide"
    }
   },
   "outputs": [
    {
     "data": {
      "text/plain": [
       "array([[[ 1,  2,  3,  4],\n",
       "        [ 5,  6,  7,  8],\n",
       "        [ 9, 10, 11, 12],\n",
       "        [13, 14, 15, 16]],\n",
       "\n",
       "       [[17, 18, 19, 20],\n",
       "        [21, 22, 23, 24],\n",
       "        [25, 26, 27, 28],\n",
       "        [30, 31, 32, 33]]])"
      ]
     },
     "execution_count": 6,
     "metadata": {},
     "output_type": "execute_result"
    }
   ],
   "source": [
    "# 3-dimensional array\n",
    "multi_array = np.array([[[1,2,3,4], [5,6,7,8], [9,10,11,12],[13,14,15,16]],[[17,18,19,20], [21,22,23,24], [25,26,27,28],[30,31,32,33]]])\n",
    "multi_array"
   ]
  },
  {
   "cell_type": "markdown",
   "metadata": {
    "slideshow": {
     "slide_type": "slide"
    }
   },
   "source": [
    "Numpy also has some in-built functions to create certain types of numpy arrays."
   ]
  },
  {
   "cell_type": "code",
   "execution_count": 9,
   "metadata": {
    "slideshow": {
     "slide_type": "subslide"
    }
   },
   "outputs": [
    {
     "data": {
      "text/plain": [
       "array([[0., 0.],\n",
       "       [0., 0.]])"
      ]
     },
     "execution_count": 9,
     "metadata": {},
     "output_type": "execute_result"
    },
    {
     "data": {
      "text/plain": [
       "array([[1., 1.]])"
      ]
     },
     "execution_count": 9,
     "metadata": {},
     "output_type": "execute_result"
    },
    {
     "data": {
      "text/plain": [
       "array([[7, 7],\n",
       "       [7, 7]])"
      ]
     },
     "execution_count": 9,
     "metadata": {},
     "output_type": "execute_result"
    },
    {
     "data": {
      "text/plain": [
       "array([[1., 0.],\n",
       "       [0., 1.]])"
      ]
     },
     "execution_count": 9,
     "metadata": {},
     "output_type": "execute_result"
    },
    {
     "data": {
      "text/plain": [
       "array([[0.56571867, 0.39707456],\n",
       "       [0.52855537, 0.18090165]])"
      ]
     },
     "execution_count": 9,
     "metadata": {},
     "output_type": "execute_result"
    },
    {
     "data": {
      "text/plain": [
       "array([ 1.,  8., 15.])"
      ]
     },
     "execution_count": 9,
     "metadata": {},
     "output_type": "execute_result"
    },
    {
     "data": {
      "text/plain": [
       "array([3, 4, 5, 6, 7, 8, 9])"
      ]
     },
     "execution_count": 9,
     "metadata": {},
     "output_type": "execute_result"
    }
   ],
   "source": [
    "a = np.zeros((2,2))   # Create an array of all zeros\n",
    "a                     # Prints \"[[ 0.  0.]\n",
    "                      #          [ 0.  0.]]\"\n",
    "\n",
    "b = np.ones((1,2))    # Create an array of all ones\n",
    "b                    # Prints \"[[ 1.  1.]]\"\n",
    "\n",
    "c = np.full((2,2), 7)  # Create a constant array\n",
    "c                      # Prints \"[[ 7.  7.]\n",
    "                       #          [ 7.  7.]]\"\n",
    "\n",
    "d = np.eye(2)         # Create a 2x2 identity matrix\n",
    "d                     # Prints \"[[ 1.  0.]\n",
    "                      #          [ 0.  1.]]\"\n",
    "\n",
    "e = np.random.random((2,2))  # Create an array filled with random values\n",
    "e                            # Might print \"[[ 0.91940167  0.08143941]\n",
    "                             #               [ 0.68744134  0.87236687]]\"\n",
    "    \n",
    "f = np.linspace(1, 15, 3)   # The linspace() function returns numbers evenly spaced over a specified intervals.\n",
    "f                           # Say we want 3 evenly spaced points from 1 to 15, we can easily use this.\n",
    "                            # linspace() takes the third argument as the number of datapoints to be created\n",
    "    \n",
    "g= np.arange(3,10)           # Lists the natural numbers from 3 to 9, as the number in the second position is excluded\n",
    "g"
   ]
  },
  {
   "cell_type": "markdown",
   "metadata": {
    "slideshow": {
     "slide_type": "slide"
    }
   },
   "source": [
    "Lets import the data into numpy and see what are we dealing with. Therefore we can use the ```np.genfromtxt()``` function"
   ]
  },
  {
   "cell_type": "code",
   "execution_count": 11,
   "metadata": {
    "slideshow": {
     "slide_type": "subslide"
    },
    "tags": []
   },
   "outputs": [
    {
     "data": {
      "text/plain": [
       "array([[ 5.7050000e+03,  1.8810101e+07,  1.8810131e+07, ...,\n",
       "        -9.9900000e+02, -9.9900000e+02,            nan],\n",
       "       [ 5.7050000e+03,  1.8810201e+07,  1.8810228e+07, ...,\n",
       "        -9.9900000e+02, -9.9900000e+02,            nan],\n",
       "       [ 5.7050000e+03,  1.8810301e+07,  1.8810331e+07, ...,\n",
       "        -9.9900000e+02, -9.9900000e+02,            nan],\n",
       "       ...,\n",
       "       [ 5.7050000e+03,  2.0201001e+07,  2.0201031e+07, ...,\n",
       "         4.2800000e+01,  6.4000000e+00,            nan],\n",
       "       [ 5.7050000e+03,  2.0201101e+07,  2.0201130e+07, ...,\n",
       "         1.2800000e+01,  4.9000000e+00,            nan],\n",
       "       [ 5.7050000e+03,  2.0201201e+07,  2.0201231e+07, ...,\n",
       "         4.4800000e+01,  9.7000000e+00,            nan]])"
      ]
     },
     "execution_count": 11,
     "metadata": {},
     "output_type": "execute_result"
    }
   ],
   "source": [
    "station_data = np.genfromtxt('../data/monthly_climate_wuerzburg_18810101_20201231.txt', skip_header=1, delimiter = ';' )\n",
    "station_data"
   ]
  },
  {
   "cell_type": "markdown",
   "metadata": {
    "slideshow": {
     "slide_type": "slide"
    }
   },
   "source": [
    "We can now start to work with the data. First let us have look at our data"
   ]
  },
  {
   "cell_type": "code",
   "execution_count": 12,
   "metadata": {
    "slideshow": {
     "slide_type": "subslide"
    }
   },
   "outputs": [
    {
     "data": {
      "text/plain": [
       "numpy.ndarray"
      ]
     },
     "execution_count": 12,
     "metadata": {},
     "output_type": "execute_result"
    },
    {
     "data": {
      "text/plain": [
       "(1680, 17)"
      ]
     },
     "execution_count": 12,
     "metadata": {},
     "output_type": "execute_result"
    },
    {
     "data": {
      "text/plain": [
       "dtype('float64')"
      ]
     },
     "execution_count": 12,
     "metadata": {},
     "output_type": "execute_result"
    }
   ],
   "source": [
    "type(station_data)\n",
    "station_data.shape\n",
    "station_data.dtype"
   ]
  },
  {
   "cell_type": "markdown",
   "metadata": {
    "slideshow": {
     "slide_type": "slide"
    }
   },
   "source": [
    "Okay we can see that we now have created a numpy array with 1680 rows and 17 columns. The data are floating point values with 64-bit precision. "
   ]
  },
  {
   "cell_type": "markdown",
   "metadata": {
    "slideshow": {
     "slide_type": "subslide"
    }
   },
   "source": [
    "### Working with numpy data - Index and slicing"
   ]
  },
  {
   "cell_type": "markdown",
   "metadata": {
    "slideshow": {
     "slide_type": "slide"
    }
   },
   "source": [
    "<img src=\"images/anatomyarray.png\"  width=800 />"
   ]
  },
  {
   "cell_type": "markdown",
   "metadata": {
    "slideshow": {
     "slide_type": "slide"
    }
   },
   "source": [
    "Accessing single values in a 1-dimensional numpy array is straight forward. Always remember that indexing starts with 0."
   ]
  },
  {
   "cell_type": "code",
   "execution_count": 14,
   "metadata": {
    "slideshow": {
     "slide_type": "subslide"
    }
   },
   "outputs": [
    {
     "data": {
      "text/plain": [
       "0.7"
      ]
     },
     "execution_count": 14,
     "metadata": {},
     "output_type": "execute_result"
    },
    {
     "data": {
      "text/plain": [
       "1.9"
      ]
     },
     "execution_count": 14,
     "metadata": {},
     "output_type": "execute_result"
    }
   ],
   "source": [
    "avg_precip = np.array([0.70, 0.75, 1.85, 1.90, 1.20, 0.9])\n",
    "\n",
    "avg_precip[0] \n",
    "avg_precip[3]"
   ]
  },
  {
   "cell_type": "markdown",
   "metadata": {
    "slideshow": {
     "slide_type": "slide"
    }
   },
   "source": [
    "In case of our station data we are dealing with a 2-dimensional datset. So if we want to access one value we just need one index for each dimsension"
   ]
  },
  {
   "cell_type": "code",
   "execution_count": 16,
   "metadata": {
    "slideshow": {
     "slide_type": "subslide"
    }
   },
   "outputs": [
    {
     "data": {
      "text/plain": [
       "5705.0"
      ]
     },
     "execution_count": 16,
     "metadata": {},
     "output_type": "execute_result"
    }
   ],
   "source": [
    "station_data[0,0]"
   ]
  },
  {
   "cell_type": "markdown",
   "metadata": {
    "slideshow": {
     "slide_type": "slide"
    }
   },
   "source": [
    "Similar to Python lists, numpy arrays can be sliced"
   ]
  },
  {
   "cell_type": "code",
   "execution_count": 17,
   "metadata": {
    "slideshow": {
     "slide_type": "subslide"
    }
   },
   "outputs": [
    {
     "data": {
      "text/plain": [
       "array([5705., 5705., 5705., 5705., 5705.])"
      ]
     },
     "execution_count": 17,
     "metadata": {},
     "output_type": "execute_result"
    },
    {
     "data": {
      "text/plain": [
       "array([[5.7050000e+03, 1.8810101e+07],\n",
       "       [5.7050000e+03, 1.8810201e+07],\n",
       "       [5.7050000e+03, 1.8810301e+07],\n",
       "       [5.7050000e+03, 1.8810401e+07],\n",
       "       [5.7050000e+03, 1.8810501e+07]])"
      ]
     },
     "execution_count": 17,
     "metadata": {},
     "output_type": "execute_result"
    }
   ],
   "source": [
    "station_data[:5,0]\n",
    "station_data[:5,:2]"
   ]
  },
  {
   "cell_type": "markdown",
   "metadata": {
    "slideshow": {
     "slide_type": "slide"
    }
   },
   "source": [
    "Let's use this technique to slice our data up into different columns and creating new variables with the column data. The idea is to cut our 2D data into 3 separate columns that will be easier to work with. We will use following columns MESS_DATUM_BEGINN (start of measurement), MO_TN (Monthly mean of the air temperature minimum), MO_TX(Monthly mean of the air temperature maximum)"
   ]
  },
  {
   "cell_type": "code",
   "execution_count": 18,
   "metadata": {
    "slideshow": {
     "slide_type": "slide"
    }
   },
   "outputs": [],
   "source": [
    "date = station_data[:, 1]\n",
    "temp_max = station_data[:, 8]\n",
    "temp_min = station_data[:, 9]"
   ]
  },
  {
   "cell_type": "markdown",
   "metadata": {
    "slideshow": {
     "slide_type": "slide"
    }
   },
   "source": [
    "Now we can already start to do some basic calculations.Useful methods include mean(), min(), max(), and std()."
   ]
  },
  {
   "cell_type": "code",
   "execution_count": 19,
   "metadata": {
    "slideshow": {
     "slide_type": "subslide"
    }
   },
   "outputs": [
    {
     "data": {
      "text/plain": [
       "18810101.0"
      ]
     },
     "execution_count": 19,
     "metadata": {},
     "output_type": "execute_result"
    },
    {
     "data": {
      "text/plain": [
       "20201201.0"
      ]
     },
     "execution_count": 19,
     "metadata": {},
     "output_type": "execute_result"
    }
   ],
   "source": [
    "date.min()\n",
    "date.max()"
   ]
  },
  {
   "cell_type": "markdown",
   "metadata": {
    "slideshow": {
     "slide_type": "slide"
    }
   },
   "source": [
    "Okay we now know that we have measurements from January 1881 until December 2020. Let's calculate the mean monthly maximum\n"
   ]
  },
  {
   "cell_type": "code",
   "execution_count": 20,
   "metadata": {
    "slideshow": {
     "slide_type": "subslide"
    }
   },
   "outputs": [
    {
     "data": {
      "text/plain": [
       "-470.9963154761905"
      ]
     },
     "execution_count": 20,
     "metadata": {},
     "output_type": "execute_result"
    }
   ],
   "source": [
    "temp_max.mean()"
   ]
  },
  {
   "cell_type": "markdown",
   "metadata": {
    "slideshow": {
     "slide_type": "slide"
    }
   },
   "source": [
    "Ooops! This seems wrong. Let's have a look at our data again"
   ]
  },
  {
   "cell_type": "code",
   "execution_count": 21,
   "metadata": {
    "slideshow": {
     "slide_type": "subslide"
    }
   },
   "outputs": [
    {
     "data": {
      "text/plain": [
       "array([-999.  , -999.  , -999.  , ...,    2.52,    2.03,    2.35])"
      ]
     },
     "execution_count": 21,
     "metadata": {},
     "output_type": "execute_result"
    }
   ],
   "source": [
    "temp_max"
   ]
  },
  {
   "cell_type": "markdown",
   "metadata": {
    "slideshow": {
     "slide_type": "slide"
    }
   },
   "source": [
    "We can see that we have a lot of values with -999. These are no data values. In order to make correct calculations we first have to clean our dataset. First, we need to identify a useful test for identifying missing data. We could could convert the data to integer values everywhere and test for values being equal to -999, but there’s an even easier option. Since we know all of our data are dates or temperatures, we can simply look for numbers below -998 to identify missing data"
   ]
  },
  {
   "cell_type": "code",
   "execution_count": 22,
   "metadata": {
    "slideshow": {
     "slide_type": "slide"
    }
   },
   "outputs": [
    {
     "data": {
      "text/plain": [
       "array([[5.7050000e+03, 1.8810101e+07, 1.8810131e+07, ...,           nan,\n",
       "                  nan,           nan],\n",
       "       [5.7050000e+03, 1.8810201e+07, 1.8810228e+07, ...,           nan,\n",
       "                  nan,           nan],\n",
       "       [5.7050000e+03, 1.8810301e+07, 1.8810331e+07, ...,           nan,\n",
       "                  nan,           nan],\n",
       "       ...,\n",
       "       [5.7050000e+03, 2.0201001e+07, 2.0201031e+07, ..., 4.2800000e+01,\n",
       "        6.4000000e+00,           nan],\n",
       "       [5.7050000e+03, 2.0201101e+07, 2.0201130e+07, ..., 1.2800000e+01,\n",
       "        4.9000000e+00,           nan],\n",
       "       [5.7050000e+03, 2.0201201e+07, 2.0201231e+07, ..., 4.4800000e+01,\n",
       "        9.7000000e+00,           nan]])"
      ]
     },
     "execution_count": 22,
     "metadata": {},
     "output_type": "execute_result"
    }
   ],
   "source": [
    "data_mask = (station_data < -998)\n",
    "station_data[data_mask] = np.nan\n",
    "station_data"
   ]
  },
  {
   "cell_type": "code",
   "execution_count": 23,
   "metadata": {
    "slideshow": {
     "slide_type": "slide"
    }
   },
   "outputs": [
    {
     "data": {
      "text/plain": [
       "nan"
      ]
     },
     "execution_count": 23,
     "metadata": {},
     "output_type": "execute_result"
    }
   ],
   "source": [
    "date = station_data[:, 1]\n",
    "temp_max = station_data[:, 8]\n",
    "temp_min = station_data[:, 9]\n",
    "temp_max.mean()"
   ]
  },
  {
   "cell_type": "markdown",
   "metadata": {
    "slideshow": {
     "slide_type": "slide"
    }
   },
   "source": [
    "In the last example we can see that min() and the max() function returned nan. If we just want to get our min and max value we could use the nanmin()/nanmax() function in numpy"
   ]
  },
  {
   "cell_type": "code",
   "execution_count": 24,
   "metadata": {
    "slideshow": {
     "slide_type": "subslide"
    }
   },
   "outputs": [
    {
     "data": {
      "text/plain": [
       "0.46"
      ]
     },
     "execution_count": 24,
     "metadata": {},
     "output_type": "execute_result"
    },
    {
     "data": {
      "text/plain": [
       "3.62"
      ]
     },
     "execution_count": 24,
     "metadata": {},
     "output_type": "execute_result"
    }
   ],
   "source": [
    "np.nanmin(temp_max)\n",
    "np.nanmax(temp_max)"
   ]
  },
  {
   "cell_type": "markdown",
   "metadata": {
    "slideshow": {
     "slide_type": "slide"
    }
   },
   "source": [
    "But let's assume we want to get rid of the nan values. First of all we can count all missing values in our tavg array. To do this, we’ll need two new NumPy function, called np.count_nonzero() and np.isnan(). "
   ]
  },
  {
   "cell_type": "code",
   "execution_count": 25,
   "metadata": {
    "slideshow": {
     "slide_type": "subslide"
    }
   },
   "outputs": [
    {
     "name": "stdout",
     "output_type": "stream",
     "text": [
      "Number of missing dates: 795\n"
     ]
    }
   ],
   "source": [
    "print(\"Number of missing dates:\", np.count_nonzero(np.isnan(temp_min)))"
   ]
  },
  {
   "cell_type": "markdown",
   "metadata": {
    "slideshow": {
     "slide_type": "slide"
    }
   },
   "source": [
    "Now we now the number of nan values in the tavg array. Let's remove them"
   ]
  },
  {
   "cell_type": "code",
   "execution_count": 26,
   "metadata": {
    "slideshow": {
     "slide_type": "subslide"
    },
    "tags": []
   },
   "outputs": [
    {
     "data": {
      "text/plain": [
       "array([25.7, 30. , 36.3, 37.8, 35.3, 34.8, 25.2, 15.9, 10.4, 12.4, 12.1,\n",
       "       21.4, 27.1, 28. , 32.5, 32.8, 32.8, 29.1, 23.6, 14.6, 10.1,  9.6,\n",
       "       12.3, 23.6, 29.5, 27.6, 28.1, 33.6, 34.8, 34. , 22.8, 13.9, 12. ,\n",
       "        9.5, 13.6, 18.6, 21.6, 31.3, 33.9, 32.7, 33.7, 26. , 20. , 14.4,\n",
       "       11.6,  9.1, 11.5, 15.5, 25.3, 26. , 28.8, 32.8, 32.5, 32. , 19.6,\n",
       "       15. ,  8.5, 10.1,  7.8, 16. , 24.7, 27.2, 32.7, 37.6, 35.1, 20.6,\n",
       "       15.2, 11.4,  8.8, 10. , 12. , 21. , 23.6, 31.8, 27.5, 29.4, 32. ,\n",
       "       33. , 21. , 14.9, 13.2, 11.8,  8.2, 17. , 17.8, 28.5, 33.2, 26.1,\n",
       "       31.1, 28.5, 21.4, 14.2, 10.4, 10. , 10.5, 20.1, 28.4, 27.5, 27.6,\n",
       "       31.9, 27.6, 26.1, 19. , 16.8, 12. , 10.9,  4. , 20. , 19.5, 29.4,\n",
       "       25.7, 28.1, 26.8, 24.4, 25.4,  9. , 12.9, 11.2, 17.8, 19.9, 22.7,\n",
       "       23.7, 31.7, 36.7, 26.9, 28.4, 19.4, 14.8, 11.2, 10.2, 18.5, 15.9,\n",
       "       18.9, 27.5, 28.4, 29.1, 30.9, 28.6, 21.8, 11.2, 11.2, 13.7,  9.2,\n",
       "       18.4, 24.9, 26. , 29.4, 35.1, 30.3, 28.4, 23.4, 10.1, 11.4, 11. ,\n",
       "       17.4, 20. , 22.5, 26. , 29. , 29.9, 30.3, 24.3, 23.5, 15.3, 12.4,\n",
       "       10.3, 16.7, 21.6, 24. , 23.2, 29.7, 31.1, 29.1, 29.9, 22.3, 15.8,\n",
       "       16. , 10.9,  9. , 12.6, 27.6, 23.8, 28.8, 31. , 34.8, 30.5, 24.8,\n",
       "       18.6,  9.8,  3.3,  2.6, 13.6, 20.4, 26.1, 27.2, 32.7, 33.9, 27.2,\n",
       "       20.4, 17.8,  6.9,  3.2,  9.5, 13.9, 25. , 28.6, 31.8, 34.9, 34.4,\n",
       "       30.3, 21.9, 13.2, 11.8, 10.7,  5. , 17.8, 18.9, 25.8, 29.2, 31.3,\n",
       "       28. , 25. , 19.8, 15.6, 13.2, 11.8, 15.5, 12.5, 21.3, 27.8, 30.2,\n",
       "       28.7, 35.1, 28.6, 27. , 14.2, 11. , 12.3, 14.4, 14.4, 20.6, 27.2,\n",
       "       31.9, 33.4, 31.1, 26.8, 23.7, 12. , 11.1,  9.6, 10.2, 24.1, 28.9,\n",
       "       25.8, 27.3, 29.7, 26.8, 24.4, 21.2, 17.4,  7.6,  7.5, 10. , 13.5,\n",
       "       23.6, 30.6, 27.1, 33.4, 29.3, 26.5, 20.2, 16.2,  2.9,  5.6,  9.2,\n",
       "       12.3, 21.6, 24.7, 31.2, 29.3, 30.7, 29.7, 22.3, 17.6, 10. ,  9.2,\n",
       "        8.8, 15.9, 23.6, 28.7, 25.3, 35. , 35.4, 26.2, 21.3, 16.4, 12.3,\n",
       "        4. , 10.4, 19.7, 21.3, 25.1, 27.4, 31.8, 30.6, 25.2, 19.9, 14.1,\n",
       "       11.8,  7.2,  8.1, 19.6, 20.2, 26.9, 30.4, 31.6, 32. , 32.6, 21.3,\n",
       "       13.1,  9.9, 12.3, 15.3, 20.7, 21.8, 24. , 26.8, 28.2, 34.9, 27.8,\n",
       "       12.1, 15.4, 13.6, 11.9, 13.2, 15.1, 23.7, 26.6, 28.1, 32.1, 31.8,\n",
       "       28. , 18.8, 12.1,  7.4, 10. ,  8.2, 17.8, 23.1, 29.4, 33.3, 36.4,\n",
       "       29.8, 26.1, 25.3, 12.5, 12.4, 11.1, 11.6, 20.3, 21.1, 26.4, 31. ,\n",
       "       30.7, 28.5, 26.6, 25.4, 18. , 13.7,  7.5, 13.8, 19.9, 19.9, 25.7,\n",
       "       28.7, 30.4, 29.2, 25.5, 21.5, 12. , 11.4,  4.6,  9.8, 15.7, 20.6,\n",
       "       30.6, 31.6, 29.1, 29.2, 30.2, 22.3, 13.4, 15.1,  9. , 11.9, 17.4,\n",
       "       23.2, 24.6, 30.3, 28.4, 31.4, 26.8, 20.7, 15.7, 11.1,  8.3,  9.7,\n",
       "       19.5, 22.4, 28.1, 30.3, 29.3, 30.2, 26.5, 23.6, 14.8,  9.6, 10.8,\n",
       "        9.5, 18.6, 21.2, 27.9, 31. , 30.4, 29.6, 30.1, 18.9, 16.8, 12.2,\n",
       "       13.1, 10.8, 15.1, 21.8, 23.6, 28.1, 36.2, 30.5, 27.3, 26.1, 14.6,\n",
       "       13.7, 11.1,  9.1, 14.2, 23.5, 24.9, 28. , 37.5, 30.1, 26. , 20.8,\n",
       "       15.4,  7.3,  9.3, 10.7, 15.3, 23.8, 28.8, 27.2, 32. , 33.4, 27. ,\n",
       "       28.1, 15.2, 13.3, 10.3,  6.1, 15.5, 22.1, 26.5, 30.2, 30.6, 33.4,\n",
       "       23.7, 22.5, 16.1, 10.6, 10.6,  9. , 12.7, 24.7, 24.5, 30.5, 29. ,\n",
       "       30. , 28.7, 20.5, 12.8, 13.5, 12.7, 11.1, 13.5, 23. , 27.3, 28.2,\n",
       "       32.1, 30.9, 28. , 20.6, 11.2, 10.7,  9.2, 13.3, 23.8, 22.7, 26.8,\n",
       "       29.4, 31.5, 35. , 29.5, 24.8, 14.5, 15.1, 12.8, 18.7, 20.7, 20.6,\n",
       "       26.2, 29.2, 32.5, 35.2, 22. , 23.3, 12.5, 12.5, 15.5, 13.9, 17. ,\n",
       "       19.8, 24.8, 26.9, 32.7, 33.7, 29. , 19.8, 14. , 12. , 11.5, 14.3,\n",
       "       16.4, 25.6, 28.1, 28.3, 31.7, 35.4, 25.9, 18.3, 15. , 12.8, 13.7,\n",
       "        6.3, 17.7, 27.2, 30. , 29.7, 32.5, 31.6, 26.6, 21.2, 11.3, 12.3,\n",
       "       12. , 14.2, 19. , 25.5, 26.4, 32.4, 35.6, 36.1, 25.3, 21.3, 17.3,\n",
       "       12.6, 13. , 16.2, 16.8, 25. , 27.7, 29. , 34.7, 31.9, 24.8, 23.4,\n",
       "       11.1, 11.3,  4.5, 12.5, 13.4, 27.2, 29.8, 32. , 28.8, 29.3, 24.8,\n",
       "       20.6, 15.3, 11.1,  4.5, 14.1, 18.9, 19.2, 29.8, 31.6, 28.2, 32.2,\n",
       "       30.4, 24.8, 13.7, 13.2, 13.4, 18.6, 23. , 21.5, 29.3, 32.1, 35. ,\n",
       "       36.4, 26.2, 19.7, 11.3, 12.8, 15. , 12.7, 17.7, 22.1, 30.1, 31.2,\n",
       "       33.7, 30. , 30.6, 18.4, 17. , 11.8,  9.8, 17.6, 18.1, 27. , 28.6,\n",
       "       33.9, 29.3, 31.2, 26.5, 20.1, 14.7, 14.1, 10.9, 16. , 14.7, 23.2,\n",
       "       26.9, 30.6, 32.6, 34.9, 23.1, 26.3, 13. , 10.1, 13.6, 17. , 19.3,\n",
       "       20.1, 27.6, 34.2, 33.4, 30.9, 28.6, 19. , 15.2, 11.3, 11.7, 14.2,\n",
       "       19.8, 23.5, 31.9, 34. , 35.1, 37.7, 30.9, 23.5, 14.1, 11. , 10.6,\n",
       "       15.9, 21.9, 24.9, 24.2, 31.4, 30.3, 32. , 27.9, 26.1, 12.9,  8.1,\n",
       "       13.2, 10.8, 20.6, 24.1, 31.7, 33.1, 34.8, 30.1, 31.1, 22.4, 19.2,\n",
       "        8.1,  6.4, 10.5, 19. , 23. , 25.1, 32.1, 35.5, 27.1, 27.9, 22.5,\n",
       "       17.1, 14.7, 14.2, 11.9, 16.5, 27.2, 30.3, 29.7, 34.1, 29.7, 25. ,\n",
       "       21.9, 12.3, 11.7, 13.3, 17.5, 19.9, 23.1, 31.4, 31.6, 32.7, 33.4,\n",
       "       25. , 20. , 16.4,  9.1,  7.6, 11.4, 14.2, 24.9, 29.8, 29.2, 30.7,\n",
       "       34.8, 32.8, 25.7, 14.8,  9.9,  5.7, 15.7, 22.4, 26.4, 26.3, 31.2,\n",
       "       36.2, 30.2, 24.4, 20.7, 19.2,  5.3, 12.4, 11.1, 18.9, 26.3, 30.3,\n",
       "       31.1, 28.9, 34.3, 30.1, 26.7, 15.9, 13.7, 12.2, 12.7, 22.3, 32.1,\n",
       "       31.5, 31.5, 35.2, 35.9, 31.9, 20.8, 15.2, 15. , 13.5,  7.5, 17.2,\n",
       "       25. , 23.4, 35.1, 36.5, 35.3, 29.1, 23. , 16.1, 12.6, 13.4, 13.7,\n",
       "       20.8, 24.2, 28.6, 35. , 32.8, 29.7, 25.5, 24.5, 18.8, 13. , 14.6,\n",
       "       12. , 19.7, 24.6, 29. , 32.4, 38.6, 39.4, 26.7, 21.5, 18. , 13.7,\n",
       "       14.4, 12.2, 15.9, 20. , 28.4, 32.6, 33.7, 34.6, 32.4, 18.8, 13.8,\n",
       "       10. ,  5.6, 14.9, 23.9, 23.8, 32. , 33.7, 33.9, 31.1, 23.6, 23.2,\n",
       "       15.4, 12.8, 11.9,  6.3, 17.7, 27.5, 30.5, 30.7, 36.6, 35.2, 31.5,\n",
       "       26.1, 17. , 12.4,  8.2, 18.4, 19.8, 26.4, 24.2, 36. , 38.6, 33.4,\n",
       "       28.2, 26.9, 16. , 13.5, 13.6, 16.6, 18.3, 24.9, 25.7, 28.8, 33.9,\n",
       "       36.3, 30.4, 20.6, 21.5, 12.9])"
      ]
     },
     "execution_count": 26,
     "metadata": {},
     "output_type": "execute_result"
    }
   ],
   "source": [
    "clean_data = ~np.isnan(temp_min)\n",
    "temp_min_clean = temp_min[clean_data ]\n",
    "temp_min_clean"
   ]
  },
  {
   "cell_type": "markdown",
   "metadata": {
    "slideshow": {
     "slide_type": "slide"
    }
   },
   "source": [
    "And of course we can use the same mask to clean also the other arrays"
   ]
  },
  {
   "cell_type": "code",
   "execution_count": 27,
   "metadata": {
    "slideshow": {
     "slide_type": "subslide"
    },
    "tags": []
   },
   "outputs": [
    {
     "data": {
      "text/plain": [
       "array([1.82, 0.86, 1.03, 1.19, 1.16, 1.14, 0.46, 1.6 , 1.51, 1.7 , 1.36,\n",
       "       0.94, 1.57, 1.05, 1.19, 1.41, 1.29, 0.95, 1.25, 0.88, 0.96, 1.78,\n",
       "       1.21, 1.42, 1.55, 1.36, 1.17, 1.04, 1.07, 0.62, 0.78, 1.22, 1.74,\n",
       "       1.08, 1.76, 0.93, 2.07, 1.11, 0.9 , 2.06, 1.73, 2.5 , 1.69, 2.73,\n",
       "       1.87, 2.35, 1.87, 2.74, 2.37, 1.96, 1.84, 1.67, 1.67, 1.39, 1.35,\n",
       "       2.59, 1.83, 2.95, 2.22, 2.09, 1.51, 2.55, 2.36, 2.16, 1.48, 1.9 ,\n",
       "       1.84, 1.81, 1.6 , 1.35, 1.66, 1.3 , 1.52, 1.9 , 1.4 , 1.64, 2.12,\n",
       "       2.31, 1.28, 1.7 , 2.  , 3.28, 2.34, 2.34, 2.75, 2.3 , 2.14, 3.17,\n",
       "       2.03, 2.72, 2.28, 2.17, 3.27, 2.55, 2.97, 2.86, 2.88, 2.96, 2.31,\n",
       "       2.38, 1.63, 2.  , 2.01, 2.03, 3.09, 3.24, 2.01, 2.86, 2.67, 2.29,\n",
       "       2.82, 2.43, 2.53, 1.73, 2.06, 2.66, 2.53, 2.21, 2.76, 2.3 , 2.02,\n",
       "       2.19, 1.8 , 2.17, 2.26, 2.28, 1.27, 2.16, 2.15, 2.9 , 3.21, 2.03,\n",
       "       2.68, 2.19, 2.07, 2.17, 2.02, 1.94, 1.98, 1.89, 2.43, 2.91, 1.63,\n",
       "       1.54, 2.31, 2.15, 2.25, 2.13, 1.98, 1.47, 1.81, 1.7 , 2.65, 2.54,\n",
       "       2.25, 2.33, 2.32, 1.7 , 2.08, 2.68, 2.3 , 1.84, 2.78, 3.02, 2.12,\n",
       "       2.08, 2.63, 3.07, 2.07, 2.41, 2.01, 2.37, 2.35, 1.56, 1.94, 2.24,\n",
       "       2.63, 3.03, 2.98, 2.1 , 3.16, 2.78, 2.04, 2.23, 2.29, 2.13, 1.44,\n",
       "       2.03, 2.16, 2.12, 1.24, 1.94, 1.84, 2.56, 2.5 , 1.66, 2.45, 1.9 ,\n",
       "       1.83, 2.53, 1.71, 1.43, 2.84, 2.22, 2.39, 1.79, 2.01, 1.87, 1.96,\n",
       "       2.15, 2.21, 2.64, 2.27, 2.41, 2.72, 2.17, 2.44, 2.43, 2.3 , 2.83,\n",
       "       1.83, 2.  , 1.59, 2.89, 3.44, 2.34, 2.56, 3.09, 2.16, 2.12, 2.29,\n",
       "       2.08, 2.12, 1.88, 1.9 , 2.39, 3.39, 2.41, 2.96, 3.37, 2.38, 2.39,\n",
       "       2.  , 1.58, 1.71, 1.84, 2.4 , 1.93, 2.76, 2.71, 1.78, 2.75, 1.95,\n",
       "       2.02, 2.19, 2.17, 1.81, 2.02, 1.77, 1.78, 2.2 , 2.24, 2.02, 2.45,\n",
       "       2.89, 2.16, 2.21, 1.92, 1.95, 1.39, 1.4 , 2.99, 1.61, 1.79, 2.84,\n",
       "       2.59, 2.78, 2.3 , 1.88, 2.17, 1.46, 2.03, 2.52, 2.56, 1.99, 1.87,\n",
       "       2.36, 2.21, 1.83, 1.78, 2.13, 1.49, 1.76, 1.33, 1.68, 2.02, 1.81,\n",
       "       1.72, 1.69, 2.04, 2.51, 2.14, 1.75, 1.61, 1.81, 1.67, 1.72, 2.14,\n",
       "       2.06, 1.69, 2.41, 1.9 , 2.48, 2.16, 1.96, 1.96, 1.63, 1.75, 2.07,\n",
       "       2.49, 2.45, 2.3 , 2.47, 2.16, 2.12, 1.87, 1.98, 2.27, 1.8 , 2.3 ,\n",
       "       2.28, 2.44, 3.27, 2.48, 1.9 , 2.28, 2.28, 2.03, 2.  , 1.75, 1.99,\n",
       "       1.78, 1.91, 2.21, 1.88, 3.05, 1.92, 2.27, 2.23, 2.22, 1.95, 2.03,\n",
       "       1.86, 1.74, 1.75, 2.07, 2.15, 2.34, 2.24, 2.08, 2.44, 2.18, 1.63,\n",
       "       1.86, 1.55, 1.69, 1.65, 3.04, 2.28, 2.34, 1.94, 2.69, 1.86, 1.96,\n",
       "       2.  , 1.95, 1.84, 2.15, 1.49, 1.86, 2.5 , 1.98, 1.88, 2.65, 2.42,\n",
       "       2.05, 1.89, 1.79, 1.87, 1.65, 1.71, 1.92, 2.68, 2.04, 2.12, 2.25,\n",
       "       2.23, 2.09, 1.99, 2.07, 1.79, 1.66, 2.02, 2.25, 2.16, 2.11, 1.95,\n",
       "       2.28, 2.25, 1.85, 2.07, 1.98, 1.65, 1.64, 2.45, 2.75, 2.33, 1.68,\n",
       "       1.69, 2.74, 2.53, 1.8 , 2.05, 1.79, 1.88, 1.33, 2.13, 2.27, 2.44,\n",
       "       3.33, 2.5 , 2.39, 2.29, 2.07, 1.72, 1.42, 1.84, 2.31, 2.39, 1.97,\n",
       "       1.92, 3.24, 2.57, 2.1 , 1.95, 2.06, 1.97, 2.05, 1.49, 2.37, 1.91,\n",
       "       2.32, 1.57, 1.88, 1.71, 1.99, 2.69, 2.23, 2.45, 1.86, 1.75, 1.84,\n",
       "       1.51, 2.42, 2.26, 3.16, 2.52, 2.58, 2.38, 1.79, 2.27, 1.65, 1.68,\n",
       "       1.74, 1.94, 2.01, 2.85, 2.2 , 1.98, 2.74, 2.14, 2.03, 1.97, 1.97,\n",
       "       1.83, 1.79, 2.21, 2.16, 2.3 , 2.62, 2.94, 2.75, 2.08, 2.41, 1.72,\n",
       "       2.16, 1.73, 2.23, 1.95, 2.  , 2.31, 1.83, 2.49, 2.37, 2.09, 1.99,\n",
       "       1.99, 2.02, 1.72, 1.73, 1.94, 1.87, 2.16, 2.49, 2.93, 2.46, 2.24,\n",
       "       1.78, 1.8 , 1.93, 1.77, 1.98, 1.96, 2.42, 2.34, 2.65, 2.  , 1.99,\n",
       "       2.18, 1.75, 2.41, 1.99, 1.65, 1.64, 1.95, 2.44, 2.21, 2.09, 1.91,\n",
       "       2.48, 2.57, 2.41, 1.53, 1.68, 1.72, 1.69, 2.32, 2.72, 2.25, 3.22,\n",
       "       2.  , 2.28, 2.51, 2.01, 2.03, 2.45, 1.98, 2.2 , 2.11, 2.38, 3.45,\n",
       "       2.97, 2.14, 3.3 , 2.32, 2.18, 2.34, 1.6 , 1.86, 2.3 , 2.23, 1.93,\n",
       "       2.73, 2.96, 2.98, 2.99, 2.64, 2.03, 1.91, 1.75, 1.95, 2.28, 1.45,\n",
       "       2.17, 2.44, 2.65, 2.22, 2.34, 1.76, 2.19, 1.91, 2.12, 1.92, 2.05,\n",
       "       2.12, 2.55, 2.26, 1.66, 2.9 , 2.2 , 2.23, 2.33, 2.38, 1.67, 1.69,\n",
       "       1.65, 2.27, 2.12, 2.41, 2.68, 2.06, 2.89, 2.47, 2.2 , 2.01, 2.37,\n",
       "       1.95, 2.21, 2.77, 2.28, 2.57, 2.61, 2.85, 2.35, 2.47, 2.22, 2.17,\n",
       "       2.16, 1.97, 2.11, 2.36, 2.18, 3.21, 2.64, 2.96, 2.99, 2.27, 2.15,\n",
       "       2.01, 2.28, 1.58, 1.9 , 2.15, 2.4 , 2.58, 2.36, 2.51, 2.56, 2.57,\n",
       "       2.39, 2.17, 2.39, 2.16, 2.6 , 1.94, 2.07, 2.74, 2.58, 3.61, 2.58,\n",
       "       2.73, 2.23, 2.27, 2.23, 1.81, 1.87, 2.65, 2.27, 2.52, 2.61, 2.39,\n",
       "       2.26, 2.53, 2.52, 2.07, 2.19, 2.03, 2.03, 2.45, 2.13, 2.58, 2.77,\n",
       "       2.83, 2.45, 2.3 , 2.13, 2.2 , 2.23, 2.52, 2.47, 2.29, 2.47, 2.29,\n",
       "       2.81, 2.43, 2.26, 2.2 , 2.29, 2.1 , 2.35, 2.13, 1.88, 2.16, 1.97,\n",
       "       2.42, 2.48, 2.43, 2.77, 2.27, 2.84, 2.  , 2.  , 2.16, 1.63, 2.  ,\n",
       "       2.33, 2.39, 3.48, 2.43, 2.65, 2.17, 2.65, 2.5 , 2.45, 1.84, 2.2 ,\n",
       "       1.84, 2.47, 2.55, 2.68, 2.38, 3.06, 2.3 , 2.32, 2.1 , 2.39, 2.42,\n",
       "       2.2 , 2.03, 2.27, 2.32, 1.81, 2.25, 2.68, 2.23, 2.35, 2.17, 2.29,\n",
       "       1.94, 2.07, 2.26, 2.57, 2.39, 2.39, 2.64, 2.9 , 2.43, 2.39, 2.23,\n",
       "       2.06, 2.45, 2.17, 2.39, 2.73, 2.23, 2.32, 2.46, 2.42, 2.4 , 2.35,\n",
       "       2.43, 2.45, 2.29, 2.23, 2.32, 1.87, 3.29, 3.03, 2.55, 2.26, 2.53,\n",
       "       2.42, 2.37, 2.58, 2.13, 2.07, 2.29, 2.2 , 2.74, 2.52, 2.43, 2.65,\n",
       "       2.57, 2.58, 2.3 , 2.23, 1.84, 2.33, 2.29, 2.5 , 2.42, 2.26, 2.64,\n",
       "       2.26, 2.2 , 2.45, 2.03, 2.13, 2.42, 1.87, 1.94, 2.  , 2.81, 2.94,\n",
       "       2.5 , 2.65, 2.33, 2.39, 2.33, 2.45, 2.23, 2.33, 1.87, 2.77, 2.26,\n",
       "       2.68, 3.03, 2.52, 2.47, 2.42, 2.2 , 2.16, 2.06, 1.93, 1.94, 2.27,\n",
       "       2.  , 2.35, 2.71, 2.9 , 2.17, 2.03, 2.37, 2.45, 2.13, 2.23, 2.48,\n",
       "       2.57, 2.81, 3.16, 2.46, 2.61, 2.5 , 2.32, 2.13, 1.97, 2.19, 2.  ,\n",
       "       2.16, 2.33, 2.81, 2.9 , 2.04,  nan, 2.63, 2.19, 2.2 , 2.06, 2.06,\n",
       "        nan, 2.55, 2.33, 2.35, 2.35, 3.62, 3.13, 2.3 , 2.35, 2.3 , 2.26,\n",
       "       2.29, 1.87, 2.52, 2.03, 2.35])"
      ]
     },
     "execution_count": 27,
     "metadata": {},
     "output_type": "execute_result"
    }
   ],
   "source": [
    "clean_date = date[clean_data] \n",
    "temp_max_clean = temp_max[clean_data] \n",
    "temp_max_clean"
   ]
  },
  {
   "cell_type": "markdown",
   "metadata": {
    "slideshow": {
     "slide_type": "slide"
    }
   },
   "source": [
    "Of course we can use always matplotlib to visualize our data"
   ]
  },
  {
   "cell_type": "code",
   "execution_count": 28,
   "metadata": {
    "slideshow": {
     "slide_type": "subslide"
    }
   },
   "outputs": [
    {
     "data": {
      "text/plain": [
       "[<matplotlib.lines.Line2D at 0x7fae10391fa0>]"
      ]
     },
     "execution_count": 28,
     "metadata": {},
     "output_type": "execute_result"
    },
    {
     "data": {
      "image/png": "[encoded data removed]",
      "text/plain": [
       "<Figure size 432x288 with 1 Axes>"
      ]
     },
     "metadata": {
      "needs_background": "light"
     },
     "output_type": "display_data"
    }
   ],
   "source": [
    "import matplotlib.pylab as plt\n",
    "plt.plot(temp_max_clean)"
   ]
  },
  {
   "cell_type": "markdown",
   "metadata": {
    "slideshow": {
     "slide_type": "slide"
    }
   },
   "source": [
    "OK, now let’s use a range of dates to find the average maximum temperature for one year. In this case, let’s go for 2010."
   ]
  },
  {
   "cell_type": "code",
   "execution_count": 29,
   "metadata": {
    "slideshow": {
     "slide_type": "subslide"
    }
   },
   "outputs": [
    {
     "data": {
      "text/plain": [
       "21.974999999999998"
      ]
     },
     "execution_count": 29,
     "metadata": {},
     "output_type": "execute_result"
    }
   ],
   "source": [
    "temp_min_2010 = temp_min_clean[(clean_date >= 20100101) & (clean_date <= 20101231)]\n",
    "temp_min_2010.mean()"
   ]
  },
  {
   "cell_type": "markdown",
   "metadata": {
    "slideshow": {
     "slide_type": "slide"
    }
   },
   "source": [
    "Next we want to calculate average monthly temperatures. Therefor we first need to convert our dates to strings"
   ]
  },
  {
   "cell_type": "code",
   "execution_count": 30,
   "metadata": {
    "slideshow": {
     "slide_type": "subslide"
    },
    "tags": []
   },
   "outputs": [
    {
     "data": {
      "text/plain": [
       "array(['19470401', '19470501', '19470601', '19470701', '19470801',\n",
       "       '19470901', '19471001', '19471101', '19471201', '19480101',\n",
       "       '19480201', '19480301', '19480401', '19480501', '19480601',\n",
       "       '19480701', '19480801', '19480901', '19481001', '19481101',\n",
       "       '19481201', '19490101', '19490201', '19490301', '19490401',\n",
       "       '19490501', '19490601', '19490701', '19490801', '19490901',\n",
       "       '19491001', '19491101', '19491201', '19500101', '19500201',\n",
       "       '19500301', '19500401', '19500501', '19500601', '19500701',\n",
       "       '19500801', '19500901', '19501001', '19501101', '19501201',\n",
       "       '19510101', '19510201', '19510301', '19510401', '19510501',\n",
       "       '19510601', '19510701', '19510801', '19510901', '19511001',\n",
       "       '19511101', '19511201', '19520101', '19520201', '19520301',\n",
       "       '19520401', '19520501', '19520601', '19520701', '19520801',\n",
       "       '19520901', '19521001', '19521101', '19521201', '19530101',\n",
       "       '19530201', '19530301', '19530401', '19530501', '19530601',\n",
       "       '19530701', '19530801', '19530901', '19531001', '19531101',\n",
       "       '19531201', '19540101', '19540201', '19540301', '19540401',\n",
       "       '19540501', '19540601', '19540701', '19540801', '19540901',\n",
       "       '19541001', '19541101', '19541201', '19550101', '19550201',\n",
       "       '19550301', '19550401', '19550501', '19550601', '19550701',\n",
       "       '19550801', '19550901', '19551001', '19551101', '19551201',\n",
       "       '19560101', '19560201', '19560301', '19560401', '19560501',\n",
       "       '19560601', '19560701', '19560801', '19560901', '19561001',\n",
       "       '19561101', '19561201', '19570101', '19570201', '19570301',\n",
       "       '19570401', '19570501', '19570601', '19570701', '19570801',\n",
       "       '19570901', '19571001', '19571101', '19571201', '19580101',\n",
       "       '19580201', '19580301', '19580401', '19580501', '19580601',\n",
       "       '19580701', '19580801', '19580901', '19581001', '19581101',\n",
       "       '19581201', '19590101', '19590201', '19590301', '19590401',\n",
       "       '19590501', '19590601', '19590701', '19590801', '19590901',\n",
       "       '19591001', '19591101', '19591201', '19600101', '19600201',\n",
       "       '19600301', '19600401', '19600501', '19600601', '19600701',\n",
       "       '19600801', '19600901', '19601001', '19601101', '19601201',\n",
       "       '19610101', '19610201', '19610301', '19610401', '19610501',\n",
       "       '19610601', '19610701', '19610801', '19610901', '19611001',\n",
       "       '19611101', '19611201', '19620101', '19620201', '19620301',\n",
       "       '19620401', '19620501', '19620601', '19620701', '19620801',\n",
       "       '19620901', '19621001', '19621101', '19621201', '19630101',\n",
       "       '19630201', '19630301', '19630401', '19630501', '19630601',\n",
       "       '19630701', '19630801', '19630901', '19631001', '19631101',\n",
       "       '19631201', '19640101', '19640201', '19640301', '19640401',\n",
       "       '19640501', '19640601', '19640701', '19640801', '19640901',\n",
       "       '19641001', '19641101', '19641201', '19650101', '19650201',\n",
       "       '19650301', '19650401', '19650501', '19650601', '19650701',\n",
       "       '19650801', '19650901', '19651001', '19651101', '19651201',\n",
       "       '19660101', '19660201', '19660301', '19660401', '19660501',\n",
       "       '19660601', '19660701', '19660801', '19660901', '19661001',\n",
       "       '19661101', '19661201', '19670101', '19670201', '19670301',\n",
       "       '19670401', '19670501', '19670601', '19670701', '19670801',\n",
       "       '19670901', '19671001', '19671101', '19671201', '19680101',\n",
       "       '19680201', '19680301', '19680401', '19680501', '19680601',\n",
       "       '19680701', '19680801', '19680901', '19681001', '19681101',\n",
       "       '19681201', '19690101', '19690201', '19690301', '19690401',\n",
       "       '19690501', '19690601', '19690701', '19690801', '19690901',\n",
       "       '19691001', '19691101', '19691201', '19700101', '19700201',\n",
       "       '19700301', '19700401', '19700501', '19700601', '19700701',\n",
       "       '19700801', '19700901', '19701001', '19701101', '19701201',\n",
       "       '19710101', '19710201', '19710301', '19710401', '19710501',\n",
       "       '19710601', '19710701', '19710801', '19710901', '19711001',\n",
       "       '19711101', '19711201', '19720101', '19720201', '19720301',\n",
       "       '19720401', '19720501', '19720601', '19720701', '19720801',\n",
       "       '19720901', '19721001', '19721101', '19721201', '19730101',\n",
       "       '19730201', '19730301', '19730401', '19730501', '19730601',\n",
       "       '19730701', '19730801', '19730901', '19731001', '19731101',\n",
       "       '19731201', '19740101', '19740201', '19740301', '19740401',\n",
       "       '19740501', '19740601', '19740701', '19740801', '19740901',\n",
       "       '19741001', '19741101', '19741201', '19750101', '19750201',\n",
       "       '19750301', '19750401', '19750501', '19750601', '19750701',\n",
       "       '19750801', '19750901', '19751001', '19751101', '19751201',\n",
       "       '19760101', '19760201', '19760301', '19760401', '19760501',\n",
       "       '19760601', '19760701', '19760801', '19760901', '19761001',\n",
       "       '19761101', '19761201', '19770101', '19770201', '19770301',\n",
       "       '19770401', '19770501', '19770601', '19770701', '19770801',\n",
       "       '19770901', '19771001', '19771101', '19771201', '19780101',\n",
       "       '19780201', '19780301', '19780401', '19780501', '19780601',\n",
       "       '19780701', '19780801', '19780901', '19781001', '19781101',\n",
       "       '19781201', '19790101', '19790201', '19790301', '19790401',\n",
       "       '19790501', '19790601', '19790701', '19790801', '19790901',\n",
       "       '19791001', '19791101', '19791201', '19800101', '19800201',\n",
       "       '19800301', '19800401', '19800501', '19800601', '19800701',\n",
       "       '19800801', '19800901', '19801001', '19801101', '19801201',\n",
       "       '19810101', '19810201', '19810301', '19810401', '19810501',\n",
       "       '19810601', '19810701', '19810801', '19810901', '19811001',\n",
       "       '19811101', '19811201', '19820101', '19820201', '19820301',\n",
       "       '19820401', '19820501', '19820601', '19820701', '19820801',\n",
       "       '19820901', '19821001', '19821101', '19821201', '19830101',\n",
       "       '19830201', '19830301', '19830401', '19830501', '19830601',\n",
       "       '19830701', '19830801', '19830901', '19831001', '19831101',\n",
       "       '19831201', '19840101', '19840201', '19840301', '19840401',\n",
       "       '19840501', '19840601', '19840701', '19840801', '19840901',\n",
       "       '19841001', '19841101', '19841201', '19850101', '19850201',\n",
       "       '19850301', '19850401', '19850501', '19850601', '19850701',\n",
       "       '19850801', '19850901', '19851001', '19851101', '19851201',\n",
       "       '19860101', '19860201', '19860301', '19860401', '19860501',\n",
       "       '19860601', '19860701', '19860801', '19860901', '19861001',\n",
       "       '19861101', '19861201', '19870101', '19870201', '19870301',\n",
       "       '19870401', '19870501', '19870601', '19870701', '19870801',\n",
       "       '19870901', '19871001', '19871101', '19871201', '19880101',\n",
       "       '19880201', '19880301', '19880401', '19880501', '19880601',\n",
       "       '19880701', '19880801', '19880901', '19881001', '19881101',\n",
       "       '19881201', '19890101', '19890201', '19890301', '19890401',\n",
       "       '19890501', '19890601', '19890701', '19890801', '19890901',\n",
       "       '19891001', '19891101', '19891201', '19900101', '19900201',\n",
       "       '19900301', '19900401', '19900501', '19900601', '19900701',\n",
       "       '19900801', '19900901', '19901001', '19901101', '19901201',\n",
       "       '19910101', '19910201', '19910301', '19910401', '19910501',\n",
       "       '19910601', '19910701', '19910801', '19910901', '19911001',\n",
       "       '19911101', '19911201', '19920101', '19920201', '19920301',\n",
       "       '19920401', '19920501', '19920601', '19920701', '19920801',\n",
       "       '19920901', '19921001', '19921101', '19921201', '19930101',\n",
       "       '19930201', '19930301', '19930401', '19930501', '19930601',\n",
       "       '19930701', '19930801', '19930901', '19931001', '19931101',\n",
       "       '19931201', '19940101', '19940201', '19940301', '19940401',\n",
       "       '19940501', '19940601', '19940701', '19940801', '19940901',\n",
       "       '19941001', '19941101', '19941201', '19950101', '19950201',\n",
       "       '19950301', '19950401', '19950501', '19950601', '19950701',\n",
       "       '19950801', '19950901', '19951001', '19951101', '19951201',\n",
       "       '19960101', '19960201', '19960301', '19960401', '19960501',\n",
       "       '19960601', '19960701', '19960801', '19960901', '19961001',\n",
       "       '19961101', '19961201', '19970101', '19970201', '19970301',\n",
       "       '19970401', '19970501', '19970601', '19970701', '19970801',\n",
       "       '19970901', '19971001', '19971101', '19971201', '19980101',\n",
       "       '19980201', '19980301', '19980401', '19980501', '19980601',\n",
       "       '19980701', '19980801', '19980901', '19981001', '19981101',\n",
       "       '19981201', '19990101', '19990201', '19990301', '19990401',\n",
       "       '19990501', '19990601', '19990701', '19990801', '19990901',\n",
       "       '19991001', '19991101', '19991201', '20000101', '20000201',\n",
       "       '20000301', '20000401', '20000501', '20000601', '20000701',\n",
       "       '20000801', '20000901', '20001001', '20001101', '20001201',\n",
       "       '20010101', '20010201', '20010301', '20010401', '20010501',\n",
       "       '20010601', '20010701', '20010801', '20010901', '20011001',\n",
       "       '20011101', '20011201', '20020101', '20020201', '20020301',\n",
       "       '20020401', '20020501', '20020601', '20020701', '20020801',\n",
       "       '20020901', '20021001', '20021101', '20021201', '20030101',\n",
       "       '20030201', '20030301', '20030401', '20030501', '20030601',\n",
       "       '20030701', '20030801', '20030901', '20031001', '20031101',\n",
       "       '20031201', '20040101', '20040201', '20040301', '20040401',\n",
       "       '20040501', '20040601', '20040701', '20040801', '20040901',\n",
       "       '20041001', '20041101', '20041201', '20050101', '20050201',\n",
       "       '20050301', '20050401', '20050501', '20050601', '20050701',\n",
       "       '20050801', '20050901', '20051001', '20051101', '20051201',\n",
       "       '20060101', '20060201', '20060301', '20060401', '20060501',\n",
       "       '20060601', '20060701', '20060801', '20060901', '20061001',\n",
       "       '20061101', '20061201', '20070101', '20070201', '20070301',\n",
       "       '20070401', '20070501', '20070601', '20070701', '20070801',\n",
       "       '20070901', '20071001', '20071101', '20071201', '20080101',\n",
       "       '20080201', '20080301', '20080401', '20080501', '20080601',\n",
       "       '20080701', '20080801', '20080901', '20081001', '20081101',\n",
       "       '20081201', '20090101', '20090201', '20090301', '20090401',\n",
       "       '20090501', '20090601', '20090701', '20090801', '20090901',\n",
       "       '20091001', '20091101', '20091201', '20100101', '20100201',\n",
       "       '20100301', '20100401', '20100501', '20100601', '20100701',\n",
       "       '20100801', '20100901', '20101001', '20101101', '20101201',\n",
       "       '20110101', '20110201', '20110301', '20110401', '20110501',\n",
       "       '20110601', '20110701', '20110801', '20110901', '20111001',\n",
       "       '20111101', '20111201', '20120101', '20120201', '20120301',\n",
       "       '20120401', '20120501', '20120601', '20120701', '20120801',\n",
       "       '20120901', '20121001', '20121101', '20121201', '20130101',\n",
       "       '20130201', '20130301', '20130401', '20130501', '20130601',\n",
       "       '20130701', '20130801', '20130901', '20131001', '20131101',\n",
       "       '20131201', '20140101', '20140201', '20140301', '20140401',\n",
       "       '20140501', '20140601', '20140701', '20140801', '20140901',\n",
       "       '20141001', '20141101', '20141201', '20150101', '20150201',\n",
       "       '20150301', '20150401', '20150501', '20150601', '20150701',\n",
       "       '20150801', '20150901', '20151001', '20151101', '20151201',\n",
       "       '20160101', '20160201', '20160301', '20160401', '20160501',\n",
       "       '20160601', '20160701', '20160801', '20160901', '20161001',\n",
       "       '20161101', '20161201', '20170101', '20170201', '20170301',\n",
       "       '20170401', '20170501', '20170601', '20170701', '20170801',\n",
       "       '20170901', '20171001', '20171101', '20171201', '20180101',\n",
       "       '20180201', '20180301', '20180401', '20180501', '20180601',\n",
       "       '20180701', '20180801', '20180901', '20181001', '20181101',\n",
       "       '20181201', '20190101', '20190201', '20190301', '20190401',\n",
       "       '20190501', '20190601', '20190701', '20190801', '20190901',\n",
       "       '20191001', '20191101', '20191201', '20200101', '20200201',\n",
       "       '20200301', '20200401', '20200501', '20200601', '20200701',\n",
       "       '20200801', '20200901', '20201001', '20201101', '20201201'],\n",
       "      dtype='<U21')"
      ]
     },
     "execution_count": 30,
     "metadata": {},
     "output_type": "execute_result"
    }
   ],
   "source": [
    "date_clean_str = (clean_date.astype(int)).astype(str)\n",
    "date_clean_str"
   ]
  },
  {
   "cell_type": "markdown",
   "metadata": {
    "slideshow": {
     "slide_type": "slide"
    }
   },
   "source": [
    "Now we can only extract the year of our dates"
   ]
  },
  {
   "cell_type": "code",
   "execution_count": 31,
   "metadata": {
    "slideshow": {
     "slide_type": "subslide"
    },
    "tags": []
   },
   "outputs": [
    {
     "data": {
      "text/plain": [
       "array(['1947', '1947', '1947', '1947', '1947', '1947', '1947', '1947',\n",
       "       '1947', '1948', '1948', '1948', '1948', '1948', '1948', '1948',\n",
       "       '1948', '1948', '1948', '1948', '1948', '1949', '1949', '1949',\n",
       "       '1949', '1949', '1949', '1949', '1949', '1949', '1949', '1949',\n",
       "       '1949', '1950', '1950', '1950', '1950', '1950', '1950', '1950',\n",
       "       '1950', '1950', '1950', '1950', '1950', '1951', '1951', '1951',\n",
       "       '1951', '1951', '1951', '1951', '1951', '1951', '1951', '1951',\n",
       "       '1951', '1952', '1952', '1952', '1952', '1952', '1952', '1952',\n",
       "       '1952', '1952', '1952', '1952', '1952', '1953', '1953', '1953',\n",
       "       '1953', '1953', '1953', '1953', '1953', '1953', '1953', '1953',\n",
       "       '1953', '1954', '1954', '1954', '1954', '1954', '1954', '1954',\n",
       "       '1954', '1954', '1954', '1954', '1954', '1955', '1955', '1955',\n",
       "       '1955', '1955', '1955', '1955', '1955', '1955', '1955', '1955',\n",
       "       '1955', '1956', '1956', '1956', '1956', '1956', '1956', '1956',\n",
       "       '1956', '1956', '1956', '1956', '1956', '1957', '1957', '1957',\n",
       "       '1957', '1957', '1957', '1957', '1957', '1957', '1957', '1957',\n",
       "       '1957', '1958', '1958', '1958', '1958', '1958', '1958', '1958',\n",
       "       '1958', '1958', '1958', '1958', '1958', '1959', '1959', '1959',\n",
       "       '1959', '1959', '1959', '1959', '1959', '1959', '1959', '1959',\n",
       "       '1959', '1960', '1960', '1960', '1960', '1960', '1960', '1960',\n",
       "       '1960', '1960', '1960', '1960', '1960', '1961', '1961', '1961',\n",
       "       '1961', '1961', '1961', '1961', '1961', '1961', '1961', '1961',\n",
       "       '1961', '1962', '1962', '1962', '1962', '1962', '1962', '1962',\n",
       "       '1962', '1962', '1962', '1962', '1962', '1963', '1963', '1963',\n",
       "       '1963', '1963', '1963', '1963', '1963', '1963', '1963', '1963',\n",
       "       '1963', '1964', '1964', '1964', '1964', '1964', '1964', '1964',\n",
       "       '1964', '1964', '1964', '1964', '1964', '1965', '1965', '1965',\n",
       "       '1965', '1965', '1965', '1965', '1965', '1965', '1965', '1965',\n",
       "       '1965', '1966', '1966', '1966', '1966', '1966', '1966', '1966',\n",
       "       '1966', '1966', '1966', '1966', '1966', '1967', '1967', '1967',\n",
       "       '1967', '1967', '1967', '1967', '1967', '1967', '1967', '1967',\n",
       "       '1967', '1968', '1968', '1968', '1968', '1968', '1968', '1968',\n",
       "       '1968', '1968', '1968', '1968', '1968', '1969', '1969', '1969',\n",
       "       '1969', '1969', '1969', '1969', '1969', '1969', '1969', '1969',\n",
       "       '1969', '1970', '1970', '1970', '1970', '1970', '1970', '1970',\n",
       "       '1970', '1970', '1970', '1970', '1970', '1971', '1971', '1971',\n",
       "       '1971', '1971', '1971', '1971', '1971', '1971', '1971', '1971',\n",
       "       '1971', '1972', '1972', '1972', '1972', '1972', '1972', '1972',\n",
       "       '1972', '1972', '1972', '1972', '1972', '1973', '1973', '1973',\n",
       "       '1973', '1973', '1973', '1973', '1973', '1973', '1973', '1973',\n",
       "       '1973', '1974', '1974', '1974', '1974', '1974', '1974', '1974',\n",
       "       '1974', '1974', '1974', '1974', '1974', '1975', '1975', '1975',\n",
       "       '1975', '1975', '1975', '1975', '1975', '1975', '1975', '1975',\n",
       "       '1975', '1976', '1976', '1976', '1976', '1976', '1976', '1976',\n",
       "       '1976', '1976', '1976', '1976', '1976', '1977', '1977', '1977',\n",
       "       '1977', '1977', '1977', '1977', '1977', '1977', '1977', '1977',\n",
       "       '1977', '1978', '1978', '1978', '1978', '1978', '1978', '1978',\n",
       "       '1978', '1978', '1978', '1978', '1978', '1979', '1979', '1979',\n",
       "       '1979', '1979', '1979', '1979', '1979', '1979', '1979', '1979',\n",
       "       '1979', '1980', '1980', '1980', '1980', '1980', '1980', '1980',\n",
       "       '1980', '1980', '1980', '1980', '1980', '1981', '1981', '1981',\n",
       "       '1981', '1981', '1981', '1981', '1981', '1981', '1981', '1981',\n",
       "       '1981', '1982', '1982', '1982', '1982', '1982', '1982', '1982',\n",
       "       '1982', '1982', '1982', '1982', '1982', '1983', '1983', '1983',\n",
       "       '1983', '1983', '1983', '1983', '1983', '1983', '1983', '1983',\n",
       "       '1983', '1984', '1984', '1984', '1984', '1984', '1984', '1984',\n",
       "       '1984', '1984', '1984', '1984', '1984', '1985', '1985', '1985',\n",
       "       '1985', '1985', '1985', '1985', '1985', '1985', '1985', '1985',\n",
       "       '1985', '1986', '1986', '1986', '1986', '1986', '1986', '1986',\n",
       "       '1986', '1986', '1986', '1986', '1986', '1987', '1987', '1987',\n",
       "       '1987', '1987', '1987', '1987', '1987', '1987', '1987', '1987',\n",
       "       '1987', '1988', '1988', '1988', '1988', '1988', '1988', '1988',\n",
       "       '1988', '1988', '1988', '1988', '1988', '1989', '1989', '1989',\n",
       "       '1989', '1989', '1989', '1989', '1989', '1989', '1989', '1989',\n",
       "       '1989', '1990', '1990', '1990', '1990', '1990', '1990', '1990',\n",
       "       '1990', '1990', '1990', '1990', '1990', '1991', '1991', '1991',\n",
       "       '1991', '1991', '1991', '1991', '1991', '1991', '1991', '1991',\n",
       "       '1991', '1992', '1992', '1992', '1992', '1992', '1992', '1992',\n",
       "       '1992', '1992', '1992', '1992', '1992', '1993', '1993', '1993',\n",
       "       '1993', '1993', '1993', '1993', '1993', '1993', '1993', '1993',\n",
       "       '1993', '1994', '1994', '1994', '1994', '1994', '1994', '1994',\n",
       "       '1994', '1994', '1994', '1994', '1994', '1995', '1995', '1995',\n",
       "       '1995', '1995', '1995', '1995', '1995', '1995', '1995', '1995',\n",
       "       '1995', '1996', '1996', '1996', '1996', '1996', '1996', '1996',\n",
       "       '1996', '1996', '1996', '1996', '1996', '1997', '1997', '1997',\n",
       "       '1997', '1997', '1997', '1997', '1997', '1997', '1997', '1997',\n",
       "       '1997', '1998', '1998', '1998', '1998', '1998', '1998', '1998',\n",
       "       '1998', '1998', '1998', '1998', '1998', '1999', '1999', '1999',\n",
       "       '1999', '1999', '1999', '1999', '1999', '1999', '1999', '1999',\n",
       "       '1999', '2000', '2000', '2000', '2000', '2000', '2000', '2000',\n",
       "       '2000', '2000', '2000', '2000', '2000', '2001', '2001', '2001',\n",
       "       '2001', '2001', '2001', '2001', '2001', '2001', '2001', '2001',\n",
       "       '2001', '2002', '2002', '2002', '2002', '2002', '2002', '2002',\n",
       "       '2002', '2002', '2002', '2002', '2002', '2003', '2003', '2003',\n",
       "       '2003', '2003', '2003', '2003', '2003', '2003', '2003', '2003',\n",
       "       '2003', '2004', '2004', '2004', '2004', '2004', '2004', '2004',\n",
       "       '2004', '2004', '2004', '2004', '2004', '2005', '2005', '2005',\n",
       "       '2005', '2005', '2005', '2005', '2005', '2005', '2005', '2005',\n",
       "       '2005', '2006', '2006', '2006', '2006', '2006', '2006', '2006',\n",
       "       '2006', '2006', '2006', '2006', '2006', '2007', '2007', '2007',\n",
       "       '2007', '2007', '2007', '2007', '2007', '2007', '2007', '2007',\n",
       "       '2007', '2008', '2008', '2008', '2008', '2008', '2008', '2008',\n",
       "       '2008', '2008', '2008', '2008', '2008', '2009', '2009', '2009',\n",
       "       '2009', '2009', '2009', '2009', '2009', '2009', '2009', '2009',\n",
       "       '2009', '2010', '2010', '2010', '2010', '2010', '2010', '2010',\n",
       "       '2010', '2010', '2010', '2010', '2010', '2011', '2011', '2011',\n",
       "       '2011', '2011', '2011', '2011', '2011', '2011', '2011', '2011',\n",
       "       '2011', '2012', '2012', '2012', '2012', '2012', '2012', '2012',\n",
       "       '2012', '2012', '2012', '2012', '2012', '2013', '2013', '2013',\n",
       "       '2013', '2013', '2013', '2013', '2013', '2013', '2013', '2013',\n",
       "       '2013', '2014', '2014', '2014', '2014', '2014', '2014', '2014',\n",
       "       '2014', '2014', '2014', '2014', '2014', '2015', '2015', '2015',\n",
       "       '2015', '2015', '2015', '2015', '2015', '2015', '2015', '2015',\n",
       "       '2015', '2016', '2016', '2016', '2016', '2016', '2016', '2016',\n",
       "       '2016', '2016', '2016', '2016', '2016', '2017', '2017', '2017',\n",
       "       '2017', '2017', '2017', '2017', '2017', '2017', '2017', '2017',\n",
       "       '2017', '2018', '2018', '2018', '2018', '2018', '2018', '2018',\n",
       "       '2018', '2018', '2018', '2018', '2018', '2019', '2019', '2019',\n",
       "       '2019', '2019', '2019', '2019', '2019', '2019', '2019', '2019',\n",
       "       '2019', '2020', '2020', '2020', '2020', '2020', '2020', '2020',\n",
       "       '2020', '2020', '2020', '2020', '2020'], dtype='<U4')"
      ]
     },
     "execution_count": 31,
     "metadata": {},
     "output_type": "execute_result"
    }
   ],
   "source": [
    "year = [datenow[0:4] for datenow in date_clean_str]\n",
    "year = np.array(year)\n",
    "year"
   ]
  },
  {
   "cell_type": "markdown",
   "metadata": {
    "slideshow": {
     "slide_type": "slide"
    }
   },
   "source": [
    "...now we do the same for month and day"
   ]
  },
  {
   "cell_type": "code",
   "execution_count": 32,
   "metadata": {
    "slideshow": {
     "slide_type": "subslide"
    }
   },
   "outputs": [],
   "source": [
    "month = [datenow[4:6] for datenow in date_clean_str]\n",
    "month = np.array(month)\n",
    "day = [datenow[6:8] for datenow in date_clean_str]\n",
    "day = np.array(day)"
   ]
  },
  {
   "cell_type": "markdown",
   "metadata": {
    "slideshow": {
     "slide_type": "slide"
    }
   },
   "source": [
    "Let’s take 2010 again as our example and find the average temperatures for each month in 2010"
   ]
  },
  {
   "cell_type": "code",
   "execution_count": 33,
   "metadata": {
    "slideshow": {
     "slide_type": "subslide"
    }
   },
   "outputs": [],
   "source": [
    "means_2010 = np.zeros(12)\n",
    "index = 0"
   ]
  },
  {
   "cell_type": "code",
   "execution_count": 34,
   "metadata": {
    "slideshow": {
     "slide_type": "slide"
    }
   },
   "outputs": [
    {
     "name": "stdout",
     "output_type": "stream",
     "text": [
      "[ 5.7 15.7 22.4 26.4 26.3 31.2 36.2 30.2 24.4 20.7 19.2  5.3]\n"
     ]
    }
   ],
   "source": [
    "for month_now in np.unique(month):\n",
    "    means_2010[index] = temp_min_clean[(month == month_now) & (year == '2010')].mean()\n",
    "    index = index + 1\n",
    "    \n",
    "print(means_2010)"
   ]
  },
  {
   "cell_type": "code",
   "execution_count": 35,
   "metadata": {
    "slideshow": {
     "slide_type": "slide"
    }
   },
   "outputs": [],
   "source": [
    "temp_mean = np.zeros(temp_min_clean.shape)\n",
    "for i, temp in enumerate(temp_min_clean):\n",
    "    temp_mean[i] = (temp_min_clean[i] + temp_max_clean[i]) / 2"
   ]
  },
  {
   "cell_type": "code",
   "execution_count": 36,
   "metadata": {
    "slideshow": {
     "slide_type": "slide"
    },
    "tags": []
   },
   "outputs": [
    {
     "data": {
      "text/plain": [
       "array([13.76 , 15.43 , 18.665, 19.495, 18.23 , 17.97 , 12.83 ,  8.75 ,\n",
       "        5.955,  7.05 ,  6.73 , 11.17 , 14.335, 14.525, 16.845, 17.105,\n",
       "       17.045, 15.025, 12.425,  7.74 ,  5.53 ,  5.69 ,  6.755, 12.51 ,\n",
       "       15.525, 14.48 , 14.635, 17.32 , 17.935, 17.31 , 11.79 ,  7.56 ,\n",
       "        6.87 ,  5.29 ,  7.68 ,  9.765, 11.835, 16.205, 17.4  , 17.38 ,\n",
       "       17.715, 14.25 , 10.845,  8.565,  6.735,  5.725,  6.685,  9.12 ,\n",
       "       13.835, 13.98 , 15.32 , 17.235, 17.085, 16.695, 10.475,  8.795,\n",
       "        5.165,  6.525,  5.01 ,  9.045, 13.105, 14.875, 17.53 , 19.88 ,\n",
       "       18.29 , 11.25 ,  8.52 ,  6.605,  5.2  ,  5.675,  6.83 , 11.15 ,\n",
       "       12.56 , 16.85 , 14.45 , 15.52 , 17.06 , 17.655, 11.14 ,  8.3  ,\n",
       "        7.6  ,  7.54 ,  5.27 ,  9.67 , 10.275, 15.4  , 17.67 , 14.635,\n",
       "       16.565, 15.61 , 11.84 ,  8.185,  6.835,  6.275,  6.735, 11.48 ,\n",
       "       15.64 , 15.23 , 14.955, 17.14 , 14.615, 14.05 , 10.505,  9.415,\n",
       "        7.545,  7.07 ,  3.005, 11.43 , 11.085, 15.845, 14.26 , 15.265,\n",
       "       14.665, 13.065, 13.73 ,  5.83 ,  7.715,  6.705, 10.28 , 11.1  ,\n",
       "       12.36 , 12.945, 16.75 , 19.435, 14.58 , 15.34 , 10.335,  8.48 ,\n",
       "        6.675,  6.55 , 10.855,  8.965, 10.79 , 14.845, 15.235, 15.635,\n",
       "       16.46 , 15.27 , 11.89 ,  6.545,  6.815,  8.305,  5.415,  9.97 ,\n",
       "       13.605, 14.075, 15.825, 18.615, 16.14 , 14.935, 12.605,  5.9  ,\n",
       "        7.025,  6.77 ,  9.825, 11.165, 12.41 , 13.85 , 15.54 , 16.29 ,\n",
       "       16.3  , 13.07 , 13.14 ,  9.16 ,  7.26 ,  6.19 ,  9.665, 12.335,\n",
       "       13.035, 12.805, 15.855, 16.735, 15.725, 15.73 , 12.12 ,  9.02 ,\n",
       "        9.315,  6.965,  5.99 ,  7.35 , 15.38 , 13.29 , 15.42 , 16.615,\n",
       "       18.545, 16.315, 13.12 , 10.315,  5.98 ,  2.71 ,  1.92 ,  7.77 ,\n",
       "       11.12 , 14.33 , 14.85 , 17.18 , 18.175, 14.55 , 11.115, 10.165,\n",
       "        4.305,  2.315,  6.17 ,  8.06 , 13.695, 15.195, 16.905, 18.385,\n",
       "       18.18 , 16.225, 12.055,  7.92 ,  7.035,  6.555,  3.86 ,  9.985,\n",
       "       10.67 , 14.115, 15.75 , 17.065, 14.915, 13.5  , 10.695,  9.245,\n",
       "        8.32 ,  7.07 ,  9.03 ,  7.795, 11.73 , 14.96 , 16.245, 15.39 ,\n",
       "       18.61 , 15.24 , 14.45 ,  8.295,  7.195,  7.355,  8.68 ,  8.885,\n",
       "       11.49 , 14.795, 16.95 , 17.49 , 16.405, 14.32 , 13.05 ,  6.965,\n",
       "        6.93 ,  6.155,  5.99 , 13.425, 15.425, 13.91 , 14.745, 15.935,\n",
       "       14.305, 13.21 , 11.485,  9.59 ,  4.9  ,  4.87 ,  6.01 ,  7.975,\n",
       "       13.245, 16.38 , 14.655, 17.66 , 15.625, 13.945, 10.8  ,  9.595,\n",
       "        2.255,  3.695,  6.02 ,  7.445, 12.19 , 13.5  , 16.54 , 15.735,\n",
       "       16.08 , 15.865, 12.41 , 10.08 ,  5.995,  5.535,  5.58 ,  9.055,\n",
       "       12.715, 15.24 , 13.715, 18.245, 18.58 , 13.765, 11.49 ,  9.21 ,\n",
       "        7.055,  2.86 ,  6.045, 10.87 , 11.905, 13.62 , 14.575, 16.705,\n",
       "       16.205, 13.435, 10.81 ,  8.12 ,  6.93 ,  4.445,  5.255, 10.75 ,\n",
       "       11.34 , 14.53 , 16.18 , 16.78 , 16.815, 17.175, 11.685,  7.795,\n",
       "        6.175,  7.3  ,  8.885, 11.43 , 11.96 , 12.935, 14.39 , 15.235,\n",
       "       18.35 , 15.05 ,  7.19 ,  8.92 ,  8.435,  7.19 ,  7.55 ,  8.69 ,\n",
       "       12.99 , 14.315, 15.05 , 16.925, 16.895, 14.89 , 10.355,  7.155,\n",
       "        4.64 ,  6.525,  5.06 , 10.035, 12.665, 15.81 , 17.625, 19.215,\n",
       "       15.83 , 13.92 , 13.525,  7.285,  7.275,  6.72 ,  6.92 , 11.19 ,\n",
       "       11.77 , 14.29 , 16.315, 16.28 , 15.025, 14.145, 13.525, 10.52 ,\n",
       "        7.99 ,  4.92 ,  7.87 , 11.295, 10.88 , 13.83 , 15.35 , 16.175,\n",
       "       15.52 , 13.825, 11.495,  6.93 ,  6.95 ,  3.29 ,  5.84 ,  9.175,\n",
       "       11.51 , 16.325, 16.745, 15.445, 15.535, 15.925, 12.005,  7.66 ,\n",
       "        8.89 ,  5.52 ,  7.01 ,  9.825, 12.715, 13.345, 16.145, 15.235,\n",
       "       16.595, 14.23 , 11.36 ,  8.975,  6.63 ,  5.205,  5.825, 10.89 ,\n",
       "       12.325, 14.975, 16.185, 15.64 , 15.925, 14.07 , 13.025,  8.775,\n",
       "        5.965,  6.24 ,  5.595, 10.67 , 11.865, 14.85 , 16.525, 16.095,\n",
       "       15.74 , 15.715, 10.515,  9.535,  7.32 ,  8.215,  6.65 ,  8.745,\n",
       "       12.045, 12.835, 14.91 , 18.81 , 16.17 , 14.805, 14.245,  8.285,\n",
       "        7.81 ,  7.17 ,  5.835,  8.15 , 12.725, 13.48 , 14.985, 19.775,\n",
       "       15.795, 14.185, 11.355,  8.86 ,  4.435,  5.59 ,  6.205,  8.645,\n",
       "       13.245, 15.515, 14.825, 16.93 , 17.575, 14.42 , 14.805,  8.81 ,\n",
       "        7.78 ,  6.73 ,  4.31 ,  9.04 , 12.24 , 14.145, 16.235, 16.125,\n",
       "       17.54 , 12.72 , 12.22 ,  9.055,  6.725,  6.4  ,  5.49 ,  7.72 ,\n",
       "       13.42 , 13.265, 16.235, 15.485, 15.915, 15.245, 11.355,  7.48 ,\n",
       "        7.9  ,  7.66 ,  7.02 ,  8.125, 12.54 , 14.855, 14.96 , 17.13 ,\n",
       "       16.315, 15.115, 11.275,  6.6  ,  6.505,  5.515,  7.895, 13.085,\n",
       "       12.395, 14.395, 15.695, 16.76 , 18.36 , 15.615, 13.37 ,  8.185,\n",
       "        8.63 ,  7.645, 10.815, 11.58 , 11.42 , 13.99 , 15.5  , 17.215,\n",
       "       18.485, 11.99 , 12.63 ,  7.46 ,  7.42 ,  9.075,  7.95 ,  9.495,\n",
       "       10.99 , 13.275, 14.655, 17.345, 17.675, 15.32 , 10.875,  8.22 ,\n",
       "        7.105,  6.795,  8.105,  9.44 , 14.085, 15.255, 14.915, 16.69 ,\n",
       "       18.56 , 13.795, 10.31 ,  8.86 ,  7.525,  8.46 ,  4.15 ,  9.99 ,\n",
       "       14.855, 16.005, 15.865, 17.475, 16.79 , 14.4  , 11.655,  6.84 ,\n",
       "        7.875,  7.485,  8.17 , 11.15 , 13.91 , 14.29 , 17.37 , 18.6  ,\n",
       "       18.98 , 13.8  , 11.765,  9.615,  7.665,  7.98 ,  9.59 ,  9.895,\n",
       "       13.82 , 14.865, 15.455, 18.225, 16.925, 13.54 , 12.425,  6.635,\n",
       "        6.87 ,  3.575,  7.36 ,  7.87 , 14.48 , 15.995, 16.955, 15.46 ,\n",
       "       15.61 , 13.425, 11.36 ,  8.925,  6.68 ,  3.08 ,  8.5  , 10.55 ,\n",
       "       10.715, 16.065, 16.99 , 14.935, 16.945, 16.025, 13.535,  7.91 ,\n",
       "        7.805,  8.04 , 10.33 , 12.945, 11.985, 15.75 , 17.055, 18.685,\n",
       "       19.175, 14.205, 11.235,  6.79 ,  7.685,  8.805,  7.775, 10.025,\n",
       "       12.285, 16.16 , 16.685, 17.93 , 15.985, 16.355, 10.38 ,  9.59 ,\n",
       "        7.505,  6.22 , 10.28 , 10.545, 14.635, 15.375, 17.955, 15.79 ,\n",
       "       16.39 , 14.2  , 11.125,  8.55 ,  8.34 ,  6.63 ,  9.255,  8.63 ,\n",
       "       12.885, 14.645, 16.385, 17.495, 18.53 , 12.85 , 14.12 ,  7.535,\n",
       "        6.42 ,  8.09 , 10.305, 10.94 , 11.415, 14.915, 18.235, 17.815,\n",
       "       16.355, 15.235, 10.825,  8.735,  6.91 ,  7.155,  8.295, 11.03 ,\n",
       "       13.015, 17.21 , 18.035, 18.645, 19.865, 16.465, 12.975,  8.115,\n",
       "        6.79 ,  6.685,  9.365, 12.175, 13.6  , 13.165, 16.8  , 16.265,\n",
       "       17.26 , 15.185, 14.195,  7.685,  5.195,  8.005,  6.615, 11.43 ,\n",
       "       13.15 , 16.995, 17.6  , 18.575, 16.115, 16.49 , 12.28 , 10.585,\n",
       "        5.26 ,  4.44 ,  6.465, 10.885, 12.635, 13.97 , 17.05 , 18.75 ,\n",
       "       14.63 , 14.765, 12.25 ,  9.715,  8.545,  8.84 ,  7.165,  9.575,\n",
       "       14.685, 16.475, 16.1  , 18.275, 15.77 , 13.6  , 11.87 ,  7.385,\n",
       "        7.125,  7.99 ,  9.94 , 11.48 , 12.7  , 16.86 , 16.85 , 17.545,\n",
       "       17.91 , 13.6  , 11.015,  9.335,  5.71 ,  4.705,  6.825,  8.44 ,\n",
       "       13.565, 16.075, 15.685, 16.495, 18.37 , 17.435, 13.98 ,  8.685,\n",
       "        6.145,  4.045,  9.17 , 12.65 , 14.415, 14.345, 16.715, 19.13 ,\n",
       "       16.325, 13.285, 11.545, 10.965,  3.765,  7.36 ,  6.78 , 10.66 ,\n",
       "       14.35 , 16.325, 16.765, 15.675, 18.295, 16.165, 14.51 ,  8.885,\n",
       "        8.495,  7.615,  7.625, 12.28 , 17.315, 16.96 , 16.935, 18.89 ,\n",
       "       19.015, 16.985, 11.545,  8.7  ,  8.87 ,  8.01 ,  4.965,  9.925,\n",
       "       13.785, 12.99 , 18.7  , 19.365, 18.57 , 15.715, 12.645,  9.3  ,\n",
       "        7.51 ,  7.83 ,  8.17 , 11.53 , 13.2  , 15.525, 18.515, 17.465,\n",
       "       16.06 , 13.685, 13.22 , 10.4  ,  7.905,  8.77 ,  7.25 , 11.175,\n",
       "       13.465, 15.695, 17.365, 20.525, 20.815, 14.515, 11.685, 10.385,\n",
       "        7.98 ,  8.54 ,  7.615,  9.21 , 11.235, 15.41 , 17.4  , 17.93 ,\n",
       "       18.33 , 17.165, 10.37 ,  8.035,  6.   ,  3.975,  8.805, 13.4  ,\n",
       "       12.985, 17.015, 18.035, 18.175, 16.615, 12.915, 12.84 ,  8.985,\n",
       "        7.805,  7.53 ,  4.38 , 10.155, 15.   , 16.41 , 16.415, 19.285,\n",
       "       18.695, 16.75 , 14.13 ,  9.665,  7.605,  5.55 , 10.22 ,    nan,\n",
       "       14.515, 13.195, 19.1  , 20.33 , 17.73 ,    nan, 14.725,  9.165,\n",
       "        7.925,  7.975, 10.11 , 10.715, 13.6  , 14.025, 15.55 , 18.08 ,\n",
       "       19.295, 16.135, 11.56 , 11.765,  7.625])"
      ]
     },
     "execution_count": 36,
     "metadata": {},
     "output_type": "execute_result"
    }
   ],
   "source": [
    "temp_mean"
   ]
  },
  {
   "cell_type": "markdown",
   "metadata": {
    "slideshow": {
     "slide_type": "slide"
    }
   },
   "source": [
    "Fortunatly we don't need a loop to make element-wise calculations. "
   ]
  },
  {
   "cell_type": "code",
   "execution_count": 37,
   "metadata": {
    "slideshow": {
     "slide_type": "subslide"
    }
   },
   "outputs": [
    {
     "data": {
      "text/plain": [
       "array([ 1,  2,  3,  4,  5,  6,  7,  8,  9, 10, 11, 12, 13, 14, 15, 16, 17,\n",
       "       18, 19, 20])"
      ]
     },
     "execution_count": 37,
     "metadata": {},
     "output_type": "execute_result"
    },
    {
     "data": {
      "text/plain": [
       "array([  1,   4,   9,  16,  25,  36,  49,  64,  81, 100, 121, 144, 169,\n",
       "       196, 225, 256, 289, 324, 361, 400])"
      ]
     },
     "execution_count": 37,
     "metadata": {},
     "output_type": "execute_result"
    },
    {
     "data": {
      "text/plain": [
       "array([0, 0, 0, 0, 0, 0, 0, 0, 0, 0, 0, 0, 0, 0, 0, 0, 0, 0, 0, 0])"
      ]
     },
     "execution_count": 37,
     "metadata": {},
     "output_type": "execute_result"
    },
    {
     "data": {
      "text/plain": [
       "array([ 2,  4,  6,  8, 10, 12, 14, 16, 18, 20, 22, 24, 26, 28, 30, 32, 34,\n",
       "       36, 38, 40])"
      ]
     },
     "execution_count": 37,
     "metadata": {},
     "output_type": "execute_result"
    },
    {
     "data": {
      "text/plain": [
       "array([1., 1., 1., 1., 1., 1., 1., 1., 1., 1., 1., 1., 1., 1., 1., 1., 1.,\n",
       "       1., 1., 1.])"
      ]
     },
     "execution_count": 37,
     "metadata": {},
     "output_type": "execute_result"
    }
   ],
   "source": [
    "arr = np.arange(1,21)          # Numbers from 1 to 20\n",
    "arr\n",
    "arr * arr             # Multiplies each element by itself \n",
    "arr - arr             # Subtracts each element from itself\n",
    "arr + arr             # Adds each element to itself\n",
    "arr / arr             # Divides each element by itself"
   ]
  },
  {
   "cell_type": "code",
   "execution_count": 38,
   "metadata": {
    "slideshow": {
     "slide_type": "slide"
    },
    "tags": []
   },
   "outputs": [
    {
     "data": {
      "text/plain": [
       "array([13.76 , 15.43 , 18.665, 19.495, 18.23 , 17.97 , 12.83 ,  8.75 ,\n",
       "        5.955,  7.05 ,  6.73 , 11.17 , 14.335, 14.525, 16.845, 17.105,\n",
       "       17.045, 15.025, 12.425,  7.74 ,  5.53 ,  5.69 ,  6.755, 12.51 ,\n",
       "       15.525, 14.48 , 14.635, 17.32 , 17.935, 17.31 , 11.79 ,  7.56 ,\n",
       "        6.87 ,  5.29 ,  7.68 ,  9.765, 11.835, 16.205, 17.4  , 17.38 ,\n",
       "       17.715, 14.25 , 10.845,  8.565,  6.735,  5.725,  6.685,  9.12 ,\n",
       "       13.835, 13.98 , 15.32 , 17.235, 17.085, 16.695, 10.475,  8.795,\n",
       "        5.165,  6.525,  5.01 ,  9.045, 13.105, 14.875, 17.53 , 19.88 ,\n",
       "       18.29 , 11.25 ,  8.52 ,  6.605,  5.2  ,  5.675,  6.83 , 11.15 ,\n",
       "       12.56 , 16.85 , 14.45 , 15.52 , 17.06 , 17.655, 11.14 ,  8.3  ,\n",
       "        7.6  ,  7.54 ,  5.27 ,  9.67 , 10.275, 15.4  , 17.67 , 14.635,\n",
       "       16.565, 15.61 , 11.84 ,  8.185,  6.835,  6.275,  6.735, 11.48 ,\n",
       "       15.64 , 15.23 , 14.955, 17.14 , 14.615, 14.05 , 10.505,  9.415,\n",
       "        7.545,  7.07 ,  3.005, 11.43 , 11.085, 15.845, 14.26 , 15.265,\n",
       "       14.665, 13.065, 13.73 ,  5.83 ,  7.715,  6.705, 10.28 , 11.1  ,\n",
       "       12.36 , 12.945, 16.75 , 19.435, 14.58 , 15.34 , 10.335,  8.48 ,\n",
       "        6.675,  6.55 , 10.855,  8.965, 10.79 , 14.845, 15.235, 15.635,\n",
       "       16.46 , 15.27 , 11.89 ,  6.545,  6.815,  8.305,  5.415,  9.97 ,\n",
       "       13.605, 14.075, 15.825, 18.615, 16.14 , 14.935, 12.605,  5.9  ,\n",
       "        7.025,  6.77 ,  9.825, 11.165, 12.41 , 13.85 , 15.54 , 16.29 ,\n",
       "       16.3  , 13.07 , 13.14 ,  9.16 ,  7.26 ,  6.19 ,  9.665, 12.335,\n",
       "       13.035, 12.805, 15.855, 16.735, 15.725, 15.73 , 12.12 ,  9.02 ,\n",
       "        9.315,  6.965,  5.99 ,  7.35 , 15.38 , 13.29 , 15.42 , 16.615,\n",
       "       18.545, 16.315, 13.12 , 10.315,  5.98 ,  2.71 ,  1.92 ,  7.77 ,\n",
       "       11.12 , 14.33 , 14.85 , 17.18 , 18.175, 14.55 , 11.115, 10.165,\n",
       "        4.305,  2.315,  6.17 ,  8.06 , 13.695, 15.195, 16.905, 18.385,\n",
       "       18.18 , 16.225, 12.055,  7.92 ,  7.035,  6.555,  3.86 ,  9.985,\n",
       "       10.67 , 14.115, 15.75 , 17.065, 14.915, 13.5  , 10.695,  9.245,\n",
       "        8.32 ,  7.07 ,  9.03 ,  7.795, 11.73 , 14.96 , 16.245, 15.39 ,\n",
       "       18.61 , 15.24 , 14.45 ,  8.295,  7.195,  7.355,  8.68 ,  8.885,\n",
       "       11.49 , 14.795, 16.95 , 17.49 , 16.405, 14.32 , 13.05 ,  6.965,\n",
       "        6.93 ,  6.155,  5.99 , 13.425, 15.425, 13.91 , 14.745, 15.935,\n",
       "       14.305, 13.21 , 11.485,  9.59 ,  4.9  ,  4.87 ,  6.01 ,  7.975,\n",
       "       13.245, 16.38 , 14.655, 17.66 , 15.625, 13.945, 10.8  ,  9.595,\n",
       "        2.255,  3.695,  6.02 ,  7.445, 12.19 , 13.5  , 16.54 , 15.735,\n",
       "       16.08 , 15.865, 12.41 , 10.08 ,  5.995,  5.535,  5.58 ,  9.055,\n",
       "       12.715, 15.24 , 13.715, 18.245, 18.58 , 13.765, 11.49 ,  9.21 ,\n",
       "        7.055,  2.86 ,  6.045, 10.87 , 11.905, 13.62 , 14.575, 16.705,\n",
       "       16.205, 13.435, 10.81 ,  8.12 ,  6.93 ,  4.445,  5.255, 10.75 ,\n",
       "       11.34 , 14.53 , 16.18 , 16.78 , 16.815, 17.175, 11.685,  7.795,\n",
       "        6.175,  7.3  ,  8.885, 11.43 , 11.96 , 12.935, 14.39 , 15.235,\n",
       "       18.35 , 15.05 ,  7.19 ,  8.92 ,  8.435,  7.19 ,  7.55 ,  8.69 ,\n",
       "       12.99 , 14.315, 15.05 , 16.925, 16.895, 14.89 , 10.355,  7.155,\n",
       "        4.64 ,  6.525,  5.06 , 10.035, 12.665, 15.81 , 17.625, 19.215,\n",
       "       15.83 , 13.92 , 13.525,  7.285,  7.275,  6.72 ,  6.92 , 11.19 ,\n",
       "       11.77 , 14.29 , 16.315, 16.28 , 15.025, 14.145, 13.525, 10.52 ,\n",
       "        7.99 ,  4.92 ,  7.87 , 11.295, 10.88 , 13.83 , 15.35 , 16.175,\n",
       "       15.52 , 13.825, 11.495,  6.93 ,  6.95 ,  3.29 ,  5.84 ,  9.175,\n",
       "       11.51 , 16.325, 16.745, 15.445, 15.535, 15.925, 12.005,  7.66 ,\n",
       "        8.89 ,  5.52 ,  7.01 ,  9.825, 12.715, 13.345, 16.145, 15.235,\n",
       "       16.595, 14.23 , 11.36 ,  8.975,  6.63 ,  5.205,  5.825, 10.89 ,\n",
       "       12.325, 14.975, 16.185, 15.64 , 15.925, 14.07 , 13.025,  8.775,\n",
       "        5.965,  6.24 ,  5.595, 10.67 , 11.865, 14.85 , 16.525, 16.095,\n",
       "       15.74 , 15.715, 10.515,  9.535,  7.32 ,  8.215,  6.65 ,  8.745,\n",
       "       12.045, 12.835, 14.91 , 18.81 , 16.17 , 14.805, 14.245,  8.285,\n",
       "        7.81 ,  7.17 ,  5.835,  8.15 , 12.725, 13.48 , 14.985, 19.775,\n",
       "       15.795, 14.185, 11.355,  8.86 ,  4.435,  5.59 ,  6.205,  8.645,\n",
       "       13.245, 15.515, 14.825, 16.93 , 17.575, 14.42 , 14.805,  8.81 ,\n",
       "        7.78 ,  6.73 ,  4.31 ,  9.04 , 12.24 , 14.145, 16.235, 16.125,\n",
       "       17.54 , 12.72 , 12.22 ,  9.055,  6.725,  6.4  ,  5.49 ,  7.72 ,\n",
       "       13.42 , 13.265, 16.235, 15.485, 15.915, 15.245, 11.355,  7.48 ,\n",
       "        7.9  ,  7.66 ,  7.02 ,  8.125, 12.54 , 14.855, 14.96 , 17.13 ,\n",
       "       16.315, 15.115, 11.275,  6.6  ,  6.505,  5.515,  7.895, 13.085,\n",
       "       12.395, 14.395, 15.695, 16.76 , 18.36 , 15.615, 13.37 ,  8.185,\n",
       "        8.63 ,  7.645, 10.815, 11.58 , 11.42 , 13.99 , 15.5  , 17.215,\n",
       "       18.485, 11.99 , 12.63 ,  7.46 ,  7.42 ,  9.075,  7.95 ,  9.495,\n",
       "       10.99 , 13.275, 14.655, 17.345, 17.675, 15.32 , 10.875,  8.22 ,\n",
       "        7.105,  6.795,  8.105,  9.44 , 14.085, 15.255, 14.915, 16.69 ,\n",
       "       18.56 , 13.795, 10.31 ,  8.86 ,  7.525,  8.46 ,  4.15 ,  9.99 ,\n",
       "       14.855, 16.005, 15.865, 17.475, 16.79 , 14.4  , 11.655,  6.84 ,\n",
       "        7.875,  7.485,  8.17 , 11.15 , 13.91 , 14.29 , 17.37 , 18.6  ,\n",
       "       18.98 , 13.8  , 11.765,  9.615,  7.665,  7.98 ,  9.59 ,  9.895,\n",
       "       13.82 , 14.865, 15.455, 18.225, 16.925, 13.54 , 12.425,  6.635,\n",
       "        6.87 ,  3.575,  7.36 ,  7.87 , 14.48 , 15.995, 16.955, 15.46 ,\n",
       "       15.61 , 13.425, 11.36 ,  8.925,  6.68 ,  3.08 ,  8.5  , 10.55 ,\n",
       "       10.715, 16.065, 16.99 , 14.935, 16.945, 16.025, 13.535,  7.91 ,\n",
       "        7.805,  8.04 , 10.33 , 12.945, 11.985, 15.75 , 17.055, 18.685,\n",
       "       19.175, 14.205, 11.235,  6.79 ,  7.685,  8.805,  7.775, 10.025,\n",
       "       12.285, 16.16 , 16.685, 17.93 , 15.985, 16.355, 10.38 ,  9.59 ,\n",
       "        7.505,  6.22 , 10.28 , 10.545, 14.635, 15.375, 17.955, 15.79 ,\n",
       "       16.39 , 14.2  , 11.125,  8.55 ,  8.34 ,  6.63 ,  9.255,  8.63 ,\n",
       "       12.885, 14.645, 16.385, 17.495, 18.53 , 12.85 , 14.12 ,  7.535,\n",
       "        6.42 ,  8.09 , 10.305, 10.94 , 11.415, 14.915, 18.235, 17.815,\n",
       "       16.355, 15.235, 10.825,  8.735,  6.91 ,  7.155,  8.295, 11.03 ,\n",
       "       13.015, 17.21 , 18.035, 18.645, 19.865, 16.465, 12.975,  8.115,\n",
       "        6.79 ,  6.685,  9.365, 12.175, 13.6  , 13.165, 16.8  , 16.265,\n",
       "       17.26 , 15.185, 14.195,  7.685,  5.195,  8.005,  6.615, 11.43 ,\n",
       "       13.15 , 16.995, 17.6  , 18.575, 16.115, 16.49 , 12.28 , 10.585,\n",
       "        5.26 ,  4.44 ,  6.465, 10.885, 12.635, 13.97 , 17.05 , 18.75 ,\n",
       "       14.63 , 14.765, 12.25 ,  9.715,  8.545,  8.84 ,  7.165,  9.575,\n",
       "       14.685, 16.475, 16.1  , 18.275, 15.77 , 13.6  , 11.87 ,  7.385,\n",
       "        7.125,  7.99 ,  9.94 , 11.48 , 12.7  , 16.86 , 16.85 , 17.545,\n",
       "       17.91 , 13.6  , 11.015,  9.335,  5.71 ,  4.705,  6.825,  8.44 ,\n",
       "       13.565, 16.075, 15.685, 16.495, 18.37 , 17.435, 13.98 ,  8.685,\n",
       "        6.145,  4.045,  9.17 , 12.65 , 14.415, 14.345, 16.715, 19.13 ,\n",
       "       16.325, 13.285, 11.545, 10.965,  3.765,  7.36 ,  6.78 , 10.66 ,\n",
       "       14.35 , 16.325, 16.765, 15.675, 18.295, 16.165, 14.51 ,  8.885,\n",
       "        8.495,  7.615,  7.625, 12.28 , 17.315, 16.96 , 16.935, 18.89 ,\n",
       "       19.015, 16.985, 11.545,  8.7  ,  8.87 ,  8.01 ,  4.965,  9.925,\n",
       "       13.785, 12.99 , 18.7  , 19.365, 18.57 , 15.715, 12.645,  9.3  ,\n",
       "        7.51 ,  7.83 ,  8.17 , 11.53 , 13.2  , 15.525, 18.515, 17.465,\n",
       "       16.06 , 13.685, 13.22 , 10.4  ,  7.905,  8.77 ,  7.25 , 11.175,\n",
       "       13.465, 15.695, 17.365, 20.525, 20.815, 14.515, 11.685, 10.385,\n",
       "        7.98 ,  8.54 ,  7.615,  9.21 , 11.235, 15.41 , 17.4  , 17.93 ,\n",
       "       18.33 , 17.165, 10.37 ,  8.035,  6.   ,  3.975,  8.805, 13.4  ,\n",
       "       12.985, 17.015, 18.035, 18.175, 16.615, 12.915, 12.84 ,  8.985,\n",
       "        7.805,  7.53 ,  4.38 , 10.155, 15.   , 16.41 , 16.415, 19.285,\n",
       "       18.695, 16.75 , 14.13 ,  9.665,  7.605,  5.55 , 10.22 ,    nan,\n",
       "       14.515, 13.195, 19.1  , 20.33 , 17.73 ,    nan, 14.725,  9.165,\n",
       "        7.925,  7.975, 10.11 , 10.715, 13.6  , 14.025, 15.55 , 18.08 ,\n",
       "       19.295, 16.135, 11.56 , 11.765,  7.625])"
      ]
     },
     "execution_count": 38,
     "metadata": {},
     "output_type": "execute_result"
    }
   ],
   "source": [
    "temp_mean = (temp_min_clean + temp_max_clean) / 2\n",
    "temp_mean"
   ]
  },
  {
   "cell_type": "markdown",
   "metadata": {
    "slideshow": {
     "slide_type": "slide"
    }
   },
   "source": [
    "You can also use the functions provided by numpy itself"
   ]
  },
  {
   "cell_type": "code",
   "execution_count": 39,
   "metadata": {
    "slideshow": {
     "slide_type": "subslide"
    }
   },
   "outputs": [
    {
     "data": {
      "text/plain": [
       "array([[ 8, 10, 12, 14],\n",
       "       [16, 18, 20, 22]])"
      ]
     },
     "execution_count": 39,
     "metadata": {},
     "output_type": "execute_result"
    },
    {
     "data": {
      "text/plain": [
       "array([[-6, -6, -6, -6],\n",
       "       [-6, -6, -6, -6]])"
      ]
     },
     "execution_count": 39,
     "metadata": {},
     "output_type": "execute_result"
    },
    {
     "data": {
      "text/plain": [
       "array([[  7,  16,  27,  40],\n",
       "       [ 55,  72,  91, 112]])"
      ]
     },
     "execution_count": 39,
     "metadata": {},
     "output_type": "execute_result"
    },
    {
     "data": {
      "text/plain": [
       "array([[0.14285714, 0.25      , 0.33333333, 0.4       ],\n",
       "       [0.45454545, 0.5       , 0.53846154, 0.57142857]])"
      ]
     },
     "execution_count": 39,
     "metadata": {},
     "output_type": "execute_result"
    },
    {
     "data": {
      "text/plain": [
       "array([[1.        , 1.41421356, 1.73205081, 2.        ],\n",
       "       [2.23606798, 2.44948974, 2.64575131, 2.82842712]])"
      ]
     },
     "execution_count": 39,
     "metadata": {},
     "output_type": "execute_result"
    }
   ],
   "source": [
    "x = np.array([[1,2,3,4],[5,6,7,8]])\n",
    "y = np.array([[7,8,9,10],[11,12,13,14]])\n",
    "\n",
    "# Elementwise sum\n",
    "np.add(x, y)\n",
    "\n",
    "# Elementwise difference\n",
    "np.subtract(x, y)\n",
    "\n",
    "# Elementwise product\n",
    "np.multiply(x, y)\n",
    "\n",
    "# Elementwise division\n",
    "np.divide(x, y)\n",
    "\n",
    "# Elementwise square root\n",
    "np.sqrt(x)"
   ]
  },
  {
   "cell_type": "code",
   "execution_count": 40,
   "metadata": {
    "slideshow": {
     "slide_type": "slide"
    },
    "tags": []
   },
   "outputs": [
    {
     "data": {
      "text/plain": [
       "array([13.76 , 15.43 , 18.665, 19.495, 18.23 , 17.97 , 12.83 ,  8.75 ,\n",
       "        5.955,  7.05 ,  6.73 , 11.17 , 14.335, 14.525, 16.845, 17.105,\n",
       "       17.045, 15.025, 12.425,  7.74 ,  5.53 ,  5.69 ,  6.755, 12.51 ,\n",
       "       15.525, 14.48 , 14.635, 17.32 , 17.935, 17.31 , 11.79 ,  7.56 ,\n",
       "        6.87 ,  5.29 ,  7.68 ,  9.765, 11.835, 16.205, 17.4  , 17.38 ,\n",
       "       17.715, 14.25 , 10.845,  8.565,  6.735,  5.725,  6.685,  9.12 ,\n",
       "       13.835, 13.98 , 15.32 , 17.235, 17.085, 16.695, 10.475,  8.795,\n",
       "        5.165,  6.525,  5.01 ,  9.045, 13.105, 14.875, 17.53 , 19.88 ,\n",
       "       18.29 , 11.25 ,  8.52 ,  6.605,  5.2  ,  5.675,  6.83 , 11.15 ,\n",
       "       12.56 , 16.85 , 14.45 , 15.52 , 17.06 , 17.655, 11.14 ,  8.3  ,\n",
       "        7.6  ,  7.54 ,  5.27 ,  9.67 , 10.275, 15.4  , 17.67 , 14.635,\n",
       "       16.565, 15.61 , 11.84 ,  8.185,  6.835,  6.275,  6.735, 11.48 ,\n",
       "       15.64 , 15.23 , 14.955, 17.14 , 14.615, 14.05 , 10.505,  9.415,\n",
       "        7.545,  7.07 ,  3.005, 11.43 , 11.085, 15.845, 14.26 , 15.265,\n",
       "       14.665, 13.065, 13.73 ,  5.83 ,  7.715,  6.705, 10.28 , 11.1  ,\n",
       "       12.36 , 12.945, 16.75 , 19.435, 14.58 , 15.34 , 10.335,  8.48 ,\n",
       "        6.675,  6.55 , 10.855,  8.965, 10.79 , 14.845, 15.235, 15.635,\n",
       "       16.46 , 15.27 , 11.89 ,  6.545,  6.815,  8.305,  5.415,  9.97 ,\n",
       "       13.605, 14.075, 15.825, 18.615, 16.14 , 14.935, 12.605,  5.9  ,\n",
       "        7.025,  6.77 ,  9.825, 11.165, 12.41 , 13.85 , 15.54 , 16.29 ,\n",
       "       16.3  , 13.07 , 13.14 ,  9.16 ,  7.26 ,  6.19 ,  9.665, 12.335,\n",
       "       13.035, 12.805, 15.855, 16.735, 15.725, 15.73 , 12.12 ,  9.02 ,\n",
       "        9.315,  6.965,  5.99 ,  7.35 , 15.38 , 13.29 , 15.42 , 16.615,\n",
       "       18.545, 16.315, 13.12 , 10.315,  5.98 ,  2.71 ,  1.92 ,  7.77 ,\n",
       "       11.12 , 14.33 , 14.85 , 17.18 , 18.175, 14.55 , 11.115, 10.165,\n",
       "        4.305,  2.315,  6.17 ,  8.06 , 13.695, 15.195, 16.905, 18.385,\n",
       "       18.18 , 16.225, 12.055,  7.92 ,  7.035,  6.555,  3.86 ,  9.985,\n",
       "       10.67 , 14.115, 15.75 , 17.065, 14.915, 13.5  , 10.695,  9.245,\n",
       "        8.32 ,  7.07 ,  9.03 ,  7.795, 11.73 , 14.96 , 16.245, 15.39 ,\n",
       "       18.61 , 15.24 , 14.45 ,  8.295,  7.195,  7.355,  8.68 ,  8.885,\n",
       "       11.49 , 14.795, 16.95 , 17.49 , 16.405, 14.32 , 13.05 ,  6.965,\n",
       "        6.93 ,  6.155,  5.99 , 13.425, 15.425, 13.91 , 14.745, 15.935,\n",
       "       14.305, 13.21 , 11.485,  9.59 ,  4.9  ,  4.87 ,  6.01 ,  7.975,\n",
       "       13.245, 16.38 , 14.655, 17.66 , 15.625, 13.945, 10.8  ,  9.595,\n",
       "        2.255,  3.695,  6.02 ,  7.445, 12.19 , 13.5  , 16.54 , 15.735,\n",
       "       16.08 , 15.865, 12.41 , 10.08 ,  5.995,  5.535,  5.58 ,  9.055,\n",
       "       12.715, 15.24 , 13.715, 18.245, 18.58 , 13.765, 11.49 ,  9.21 ,\n",
       "        7.055,  2.86 ,  6.045, 10.87 , 11.905, 13.62 , 14.575, 16.705,\n",
       "       16.205, 13.435, 10.81 ,  8.12 ,  6.93 ,  4.445,  5.255, 10.75 ,\n",
       "       11.34 , 14.53 , 16.18 , 16.78 , 16.815, 17.175, 11.685,  7.795,\n",
       "        6.175,  7.3  ,  8.885, 11.43 , 11.96 , 12.935, 14.39 , 15.235,\n",
       "       18.35 , 15.05 ,  7.19 ,  8.92 ,  8.435,  7.19 ,  7.55 ,  8.69 ,\n",
       "       12.99 , 14.315, 15.05 , 16.925, 16.895, 14.89 , 10.355,  7.155,\n",
       "        4.64 ,  6.525,  5.06 , 10.035, 12.665, 15.81 , 17.625, 19.215,\n",
       "       15.83 , 13.92 , 13.525,  7.285,  7.275,  6.72 ,  6.92 , 11.19 ,\n",
       "       11.77 , 14.29 , 16.315, 16.28 , 15.025, 14.145, 13.525, 10.52 ,\n",
       "        7.99 ,  4.92 ,  7.87 , 11.295, 10.88 , 13.83 , 15.35 , 16.175,\n",
       "       15.52 , 13.825, 11.495,  6.93 ,  6.95 ,  3.29 ,  5.84 ,  9.175,\n",
       "       11.51 , 16.325, 16.745, 15.445, 15.535, 15.925, 12.005,  7.66 ,\n",
       "        8.89 ,  5.52 ,  7.01 ,  9.825, 12.715, 13.345, 16.145, 15.235,\n",
       "       16.595, 14.23 , 11.36 ,  8.975,  6.63 ,  5.205,  5.825, 10.89 ,\n",
       "       12.325, 14.975, 16.185, 15.64 , 15.925, 14.07 , 13.025,  8.775,\n",
       "        5.965,  6.24 ,  5.595, 10.67 , 11.865, 14.85 , 16.525, 16.095,\n",
       "       15.74 , 15.715, 10.515,  9.535,  7.32 ,  8.215,  6.65 ,  8.745,\n",
       "       12.045, 12.835, 14.91 , 18.81 , 16.17 , 14.805, 14.245,  8.285,\n",
       "        7.81 ,  7.17 ,  5.835,  8.15 , 12.725, 13.48 , 14.985, 19.775,\n",
       "       15.795, 14.185, 11.355,  8.86 ,  4.435,  5.59 ,  6.205,  8.645,\n",
       "       13.245, 15.515, 14.825, 16.93 , 17.575, 14.42 , 14.805,  8.81 ,\n",
       "        7.78 ,  6.73 ,  4.31 ,  9.04 , 12.24 , 14.145, 16.235, 16.125,\n",
       "       17.54 , 12.72 , 12.22 ,  9.055,  6.725,  6.4  ,  5.49 ,  7.72 ,\n",
       "       13.42 , 13.265, 16.235, 15.485, 15.915, 15.245, 11.355,  7.48 ,\n",
       "        7.9  ,  7.66 ,  7.02 ,  8.125, 12.54 , 14.855, 14.96 , 17.13 ,\n",
       "       16.315, 15.115, 11.275,  6.6  ,  6.505,  5.515,  7.895, 13.085,\n",
       "       12.395, 14.395, 15.695, 16.76 , 18.36 , 15.615, 13.37 ,  8.185,\n",
       "        8.63 ,  7.645, 10.815, 11.58 , 11.42 , 13.99 , 15.5  , 17.215,\n",
       "       18.485, 11.99 , 12.63 ,  7.46 ,  7.42 ,  9.075,  7.95 ,  9.495,\n",
       "       10.99 , 13.275, 14.655, 17.345, 17.675, 15.32 , 10.875,  8.22 ,\n",
       "        7.105,  6.795,  8.105,  9.44 , 14.085, 15.255, 14.915, 16.69 ,\n",
       "       18.56 , 13.795, 10.31 ,  8.86 ,  7.525,  8.46 ,  4.15 ,  9.99 ,\n",
       "       14.855, 16.005, 15.865, 17.475, 16.79 , 14.4  , 11.655,  6.84 ,\n",
       "        7.875,  7.485,  8.17 , 11.15 , 13.91 , 14.29 , 17.37 , 18.6  ,\n",
       "       18.98 , 13.8  , 11.765,  9.615,  7.665,  7.98 ,  9.59 ,  9.895,\n",
       "       13.82 , 14.865, 15.455, 18.225, 16.925, 13.54 , 12.425,  6.635,\n",
       "        6.87 ,  3.575,  7.36 ,  7.87 , 14.48 , 15.995, 16.955, 15.46 ,\n",
       "       15.61 , 13.425, 11.36 ,  8.925,  6.68 ,  3.08 ,  8.5  , 10.55 ,\n",
       "       10.715, 16.065, 16.99 , 14.935, 16.945, 16.025, 13.535,  7.91 ,\n",
       "        7.805,  8.04 , 10.33 , 12.945, 11.985, 15.75 , 17.055, 18.685,\n",
       "       19.175, 14.205, 11.235,  6.79 ,  7.685,  8.805,  7.775, 10.025,\n",
       "       12.285, 16.16 , 16.685, 17.93 , 15.985, 16.355, 10.38 ,  9.59 ,\n",
       "        7.505,  6.22 , 10.28 , 10.545, 14.635, 15.375, 17.955, 15.79 ,\n",
       "       16.39 , 14.2  , 11.125,  8.55 ,  8.34 ,  6.63 ,  9.255,  8.63 ,\n",
       "       12.885, 14.645, 16.385, 17.495, 18.53 , 12.85 , 14.12 ,  7.535,\n",
       "        6.42 ,  8.09 , 10.305, 10.94 , 11.415, 14.915, 18.235, 17.815,\n",
       "       16.355, 15.235, 10.825,  8.735,  6.91 ,  7.155,  8.295, 11.03 ,\n",
       "       13.015, 17.21 , 18.035, 18.645, 19.865, 16.465, 12.975,  8.115,\n",
       "        6.79 ,  6.685,  9.365, 12.175, 13.6  , 13.165, 16.8  , 16.265,\n",
       "       17.26 , 15.185, 14.195,  7.685,  5.195,  8.005,  6.615, 11.43 ,\n",
       "       13.15 , 16.995, 17.6  , 18.575, 16.115, 16.49 , 12.28 , 10.585,\n",
       "        5.26 ,  4.44 ,  6.465, 10.885, 12.635, 13.97 , 17.05 , 18.75 ,\n",
       "       14.63 , 14.765, 12.25 ,  9.715,  8.545,  8.84 ,  7.165,  9.575,\n",
       "       14.685, 16.475, 16.1  , 18.275, 15.77 , 13.6  , 11.87 ,  7.385,\n",
       "        7.125,  7.99 ,  9.94 , 11.48 , 12.7  , 16.86 , 16.85 , 17.545,\n",
       "       17.91 , 13.6  , 11.015,  9.335,  5.71 ,  4.705,  6.825,  8.44 ,\n",
       "       13.565, 16.075, 15.685, 16.495, 18.37 , 17.435, 13.98 ,  8.685,\n",
       "        6.145,  4.045,  9.17 , 12.65 , 14.415, 14.345, 16.715, 19.13 ,\n",
       "       16.325, 13.285, 11.545, 10.965,  3.765,  7.36 ,  6.78 , 10.66 ,\n",
       "       14.35 , 16.325, 16.765, 15.675, 18.295, 16.165, 14.51 ,  8.885,\n",
       "        8.495,  7.615,  7.625, 12.28 , 17.315, 16.96 , 16.935, 18.89 ,\n",
       "       19.015, 16.985, 11.545,  8.7  ,  8.87 ,  8.01 ,  4.965,  9.925,\n",
       "       13.785, 12.99 , 18.7  , 19.365, 18.57 , 15.715, 12.645,  9.3  ,\n",
       "        7.51 ,  7.83 ,  8.17 , 11.53 , 13.2  , 15.525, 18.515, 17.465,\n",
       "       16.06 , 13.685, 13.22 , 10.4  ,  7.905,  8.77 ,  7.25 , 11.175,\n",
       "       13.465, 15.695, 17.365, 20.525, 20.815, 14.515, 11.685, 10.385,\n",
       "        7.98 ,  8.54 ,  7.615,  9.21 , 11.235, 15.41 , 17.4  , 17.93 ,\n",
       "       18.33 , 17.165, 10.37 ,  8.035,  6.   ,  3.975,  8.805, 13.4  ,\n",
       "       12.985, 17.015, 18.035, 18.175, 16.615, 12.915, 12.84 ,  8.985,\n",
       "        7.805,  7.53 ,  4.38 , 10.155, 15.   , 16.41 , 16.415, 19.285,\n",
       "       18.695, 16.75 , 14.13 ,  9.665,  7.605,  5.55 , 10.22 ,    nan,\n",
       "       14.515, 13.195, 19.1  , 20.33 , 17.73 ,    nan, 14.725,  9.165,\n",
       "        7.925,  7.975, 10.11 , 10.715, 13.6  , 14.025, 15.55 , 18.08 ,\n",
       "       19.295, 16.135, 11.56 , 11.765,  7.625])"
      ]
     },
     "execution_count": 40,
     "metadata": {},
     "output_type": "execute_result"
    }
   ],
   "source": [
    "temp_mean = np.divide(np.add(temp_min_clean, temp_max_clean), 2)\n",
    "temp_mean"
   ]
  },
  {
   "cell_type": "markdown",
   "metadata": {
    "slideshow": {
     "slide_type": "slide"
    }
   },
   "source": [
    "### Using functions"
   ]
  },
  {
   "cell_type": "markdown",
   "metadata": {
    "slideshow": {
     "slide_type": "subslide"
    }
   },
   "source": [
    "This makes it quite easy for us to do math with numpy. For example we could convert our temperature from Celsius to Fahrenheit "
   ]
  },
  {
   "cell_type": "code",
   "execution_count": 41,
   "metadata": {
    "slideshow": {
     "slide_type": "subslide"
    },
    "tags": []
   },
   "outputs": [
    {
     "data": {
      "text/plain": [
       "array([56.768, 59.774, 65.597, 67.091, 64.814, 64.346, 55.094, 47.75 ,\n",
       "       42.719, 44.69 , 44.114, 52.106, 57.803, 58.145, 62.321, 62.789,\n",
       "       62.681, 59.045, 54.365, 45.932, 41.954, 42.242, 44.159, 54.518,\n",
       "       59.945, 58.064, 58.343, 63.176, 64.283, 63.158, 53.222, 45.608,\n",
       "       44.366, 41.522, 45.824, 49.577, 53.303, 61.169, 63.32 , 63.284,\n",
       "       63.887, 57.65 , 51.521, 47.417, 44.123, 42.305, 44.033, 48.416,\n",
       "       56.903, 57.164, 59.576, 63.023, 62.753, 62.051, 50.855, 47.831,\n",
       "       41.297, 43.745, 41.018, 48.281, 55.589, 58.775, 63.554, 67.784,\n",
       "       64.922, 52.25 , 47.336, 43.889, 41.36 , 42.215, 44.294, 52.07 ,\n",
       "       54.608, 62.33 , 58.01 , 59.936, 62.708, 63.779, 52.052, 46.94 ,\n",
       "       45.68 , 45.572, 41.486, 49.406, 50.495, 59.72 , 63.806, 58.343,\n",
       "       61.817, 60.098, 53.312, 46.733, 44.303, 43.295, 44.123, 52.664,\n",
       "       60.152, 59.414, 58.919, 62.852, 58.307, 57.29 , 50.909, 48.947,\n",
       "       45.581, 44.726, 37.409, 52.574, 51.953, 60.521, 57.668, 59.477,\n",
       "       58.397, 55.517, 56.714, 42.494, 45.887, 44.069, 50.504, 51.98 ,\n",
       "       54.248, 55.301, 62.15 , 66.983, 58.244, 59.612, 50.603, 47.264,\n",
       "       44.015, 43.79 , 51.539, 48.137, 51.422, 58.721, 59.423, 60.143,\n",
       "       61.628, 59.486, 53.402, 43.781, 44.267, 46.949, 41.747, 49.946,\n",
       "       56.489, 57.335, 60.485, 65.507, 61.052, 58.883, 54.689, 42.62 ,\n",
       "       44.645, 44.186, 49.685, 52.097, 54.338, 56.93 , 59.972, 61.322,\n",
       "       61.34 , 55.526, 55.652, 48.488, 45.068, 43.142, 49.397, 54.203,\n",
       "       55.463, 55.049, 60.539, 62.123, 60.305, 60.314, 53.816, 48.236,\n",
       "       48.767, 44.537, 42.782, 45.23 , 59.684, 55.922, 59.756, 61.907,\n",
       "       65.381, 61.367, 55.616, 50.567, 42.764, 36.878, 35.456, 45.986,\n",
       "       52.016, 57.794, 58.73 , 62.924, 64.715, 58.19 , 52.007, 50.297,\n",
       "       39.749, 36.167, 43.106, 46.508, 56.651, 59.351, 62.429, 65.093,\n",
       "       64.724, 61.205, 53.699, 46.256, 44.663, 43.799, 38.948, 49.973,\n",
       "       51.206, 57.407, 60.35 , 62.717, 58.847, 56.3  , 51.251, 48.641,\n",
       "       46.976, 44.726, 48.254, 46.031, 53.114, 58.928, 61.241, 59.702,\n",
       "       65.498, 59.432, 58.01 , 46.931, 44.951, 45.239, 47.624, 47.993,\n",
       "       52.682, 58.631, 62.51 , 63.482, 61.529, 57.776, 55.49 , 44.537,\n",
       "       44.474, 43.079, 42.782, 56.165, 59.765, 57.038, 58.541, 60.683,\n",
       "       57.749, 55.778, 52.673, 49.262, 40.82 , 40.766, 42.818, 46.355,\n",
       "       55.841, 61.484, 58.379, 63.788, 60.125, 57.101, 51.44 , 49.271,\n",
       "       36.059, 38.651, 42.836, 45.401, 53.942, 56.3  , 61.772, 60.323,\n",
       "       60.944, 60.557, 54.338, 50.144, 42.791, 41.963, 42.044, 48.299,\n",
       "       54.887, 59.432, 56.687, 64.841, 65.444, 56.777, 52.682, 48.578,\n",
       "       44.699, 37.148, 42.881, 51.566, 53.429, 56.516, 58.235, 62.069,\n",
       "       61.169, 56.183, 51.458, 46.616, 44.474, 40.001, 41.459, 51.35 ,\n",
       "       52.412, 58.154, 61.124, 62.204, 62.267, 62.915, 53.033, 46.031,\n",
       "       43.115, 45.14 , 47.993, 52.574, 53.528, 55.283, 57.902, 59.423,\n",
       "       65.03 , 59.09 , 44.942, 48.056, 47.183, 44.942, 45.59 , 47.642,\n",
       "       55.382, 57.767, 59.09 , 62.465, 62.411, 58.802, 50.639, 44.879,\n",
       "       40.352, 43.745, 41.108, 50.063, 54.797, 60.458, 63.725, 66.587,\n",
       "       60.494, 57.056, 56.345, 45.113, 45.095, 44.096, 44.456, 52.142,\n",
       "       53.186, 57.722, 61.367, 61.304, 59.045, 57.461, 56.345, 50.936,\n",
       "       46.382, 40.856, 46.166, 52.331, 51.584, 56.894, 59.63 , 61.115,\n",
       "       59.936, 56.885, 52.691, 44.474, 44.51 , 37.922, 42.512, 48.515,\n",
       "       52.718, 61.385, 62.141, 59.801, 59.963, 60.665, 53.609, 45.788,\n",
       "       48.002, 41.936, 44.618, 49.685, 54.887, 56.021, 61.061, 59.423,\n",
       "       61.871, 57.614, 52.448, 48.155, 43.934, 41.369, 42.485, 51.602,\n",
       "       54.185, 58.955, 61.133, 60.152, 60.665, 57.326, 55.445, 47.795,\n",
       "       42.737, 43.232, 42.071, 51.206, 53.357, 58.73 , 61.745, 60.971,\n",
       "       60.332, 60.287, 50.927, 49.163, 45.176, 46.787, 43.97 , 47.741,\n",
       "       53.681, 55.103, 58.838, 65.858, 61.106, 58.649, 57.641, 46.913,\n",
       "       46.058, 44.906, 42.503, 46.67 , 54.905, 56.264, 58.973, 67.595,\n",
       "       60.431, 57.533, 52.439, 47.948, 39.983, 42.062, 43.169, 47.561,\n",
       "       55.841, 59.927, 58.685, 62.474, 63.635, 57.956, 58.649, 47.858,\n",
       "       46.004, 44.114, 39.758, 48.272, 54.032, 57.461, 61.223, 61.025,\n",
       "       63.572, 54.896, 53.996, 48.299, 44.105, 43.52 , 41.882, 45.896,\n",
       "       56.156, 55.877, 61.223, 59.873, 60.647, 59.441, 52.439, 45.464,\n",
       "       46.22 , 45.788, 44.636, 46.625, 54.572, 58.739, 58.928, 62.834,\n",
       "       61.367, 59.207, 52.295, 43.88 , 43.709, 41.927, 46.211, 55.553,\n",
       "       54.311, 57.911, 60.251, 62.168, 65.048, 60.107, 56.066, 46.733,\n",
       "       47.534, 45.761, 51.467, 52.844, 52.556, 57.182, 59.9  , 62.987,\n",
       "       65.273, 53.582, 54.734, 45.428, 45.356, 48.335, 46.31 , 49.091,\n",
       "       51.782, 55.895, 58.379, 63.221, 63.815, 59.576, 51.575, 46.796,\n",
       "       44.789, 44.231, 46.589, 48.992, 57.353, 59.459, 58.847, 62.042,\n",
       "       65.408, 56.831, 50.558, 47.948, 45.545, 47.228, 39.47 , 49.982,\n",
       "       58.739, 60.809, 60.557, 63.455, 62.222, 57.92 , 52.979, 44.312,\n",
       "       46.175, 45.473, 46.706, 52.07 , 57.038, 57.722, 63.266, 65.48 ,\n",
       "       66.164, 56.84 , 53.177, 49.307, 45.797, 46.364, 49.262, 49.811,\n",
       "       56.876, 58.757, 59.819, 64.805, 62.465, 56.372, 54.365, 43.943,\n",
       "       44.366, 38.435, 45.248, 46.166, 58.064, 60.791, 62.519, 59.828,\n",
       "       60.098, 56.165, 52.448, 48.065, 44.024, 37.544, 47.3  , 50.99 ,\n",
       "       51.287, 60.917, 62.582, 58.883, 62.501, 60.845, 56.363, 46.238,\n",
       "       46.049, 46.472, 50.594, 55.301, 53.573, 60.35 , 62.699, 65.633,\n",
       "       66.515, 57.569, 52.223, 44.222, 45.833, 47.849, 45.995, 50.045,\n",
       "       54.113, 61.088, 62.033, 64.274, 60.773, 61.439, 50.684, 49.262,\n",
       "       45.509, 43.196, 50.504, 50.981, 58.343, 59.675, 64.319, 60.422,\n",
       "       61.502, 57.56 , 52.025, 47.39 , 47.012, 43.934, 48.659, 47.534,\n",
       "       55.193, 58.361, 61.493, 63.491, 65.354, 55.13 , 57.416, 45.563,\n",
       "       43.556, 46.562, 50.549, 51.692, 52.547, 58.847, 64.823, 64.067,\n",
       "       61.439, 59.423, 51.485, 47.723, 44.438, 44.879, 46.931, 51.854,\n",
       "       55.427, 62.978, 64.463, 65.561, 67.757, 61.637, 55.355, 46.607,\n",
       "       44.222, 44.033, 48.857, 53.915, 56.48 , 55.697, 62.24 , 61.277,\n",
       "       63.068, 59.333, 57.551, 45.833, 41.351, 46.409, 43.907, 52.574,\n",
       "       55.67 , 62.591, 63.68 , 65.435, 61.007, 61.682, 54.104, 51.053,\n",
       "       41.468, 39.992, 43.637, 51.593, 54.743, 57.146, 62.69 , 65.75 ,\n",
       "       58.334, 58.577, 54.05 , 49.487, 47.381, 47.912, 44.897, 49.235,\n",
       "       58.433, 61.655, 60.98 , 64.895, 60.386, 56.48 , 53.366, 45.293,\n",
       "       44.825, 46.382, 49.892, 52.664, 54.86 , 62.348, 62.33 , 63.581,\n",
       "       64.238, 56.48 , 51.827, 48.803, 42.278, 40.469, 44.285, 47.192,\n",
       "       56.417, 60.935, 60.233, 61.691, 65.066, 63.383, 57.164, 47.633,\n",
       "       43.061, 39.281, 48.506, 54.77 , 57.947, 57.821, 62.087, 66.434,\n",
       "       61.385, 55.913, 52.781, 51.737, 38.777, 45.248, 44.204, 51.188,\n",
       "       57.83 , 61.385, 62.177, 60.215, 64.931, 61.097, 58.118, 47.993,\n",
       "       47.291, 45.707, 45.725, 54.104, 63.167, 62.528, 62.483, 66.002,\n",
       "       66.227, 62.573, 52.781, 47.66 , 47.966, 46.418, 40.937, 49.865,\n",
       "       56.813, 55.382, 65.66 , 66.857, 65.426, 60.287, 54.761, 48.74 ,\n",
       "       45.518, 46.094, 46.706, 52.754, 55.76 , 59.945, 65.327, 63.437,\n",
       "       60.908, 56.633, 55.796, 50.72 , 46.229, 47.786, 45.05 , 52.115,\n",
       "       56.237, 60.251, 63.257, 68.945, 69.467, 58.127, 53.033, 50.693,\n",
       "       46.364, 47.372, 45.707, 48.578, 52.223, 59.738, 63.32 , 64.274,\n",
       "       64.994, 62.897, 50.666, 46.463, 42.8  , 39.155, 47.849, 56.12 ,\n",
       "       55.373, 62.627, 64.463, 64.715, 61.907, 55.247, 55.112, 48.173,\n",
       "       46.049, 45.554, 39.884, 50.279, 59.   , 61.538, 61.547, 66.713,\n",
       "       65.651, 62.15 , 57.434, 49.397, 45.689, 41.99 , 50.396,    nan,\n",
       "       58.127, 55.751, 66.38 , 68.594, 63.914,    nan, 58.505, 48.497,\n",
       "       46.265, 46.355, 50.198, 51.287, 56.48 , 57.245, 59.99 , 64.544,\n",
       "       66.731, 61.043, 52.808, 53.177, 45.725])"
      ]
     },
     "execution_count": 41,
     "metadata": {},
     "output_type": "execute_result"
    }
   ],
   "source": [
    "mean_clean_F = 1.8 * temp_mean + 32\n",
    "mean_clean_F"
   ]
  }
 ],
 "metadata": {
  "celltoolbar": "Slideshow",
  "kernelspec": {
   "display_name": "Python 3 (ipykernel)",
   "language": "python",
   "name": "python3"
  },
  "language_info": {
   "codemirror_mode": {
    "name": "ipython",
    "version": 3
   },
   "file_extension": ".py",
   "mimetype": "text/x-python",
   "name": "python",
   "nbconvert_exporter": "python",
   "pygments_lexer": "ipython3",
   "version": "3.9.6"
  },
  "toc": {
   "base_numbering": 1,
   "nav_menu": {},
   "number_sections": true,
   "sideBar": true,
   "skip_h1_title": false,
   "title_cell": "Table of Contents",
   "title_sidebar": "Contents",
   "toc_cell": false,
   "toc_position": {
    "height": "calc(100% - 180px)",
    "left": "10px",
    "top": "150px",
    "width": "165px"
   },
   "toc_section_display": true,
   "toc_window_display": false
  }
 },
 "nbformat": 4,
 "nbformat_minor": 4
}
